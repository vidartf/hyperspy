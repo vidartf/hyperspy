{
 "cells": [
  {
   "cell_type": "markdown",
   "metadata": {},
   "source": [
    "# EDS doc"
   ]
  },
  {
   "cell_type": "markdown",
   "metadata": {},
   "source": [
    "Examples in the EDS chapter"
   ]
  },
  {
   "cell_type": "code",
   "execution_count": 1,
   "metadata": {
    "collapsed": false
   },
   "outputs": [
    {
     "name": "stderr",
     "output_type": "stream",
     "text": [
      "/home/fjd29/Anaconda/anaconda2/lib/python2.7/site-packages/sklearn/pls.py:7: DeprecationWarning: This module has been moved to cross_decomposition and will be removed in 0.16\n",
      "  \"removed in 0.16\", DeprecationWarning)\n"
     ]
    }
   ],
   "source": [
    "# %hyperspy -r qt4\n",
    "import numpy as np\n",
    "import hyperspy.api as hs\n",
    "%matplotlib qt4\n",
    "import matplotlib.pyplot as plt\n",
    "\n"
   ]
  },
  {
   "cell_type": "markdown",
   "metadata": {},
   "source": [
    "## Spectrum loading and parameters"
   ]
  },
  {
   "cell_type": "code",
   "execution_count": 2,
   "metadata": {
    "collapsed": false
   },
   "outputs": [
    {
     "data": {
      "text/plain": [
       "('Ni_superalloy_011.raw', <httplib.HTTPMessage instance at 0x7f71346b80e0>)"
      ]
     },
     "execution_count": 2,
     "metadata": {},
     "output_type": "execute_result"
    }
   ],
   "source": [
    "from urllib import urlretrieve\n",
    "url = 'http://cook.msm.cam.ac.uk//~pb565//EDS_tutorial//'\n",
    "urlretrieve(url + 'Ni_superalloy_1pix.msa', 'Ni_superalloy_1pix.msa')\n",
    "urlretrieve(url + 'Ni_superalloy_010.rpl', 'Ni_superalloy_010.rpl')\n",
    "urlretrieve(url + 'Ni_superalloy_010.raw', 'Ni_superalloy_010.raw')\n",
    "urlretrieve(url + 'Ni_superalloy_011.rpl', 'Ni_superalloy_011.rpl')\n",
    "urlretrieve(url + 'Ni_superalloy_011.raw', 'Ni_superalloy_011.raw')"
   ]
  },
  {
   "cell_type": "code",
   "execution_count": 3,
   "metadata": {
    "collapsed": false
   },
   "outputs": [
    {
     "name": "stderr",
     "output_type": "stream",
     "text": [
      "/home/fjd29/Python/hyperspy/hyperspy/io_plugins/msa.py:226: UserWarning: I couldn't write the date information due toan unexpected error. Please report this error to the developers\n",
      "  warnings.warn(\"I couldn't write the date information due to\"\n"
     ]
    },
    {
     "data": {
      "text/plain": [
       "<Spectrum, title: Spectrum 2, dimensions: (|1024)>"
      ]
     },
     "execution_count": 3,
     "metadata": {},
     "output_type": "execute_result"
    }
   ],
   "source": [
    "s = hs.load(\"Ni_superalloy_1pix.msa\")\n",
    "s"
   ]
  },
  {
   "cell_type": "code",
   "execution_count": 4,
   "metadata": {
    "collapsed": false
   },
   "outputs": [
    {
     "name": "stdout",
     "output_type": "stream",
     "text": [
      "Loading as Image\n"
     ]
    },
    {
     "data": {
      "text/plain": [
       "<Spectrum, title: , dimensions: (256, 224|1024)>"
      ]
     },
     "execution_count": 4,
     "metadata": {},
     "output_type": "execute_result"
    }
   ],
   "source": [
    "si = hs.load(\"Ni_superalloy_010.rpl\").as_spectrum(0)\n",
    "si"
   ]
  },
  {
   "cell_type": "code",
   "execution_count": 5,
   "metadata": {
    "collapsed": false
   },
   "outputs": [
    {
     "name": "stdout",
     "output_type": "stream",
     "text": [
      "\n",
      "Loading individual files\n",
      "Loading as Image\n",
      "Loading as Image\n",
      "\n",
      "Individual files loaded correctly\n",
      "\n",
      "\tTitle: doc_docstr_examples\n",
      "\tSignal type: \n",
      "\tData dimensions: (1024, 2, 256, 224)\n",
      "\tData representation: image\n",
      "\tData type: uint8\n"
     ]
    },
    {
     "data": {
      "text/plain": [
       "<Spectrum, title: doc_docstr_examples, dimensions: (256, 224, 2|1024)>"
      ]
     },
     "execution_count": 5,
     "metadata": {},
     "output_type": "execute_result"
    }
   ],
   "source": [
    "si4D = hs.load(\"Ni_superalloy_0*.rpl\", stack=True)\n",
    "si4D = si4D.as_spectrum(0)\n",
    "si4D"
   ]
  },
  {
   "cell_type": "code",
   "execution_count": 6,
   "metadata": {
    "collapsed": false
   },
   "outputs": [
    {
     "data": {
      "text/plain": [
       "<EDSSEMSpectrum, title: Spectrum 2, dimensions: (|1024)>"
      ]
     },
     "execution_count": 6,
     "metadata": {},
     "output_type": "execute_result"
    }
   ],
   "source": [
    "s.set_signal_type(\"EDS_SEM\")\n",
    "s"
   ]
  },
  {
   "cell_type": "code",
   "execution_count": 7,
   "metadata": {
    "collapsed": false
   },
   "outputs": [
    {
     "data": {
      "text/plain": [
       "<EDSSEMSpectrum, title: Spectrum 2, dimensions: (|1024)>"
      ]
     },
     "execution_count": 7,
     "metadata": {},
     "output_type": "execute_result"
    }
   ],
   "source": [
    "s = hs.load(\"Ni_superalloy_1pix.msa\", signal_type=\"EDS_SEM\")\n",
    "s"
   ]
  },
  {
   "cell_type": "code",
   "execution_count": 8,
   "metadata": {
    "collapsed": false
   },
   "outputs": [
    {
     "data": {
      "text/plain": [
       "├── Detector\n",
       "│   └── EDS\n",
       "│       ├── azimuth_angle = 63.0\n",
       "│       ├── elevation_angle = 35.0\n",
       "│       ├── energy_resolution_MnKa = 130.0\n",
       "│       ├── live_time = 0.006855\n",
       "│       └── real_time = 0.0\n",
       "├── beam_current = 0.0\n",
       "├── beam_energy = 15.0\n",
       "└── tilt_stage = 38.0"
      ]
     },
     "execution_count": 8,
     "metadata": {},
     "output_type": "execute_result"
    }
   ],
   "source": [
    "s = hs.load(\"Ni_superalloy_1pix.msa\", signal_type=\"EDS_SEM\")\n",
    "s.metadata.Acquisition_instrument.SEM"
   ]
  },
  {
   "cell_type": "code",
   "execution_count": 9,
   "metadata": {
    "collapsed": false
   },
   "outputs": [],
   "source": [
    "s = hs.load(\"Ni_superalloy_1pix.msa\", signal_type=\"EDS_SEM\")\n",
    "s.metadata.Acquisition_instrument.SEM.beam_energy = 30"
   ]
  },
  {
   "cell_type": "code",
   "execution_count": 10,
   "metadata": {
    "collapsed": false
   },
   "outputs": [],
   "source": [
    "s = hs.load(\"Ni_superalloy_1pix.msa\", signal_type=\"EDS_SEM\")\n",
    "s.set_microscope_parameters(beam_energy = 30)"
   ]
  },
  {
   "cell_type": "code",
   "execution_count": 11,
   "metadata": {
    "collapsed": false
   },
   "outputs": [],
   "source": [
    "s = hs.load(\"Ni_superalloy_1pix.msa\", signal_type=\"EDS_SEM\")\n",
    "s.set_microscope_parameters()"
   ]
  },
  {
   "cell_type": "code",
   "execution_count": 12,
   "metadata": {
    "collapsed": false
   },
   "outputs": [
    {
     "name": "stdout",
     "output_type": "stream",
     "text": [
      "Loading as Image\n"
     ]
    }
   ],
   "source": [
    "si = hs.load(\"Ni_superalloy_010.rpl\").as_spectrum(0)"
   ]
  },
  {
   "cell_type": "code",
   "execution_count": 13,
   "metadata": {
    "collapsed": false
   },
   "outputs": [
    {
     "name": "stdout",
     "output_type": "stream",
     "text": [
      "Loading as Image\n"
     ]
    }
   ],
   "source": [
    "si = hs.load(\"Ni_superalloy_010.rpl\", signal_type=\"EDS_SEM\").as_spectrum(0)\n",
    "si.axes_manager[-1].name = 'E'\n",
    "si.axes_manager['E'].units = 'keV'\n",
    "si.axes_manager['E'].scale = 0.01\n",
    "si.axes_manager['E'].offset = -0.1"
   ]
  },
  {
   "cell_type": "code",
   "execution_count": 14,
   "metadata": {
    "collapsed": false
   },
   "outputs": [
    {
     "data": {
      "text/plain": [
       "<EDSSEMSpectrum, title: , dimensions: (256, 224|1024)>"
      ]
     },
     "execution_count": 14,
     "metadata": {},
     "output_type": "execute_result"
    }
   ],
   "source": [
    "si"
   ]
  },
  {
   "cell_type": "code",
   "execution_count": 15,
   "metadata": {
    "collapsed": false
   },
   "outputs": [
    {
     "name": "stdout",
     "output_type": "stream",
     "text": [
      "Loading as Image\n"
     ]
    }
   ],
   "source": [
    "# Load spectrum.msa which contains the parameters\n",
    "s1pixel = hs.load(\"Ni_superalloy_1pix.msa\", signal_type=\"EDS_TEM\")\n",
    "# Load spectrum_image.rpl which contains no parameters\n",
    "si = hs.load(\"Ni_superalloy_010.rpl\", signal_type=\"EDS_TEM\").as_spectrum(0)\n",
    "# Set all the properties of s1pixel to si\n",
    "si.get_calibration_from(s1pixel)"
   ]
  },
  {
   "cell_type": "markdown",
   "metadata": {},
   "source": [
    "## Describing the sample"
   ]
  },
  {
   "cell_type": "code",
   "execution_count": 2,
   "metadata": {
    "collapsed": false
   },
   "outputs": [
    {
     "name": "stdout",
     "output_type": "stream",
     "text": [
      "Fe_Ka line added,\n",
      "Pt_La line added,\n"
     ]
    },
    {
     "data": {
      "text/plain": [
       "├── description = u'FePt bimetallic nanoparticles'\n",
       "├── elements = ['Fe', 'Pt']\n",
       "├── thickness = 100\n",
       "└── xray_lines = ['Fe_Ka', 'Pt_La']"
      ]
     },
     "execution_count": 2,
     "metadata": {},
     "output_type": "execute_result"
    }
   ],
   "source": [
    "s = hs.datasets.example_signals.EDS_TEM_Spectrum()\n",
    "s.add_lines()\n",
    "s.metadata.Sample.thickness = 100\n",
    "s.metadata.Sample"
   ]
  },
  {
   "cell_type": "code",
   "execution_count": 17,
   "metadata": {
    "collapsed": false
   },
   "outputs": [
    {
     "data": {
      "text/plain": [
       "├── description = u'FePt bimetallic nanoparticles'\n",
       "└── elements = ['Cu', 'Fe', 'Pt']"
      ]
     },
     "execution_count": 17,
     "metadata": {},
     "output_type": "execute_result"
    }
   ],
   "source": [
    "s = hs.datasets.example_signals.EDS_TEM_Spectrum()\n",
    "s.set_elements(['Fe', 'Pt'])\n",
    "s.add_elements(['Cu'])\n",
    "s.metadata.Sample"
   ]
  },
  {
   "cell_type": "code",
   "execution_count": 18,
   "metadata": {
    "collapsed": false
   },
   "outputs": [
    {
     "name": "stdout",
     "output_type": "stream",
     "text": [
      "Fe_Ka line added,\n",
      "Pt_La line added,\n",
      "Fe_La line added,\n"
     ]
    },
    {
     "data": {
      "text/plain": [
       "├── description = u'FePt bimetallic nanoparticles'\n",
       "├── elements = ['Fe', 'Pt']\n",
       "└── xray_lines = ['Fe_Ka', 'Fe_La', 'Pt_La']"
      ]
     },
     "execution_count": 18,
     "metadata": {},
     "output_type": "execute_result"
    }
   ],
   "source": [
    "s = hs.datasets.example_signals.EDS_TEM_Spectrum()\n",
    "s.set_elements(['Fe', 'Pt'])\n",
    "s.set_lines(['Fe_Ka', 'Pt_La'])\n",
    "s.add_lines(['Fe_La'])\n",
    "s.metadata.Sample"
   ]
  },
  {
   "cell_type": "code",
   "execution_count": 19,
   "metadata": {
    "collapsed": false
   },
   "outputs": [
    {
     "data": {
      "text/plain": [
       "├── description = u'EDS-TM002 from BAM (www.webshop.bam.de)'\n",
       "└── elements = array(['Al', 'C', 'Cu', 'Mn', 'Zr'], \n",
       "      dtype='|S2')"
      ]
     },
     "execution_count": 19,
     "metadata": {},
     "output_type": "execute_result"
    }
   ],
   "source": [
    "s = hs.datasets.example_signals.EDS_SEM_Spectrum()\n",
    "s.metadata.Sample"
   ]
  },
  {
   "cell_type": "code",
   "execution_count": 20,
   "metadata": {
    "collapsed": false
   },
   "outputs": [
    {
     "name": "stdout",
     "output_type": "stream",
     "text": [
      "Al_Ka line added,\n",
      "Cu_Ka line added,\n",
      "Mn_Ka line added,\n"
     ]
    },
    {
     "data": {
      "text/plain": [
       "├── description = u'EDS-TM002 from BAM (www.webshop.bam.de)'\n",
       "├── elements = ['Al', 'Cu', 'Mn']\n",
       "└── xray_lines = ['Al_Ka', 'Cu_Ka', 'Mn_Ka']"
      ]
     },
     "execution_count": 20,
     "metadata": {},
     "output_type": "execute_result"
    }
   ],
   "source": [
    "s = hs.datasets.example_signals.EDS_SEM_Spectrum()\n",
    "s.set_elements(['Al', 'Cu', 'Mn'])\n",
    "s.set_microscope_parameters(beam_energy=30)\n",
    "s.add_lines()\n",
    "s.metadata.Sample"
   ]
  },
  {
   "cell_type": "code",
   "execution_count": 21,
   "metadata": {
    "collapsed": false
   },
   "outputs": [
    {
     "name": "stdout",
     "output_type": "stream",
     "text": [
      "Al_Ka line added,\n",
      "Cu_La line added,\n",
      "Mn_La line added,\n"
     ]
    },
    {
     "data": {
      "text/plain": [
       "├── description = u'EDS-TM002 from BAM (www.webshop.bam.de)'\n",
       "├── elements = ['Al', 'Cu', 'Mn']\n",
       "└── xray_lines = ['Al_Ka', 'Cu_La', 'Mn_La']"
      ]
     },
     "execution_count": 21,
     "metadata": {},
     "output_type": "execute_result"
    }
   ],
   "source": [
    "s.set_microscope_parameters(beam_energy=10)\n",
    "s.set_lines([])\n",
    "s.metadata.Sample"
   ]
  },
  {
   "cell_type": "code",
   "execution_count": 22,
   "metadata": {
    "collapsed": false
   },
   "outputs": [
    {
     "name": "stdout",
     "output_type": "stream",
     "text": [
      "Mn_Ka line added,\n"
     ]
    },
    {
     "name": "stderr",
     "output_type": "stream",
     "text": [
      "/home/fjd29/Python/hyperspy/hyperspy/_signals/eds.py:466: UserWarning: Mn_Ka is not in the data energy range.\n",
      "  warnings.warn(\"%s is not in the data energy range.\" % (xray))\n"
     ]
    }
   ],
   "source": [
    "s = hs.datasets.example_signals.EDS_SEM_Spectrum()\n",
    "s.set_elements(['Mn'])\n",
    "s.set_microscope_parameters(beam_energy=5)\n",
    "s.add_lines([\"Mn_Ka\"])"
   ]
  },
  {
   "cell_type": "code",
   "execution_count": 23,
   "metadata": {
    "collapsed": false
   },
   "outputs": [
    {
     "name": "stdout",
     "output_type": "stream",
     "text": [
      "Mn_Ka line added,\n"
     ]
    }
   ],
   "source": [
    "s = hs.datasets.example_signals.EDS_SEM_Spectrum()\n",
    "s.set_elements(['Mn'])\n",
    "s.set_microscope_parameters(beam_energy=5)\n",
    "s.add_lines(['Mn_Ka'])"
   ]
  },
  {
   "cell_type": "code",
   "execution_count": 24,
   "metadata": {
    "collapsed": false
   },
   "outputs": [
    {
     "name": "stdout",
     "output_type": "stream",
     "text": [
      "Warning: Mn_Ka is not in the data energy range.\n"
     ]
    }
   ],
   "source": [
    "s.plot(True)"
   ]
  },
  {
   "cell_type": "code",
   "execution_count": 25,
   "metadata": {
    "collapsed": false
   },
   "outputs": [
    {
     "data": {
      "text/plain": [
       "├── Z = 26\n",
       "├── atomic_weight = 55.845\n",
       "└── name = iron"
      ]
     },
     "execution_count": 25,
     "metadata": {},
     "output_type": "execute_result"
    }
   ],
   "source": [
    "hs.material.elements.Fe.General_properties"
   ]
  },
  {
   "cell_type": "code",
   "execution_count": 26,
   "metadata": {
    "collapsed": false
   },
   "outputs": [
    {
     "data": {
      "text/plain": [
       "└── density (g/cm^3) = 7.874"
      ]
     },
     "execution_count": 26,
     "metadata": {},
     "output_type": "execute_result"
    }
   ],
   "source": [
    "hs.material.elements.Fe.Physical_properties"
   ]
  },
  {
   "cell_type": "code",
   "execution_count": 27,
   "metadata": {
    "collapsed": false
   },
   "outputs": [
    {
     "data": {
      "text/plain": [
       "├── Ka\n",
       "│   ├── energy (keV) = 6.4039\n",
       "│   └── weight = 1.0\n",
       "├── Kb\n",
       "│   ├── energy (keV) = 7.058\n",
       "│   └── weight = 0.1272\n",
       "├── La\n",
       "│   ├── energy (keV) = 0.7045\n",
       "│   └── weight = 1.0\n",
       "├── Lb3\n",
       "│   ├── energy (keV) = 0.7921\n",
       "│   └── weight = 0.02448\n",
       "├── Ll\n",
       "│   ├── energy (keV) = 0.6152\n",
       "│   └── weight = 0.3086\n",
       "└── Ln\n",
       "    ├── energy (keV) = 0.6282\n",
       "    └── weight = 0.12525"
      ]
     },
     "execution_count": 27,
     "metadata": {},
     "output_type": "execute_result"
    }
   ],
   "source": [
    "hs.material.elements.Fe.Atomic_properties.Xray_lines"
   ]
  },
  {
   "cell_type": "markdown",
   "metadata": {},
   "source": [
    "## Plotting"
   ]
  },
  {
   "cell_type": "code",
   "execution_count": 28,
   "metadata": {
    "collapsed": false
   },
   "outputs": [],
   "source": [
    "s = hs.datasets.example_signals.EDS_SEM_Spectrum()\n",
    "s.plot()"
   ]
  },
  {
   "cell_type": "code",
   "execution_count": 29,
   "metadata": {
    "collapsed": false
   },
   "outputs": [],
   "source": [
    "s = hs.datasets.example_signals.EDS_SEM_Spectrum()\n",
    "s.add_elements(['C','Mn','Cu','Al','Zr'])\n",
    "s.plot(True)"
   ]
  },
  {
   "cell_type": "code",
   "execution_count": 30,
   "metadata": {
    "collapsed": false
   },
   "outputs": [],
   "source": [
    "s = hs.datasets.example_signals.EDS_SEM_Spectrum()\n",
    "s.add_elements(['C','Mn','Cu','Al','Zr'])\n",
    "s.plot(True, only_lines=['Ka','b'])"
   ]
  },
  {
   "cell_type": "markdown",
   "metadata": {},
   "source": [
    "## Get lines intensity"
   ]
  },
  {
   "cell_type": "code",
   "execution_count": 31,
   "metadata": {
    "collapsed": false
   },
   "outputs": [
    {
     "data": {
      "text/plain": [
       "('core_shell.hdf5', <httplib.HTTPMessage instance at 0x7f71324fb098>)"
      ]
     },
     "execution_count": 31,
     "metadata": {},
     "output_type": "execute_result"
    }
   ],
   "source": [
    "from urllib import urlretrieve\n",
    "url = 'http://cook.msm.cam.ac.uk//~pb565//EDS_tutorial//'\n",
    "urlretrieve(url + 'core_shell.hdf5', 'core_shell.hdf5')"
   ]
  },
  {
   "cell_type": "code",
   "execution_count": 32,
   "metadata": {
    "collapsed": false
   },
   "outputs": [
    {
     "name": "stderr",
     "output_type": "stream",
     "text": [
      "/home/fjd29/Anaconda/anaconda2/lib/python2.7/site-packages/matplotlib/axes/_base.py:1057: UnicodeWarning: Unicode equal comparison failed to convert both arguments to Unicode - interpreting them as being unequal\n",
      "  if aspect == 'normal':\n",
      "/home/fjd29/Anaconda/anaconda2/lib/python2.7/site-packages/matplotlib/axes/_base.py:1062: UnicodeWarning: Unicode equal comparison failed to convert both arguments to Unicode - interpreting them as being unequal\n",
      "  elif aspect in ('equal', 'auto'):\n"
     ]
    },
    {
     "data": {
      "text/plain": [
       "[<Image, title: X-ray line intensity of Core shell: Fe_Ka at 6.40 keV, dimensions: (|64, 64)>]"
      ]
     },
     "execution_count": 32,
     "metadata": {},
     "output_type": "execute_result"
    }
   ],
   "source": [
    "s = hs.load('core_shell.hdf5')\n",
    "s.get_lines_intensity(['Fe_Ka'],plot_result=True)"
   ]
  },
  {
   "cell_type": "code",
   "execution_count": 33,
   "metadata": {
    "collapsed": false
   },
   "outputs": [
    {
     "name": "stdout",
     "output_type": "stream",
     "text": [
      "Fe_Ka line added,\n",
      "Pt_La line added,\n"
     ]
    },
    {
     "data": {
      "text/plain": [
       "[<Image, title: X-ray line intensity of Core shell: Fe_Ka at 6.40 keV, dimensions: (|64, 64)>,\n",
       " <Image, title: X-ray line intensity of Core shell: Pt_La at 9.44 keV, dimensions: (|64, 64)>]"
      ]
     },
     "execution_count": 33,
     "metadata": {},
     "output_type": "execute_result"
    }
   ],
   "source": [
    "s = hs.load('core_shell.hdf5')\n",
    "s.set_lines(['Fe_Ka', 'Pt_La'])\n",
    "s.get_lines_intensity()"
   ]
  },
  {
   "cell_type": "code",
   "execution_count": 34,
   "metadata": {
    "collapsed": false
   },
   "outputs": [
    {
     "name": "stdout",
     "output_type": "stream",
     "text": [
      "Fe_Ka line added,\n",
      "Pt_La line added,\n"
     ]
    }
   ],
   "source": [
    "s = hs.datasets.example_signals.EDS_TEM_Spectrum()[5.:13.]\n",
    "s.add_lines()\n",
    "s.plot(integration_windows='auto')"
   ]
  },
  {
   "cell_type": "code",
   "execution_count": 35,
   "metadata": {
    "collapsed": false
   },
   "outputs": [
    {
     "name": "stdout",
     "output_type": "stream",
     "text": [
      "Fe_Ka line added,\n",
      "Pt_La line added,\n"
     ]
    },
    {
     "data": {
      "text/plain": [
       "[<Signal, title: X-ray line intensity of EDS TEM Spectrum: Fe_Ka at 6.40 keV, dimensions: (|)>,\n",
       " <Signal, title: X-ray line intensity of EDS TEM Spectrum: Pt_La at 9.44 keV, dimensions: (|)>]"
      ]
     },
     "execution_count": 35,
     "metadata": {},
     "output_type": "execute_result"
    }
   ],
   "source": [
    "#estimate_background_windows()\n",
    "s = hs.datasets.example_signals.EDS_TEM_Spectrum()[5.:13.]\n",
    "s.add_lines()\n",
    "bw = s.estimate_background_windows(line_width=[5.0, 2.0])\n",
    "s.plot(background_windows=bw)\n",
    "s.get_lines_intensity(background_windows=bw, plot_result=False)"
   ]
  },
  {
   "cell_type": "markdown",
   "metadata": {},
   "source": [
    "## Quant"
   ]
  },
  {
   "cell_type": "code",
   "execution_count": 36,
   "metadata": {
    "collapsed": false
   },
   "outputs": [
    {
     "name": "stdout",
     "output_type": "stream",
     "text": [
      "Fe_Ka line added,\n",
      "Pt_La line added,\n"
     ]
    }
   ],
   "source": [
    "s = hs.datasets.example_signals.EDS_TEM_Spectrum()\n",
    "s.add_lines()\n",
    "kfactors = [1.450226, 5.075602] #For Fe Ka and Pt La\n",
    "bw = s.estimate_background_windows(line_width=[5.0, 2.0])\n",
    "intensities = s.get_lines_intensity(background_windows=bw)"
   ]
  },
  {
   "cell_type": "code",
   "execution_count": 37,
   "metadata": {
    "collapsed": false
   },
   "outputs": [
    {
     "data": {
      "text/plain": [
       "[<Signal, title: X-ray line intensity of EDS TEM Spectrum: Fe_Ka at 6.40 keV, dimensions: (|)>,\n",
       " <Signal, title: X-ray line intensity of EDS TEM Spectrum: Pt_La at 9.44 keV, dimensions: (|)>]"
      ]
     },
     "execution_count": 37,
     "metadata": {},
     "output_type": "execute_result"
    }
   ],
   "source": [
    "intensities"
   ]
  },
  {
   "cell_type": "code",
   "execution_count": 38,
   "metadata": {
    "collapsed": false
   },
   "outputs": [
    {
     "data": {
      "text/plain": [
       "<Axes manager, axes: (|)>"
      ]
     },
     "execution_count": 38,
     "metadata": {},
     "output_type": "execute_result"
    }
   ],
   "source": [
    "intensities[0].axes_manager"
   ]
  },
  {
   "cell_type": "code",
   "execution_count": 39,
   "metadata": {
    "collapsed": true
   },
   "outputs": [],
   "source": [
    "intensities = hs.stack(intensities)"
   ]
  },
  {
   "cell_type": "code",
   "execution_count": 40,
   "metadata": {
    "collapsed": false
   },
   "outputs": [
    {
     "data": {
      "text/plain": [
       "[<Signal, title: Stack of X-ray line intensity of EDS TEM Spectrum: Fe_Ka at 6.40 keV, dimensions: (|)>,\n",
       " <Signal, title: Stack of X-ray line intensity of EDS TEM Spectrum: Fe_Ka at 6.40 keV, dimensions: (|)>]"
      ]
     },
     "execution_count": 40,
     "metadata": {},
     "output_type": "execute_result"
    }
   ],
   "source": [
    "intensities.split(axis=0)"
   ]
  },
  {
   "cell_type": "code",
   "execution_count": 41,
   "metadata": {
    "collapsed": false
   },
   "outputs": [
    {
     "ename": "IndexError",
     "evalue": "in the future, 0-d boolean arrays will be interpreted as a valid boolean index",
     "output_type": "error",
     "traceback": [
      "\u001b[1;31m---------------------------------------------------------------------------\u001b[0m",
      "\u001b[1;31mIndexError\u001b[0m                                Traceback (most recent call last)",
      "\u001b[1;32m<ipython-input-41-066c77ff5104>\u001b[0m in \u001b[0;36m<module>\u001b[1;34m()\u001b[0m\n\u001b[1;32m----> 1\u001b[1;33m \u001b[0mweight_percent\u001b[0m \u001b[1;33m=\u001b[0m \u001b[0ms\u001b[0m\u001b[1;33m.\u001b[0m\u001b[0mquantification\u001b[0m\u001b[1;33m(\u001b[0m\u001b[0mintensities\u001b[0m\u001b[1;33m,\u001b[0m \u001b[0mkfactors\u001b[0m\u001b[1;33m,\u001b[0m \u001b[0mplot_result\u001b[0m\u001b[1;33m=\u001b[0m\u001b[0mFalse\u001b[0m\u001b[1;33m)\u001b[0m\u001b[1;33m\u001b[0m\u001b[0m\n\u001b[0m",
      "\u001b[1;32m/home/fjd29/Python/hyperspy/hyperspy/_signals/eds_tem.pyc\u001b[0m in \u001b[0;36mquantification\u001b[1;34m(self, intensities, kfactors, composition_units, navigation_mask, closing, plot_result, **kwargs)\u001b[0m\n\u001b[0;32m    328\u001b[0m         composition.data = utils_eds.quantification_cliff_lorimer(\n\u001b[0;32m    329\u001b[0m             \u001b[0mcomposition\u001b[0m\u001b[1;33m.\u001b[0m\u001b[0mdata\u001b[0m\u001b[1;33m,\u001b[0m \u001b[0mkfactors\u001b[0m\u001b[1;33m=\u001b[0m\u001b[0mkfactors\u001b[0m\u001b[1;33m,\u001b[0m\u001b[1;33m\u001b[0m\u001b[0m\n\u001b[1;32m--> 330\u001b[1;33m             mask=navigation_mask) * 100.\n\u001b[0m\u001b[0;32m    331\u001b[0m         \u001b[0mcomposition\u001b[0m \u001b[1;33m=\u001b[0m \u001b[0mcomposition\u001b[0m\u001b[1;33m.\u001b[0m\u001b[0msplit\u001b[0m\u001b[1;33m(\u001b[0m\u001b[1;33m)\u001b[0m\u001b[1;33m\u001b[0m\u001b[0m\n\u001b[0;32m    332\u001b[0m         \u001b[1;32mif\u001b[0m \u001b[0mcomposition_units\u001b[0m \u001b[1;33m==\u001b[0m \u001b[1;34m'atomic'\u001b[0m\u001b[1;33m:\u001b[0m\u001b[1;33m\u001b[0m\u001b[0m\n",
      "\u001b[1;32m/home/fjd29/Python/hyperspy/hyperspy/misc/eds/utils.pyc\u001b[0m in \u001b[0;36mquantification_cliff_lorimer\u001b[1;34m(intensities, kfactors, mask)\u001b[0m\n\u001b[0;32m    232\u001b[0m         \u001b[1;32mif\u001b[0m \u001b[0mmask\u001b[0m \u001b[1;32mis\u001b[0m \u001b[1;32mnot\u001b[0m \u001b[0mNone\u001b[0m\u001b[1;33m:\u001b[0m\u001b[1;33m\u001b[0m\u001b[0m\n\u001b[0;32m    233\u001b[0m             \u001b[1;32mfor\u001b[0m \u001b[0mi\u001b[0m \u001b[1;32min\u001b[0m \u001b[0mrange\u001b[0m\u001b[1;33m(\u001b[0m\u001b[0mdim\u001b[0m\u001b[1;33m[\u001b[0m\u001b[1;36m0\u001b[0m\u001b[1;33m]\u001b[0m\u001b[1;33m)\u001b[0m\u001b[1;33m:\u001b[0m\u001b[1;33m\u001b[0m\u001b[0m\n\u001b[1;32m--> 234\u001b[1;33m                 \u001b[0mintens\u001b[0m\u001b[1;33m[\u001b[0m\u001b[0mi\u001b[0m\u001b[1;33m]\u001b[0m\u001b[1;33m[\u001b[0m\u001b[0mmask\u001b[0m\u001b[1;33m]\u001b[0m \u001b[1;33m=\u001b[0m \u001b[1;36m0\u001b[0m\u001b[1;33m\u001b[0m\u001b[0m\n\u001b[0m\u001b[0;32m    235\u001b[0m         \u001b[1;32mreturn\u001b[0m \u001b[0mintens\u001b[0m\u001b[1;33m\u001b[0m\u001b[0m\n\u001b[0;32m    236\u001b[0m     \u001b[1;32melse\u001b[0m\u001b[1;33m:\u001b[0m\u001b[1;33m\u001b[0m\u001b[0m\n",
      "\u001b[1;31mIndexError\u001b[0m: in the future, 0-d boolean arrays will be interpreted as a valid boolean index"
     ]
    }
   ],
   "source": [
    "weight_percent = s.quantification(intensities, kfactors, plot_result=False)"
   ]
  },
  {
   "cell_type": "code",
   "execution_count": null,
   "metadata": {
    "collapsed": false
   },
   "outputs": [],
   "source": [
    "%debug"
   ]
  },
  {
   "cell_type": "code",
   "execution_count": null,
   "metadata": {
    "collapsed": false
   },
   "outputs": [],
   "source": [
    "s.quantification(intensities, kfactors, plot_result=True,\n",
    "composition_units='atomic')"
   ]
  },
  {
   "cell_type": "code",
   "execution_count": null,
   "metadata": {
    "collapsed": false
   },
   "outputs": [],
   "source": [
    "hs.material.weight_to_atomic(weight_percent)"
   ]
  },
  {
   "cell_type": "code",
   "execution_count": null,
   "metadata": {
    "collapsed": false
   },
   "outputs": [],
   "source": []
  }
 ],
 "metadata": {
  "kernelspec": {
   "display_name": "Python 2",
   "language": "python",
   "name": "python2"
  },
  "language_info": {
   "codemirror_mode": {
    "name": "ipython",
    "version": 2
   },
   "file_extension": ".py",
   "mimetype": "text/x-python",
   "name": "python",
   "nbconvert_exporter": "python",
   "pygments_lexer": "ipython2",
   "version": "2.7.10"
  }
 },
 "nbformat": 4,
 "nbformat_minor": 0
}
