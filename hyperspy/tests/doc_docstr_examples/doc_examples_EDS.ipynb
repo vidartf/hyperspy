{
 "metadata": {
  "name": "",
  "signature": "sha256:52329b90d97c5535aec2f88fdbcecb3886d1d939607f3b37b7ea38f262b5bfd8"
 },
 "nbformat": 3,
 "nbformat_minor": 0,
 "worksheets": [
  {
   "cells": [
    {
     "cell_type": "heading",
     "level": 1,
     "metadata": {},
     "source": [
      "EDS doc"
     ]
    },
    {
     "cell_type": "markdown",
     "metadata": {},
     "source": [
      "Examples in the EDS chapter"
     ]
    },
    {
     "cell_type": "code",
     "collapsed": false,
     "input": [
      "%matplotlib qt\n",
      "#%matplotlib inline"
     ],
     "language": "python",
     "metadata": {},
     "outputs": [],
     "prompt_number": 41
    },
    {
     "cell_type": "heading",
     "level": 2,
     "metadata": {},
     "source": [
      "Spectrum loading and parameters"
     ]
    },
    {
     "cell_type": "code",
     "collapsed": false,
     "input": [
      "    >>> from urllib import urlretrieve\n",
      "    >>> url = 'http://cook.msm.cam.ac.uk//~pb565//EDS_tutorial//'\n",
      "    >>> urlretrieve(url + 'Ni_superalloy_1pix.msa', 'Ni_superalloy_1pix.msa')\n",
      "    >>> urlretrieve(url + 'Ni_superalloy_010.rpl', 'Ni_superalloy_010.rpl')\n",
      "    >>> urlretrieve(url + 'Ni_superalloy_010.raw', 'Ni_superalloy_010.raw')\n",
      "    >>> urlretrieve(url + 'Ni_superalloy_011.rpl', 'Ni_superalloy_011.rpl')\n",
      "    >>> urlretrieve(url + 'Ni_superalloy_011.raw', 'Ni_superalloy_011.raw')"
     ],
     "language": "python",
     "metadata": {},
     "outputs": [
      {
       "metadata": {},
       "output_type": "pyout",
       "prompt_number": 42,
       "text": [
        "('Ni_superalloy_011.raw', <httplib.HTTPMessage instance at 0x0000000017734EC8>)"
       ]
      }
     ],
     "prompt_number": 42
    },
    {
     "cell_type": "code",
     "collapsed": false,
     "input": [
      "    >>> s = load(\"Ni_superalloy_1pix.msa\")  \n",
      "    >>> s"
     ],
     "language": "python",
     "metadata": {},
     "outputs": [
      {
       "metadata": {},
       "output_type": "pyout",
       "prompt_number": 43,
       "text": [
        "<Spectrum, title: Spectrum 2, dimensions: (|1024)>"
       ]
      }
     ],
     "prompt_number": 43
    },
    {
     "cell_type": "code",
     "collapsed": false,
     "input": [
      "    >>> si = load(\"Ni_superalloy_010.rpl\").as_spectrum(0)\n",
      "    >>> si"
     ],
     "language": "python",
     "metadata": {},
     "outputs": [
      {
       "output_type": "stream",
       "stream": "stdout",
       "text": [
        "Loading as Image\n"
       ]
      },
      {
       "metadata": {},
       "output_type": "pyout",
       "prompt_number": 44,
       "text": [
        "<Spectrum, title: , dimensions: (256, 224|1024)>"
       ]
      }
     ],
     "prompt_number": 44
    },
    {
     "cell_type": "code",
     "collapsed": false,
     "input": [
      "    >>> si4D = load(\"Ni_superalloy_0*.rpl\", stack=True)  \n",
      "    >>> si4D = si4D.as_spectrum(0) \n",
      "    >>> si4D"
     ],
     "language": "python",
     "metadata": {},
     "outputs": [
      {
       "output_type": "stream",
       "stream": "stdout",
       "text": [
        "\n",
        "Loading individual files\n",
        "Loading as Image\n",
        "Loading as Image\n",
        "\n"
       ]
      },
      {
       "output_type": "stream",
       "stream": "stdout",
       "text": [
        "Individual files loaded correctly\n",
        "\n",
        "\tTitle: doc_docstr\n",
        "\tSignal type: \n",
        "\tData dimensions: (1024, 2, 256, 224)\n",
        "\tData representation: image\n",
        "\tData type: uint8\n"
       ]
      },
      {
       "metadata": {},
       "output_type": "pyout",
       "prompt_number": 45,
       "text": [
        "<Spectrum, title: doc_docstr, dimensions: (256, 224, 2|1024)>"
       ]
      }
     ],
     "prompt_number": 45
    },
    {
     "cell_type": "code",
     "collapsed": false,
     "input": [
      "    >>> s.set_signal_type(\"EDS_SEM\")\n",
      "    >>> s"
     ],
     "language": "python",
     "metadata": {},
     "outputs": [
      {
       "metadata": {},
       "output_type": "pyout",
       "prompt_number": 46,
       "text": [
        "<EDSSEMSpectrum, title: Spectrum 2, dimensions: (|1024)>"
       ]
      }
     ],
     "prompt_number": 46
    },
    {
     "cell_type": "code",
     "collapsed": false,
     "input": [
      "    >>> s = load(\"Ni_superalloy_1pix.msa\", signal_type=\"EDS_SEM\")\n",
      "    >>> s"
     ],
     "language": "python",
     "metadata": {},
     "outputs": [
      {
       "metadata": {},
       "output_type": "pyout",
       "prompt_number": 47,
       "text": [
        "<EDSSEMSpectrum, title: Spectrum 2, dimensions: (|1024)>"
       ]
      }
     ],
     "prompt_number": 47
    },
    {
     "cell_type": "code",
     "collapsed": false,
     "input": [
      "    >>> s = load(\"Ni_superalloy_1pix.msa\", signal_type=\"EDS_SEM\")\n",
      "    >>> s.metadata.Acquisition_instrument.SEM"
     ],
     "language": "python",
     "metadata": {},
     "outputs": [
      {
       "metadata": {},
       "output_type": "pyout",
       "prompt_number": 48,
       "text": [
        "\u251c\u2500\u2500 Detector\n",
        "\u2502   \u2514\u2500\u2500 EDS\n",
        "\u2502       \u251c\u2500\u2500 azimuth_angle = 63.0\n",
        "\u2502       \u251c\u2500\u2500 elevation_angle = 35.0\n",
        "\u2502       \u251c\u2500\u2500 energy_resolution_MnKa = 130.0\n",
        "\u2502       \u251c\u2500\u2500 live_time = 0.006855\n",
        "\u2502       \u2514\u2500\u2500 real_time = 0.0\n",
        "\u251c\u2500\u2500 beam_current = 0.0\n",
        "\u251c\u2500\u2500 beam_energy = 15.0\n",
        "\u2514\u2500\u2500 tilt_stage = 38.0"
       ]
      }
     ],
     "prompt_number": 48
    },
    {
     "cell_type": "code",
     "collapsed": false,
     "input": [
      "    >>> s = load(\"Ni_superalloy_1pix.msa\", signal_type=\"EDS_SEM\")\n",
      "    >>> s.metadata.Acquisition_instrument.SEM.beam_energy = 30"
     ],
     "language": "python",
     "metadata": {},
     "outputs": [],
     "prompt_number": 49
    },
    {
     "cell_type": "code",
     "collapsed": false,
     "input": [
      "    >>> s = load(\"Ni_superalloy_1pix.msa\", signal_type=\"EDS_SEM\")\n",
      "    >>> s.set_microscope_parameters(beam_energy = 30)"
     ],
     "language": "python",
     "metadata": {},
     "outputs": [],
     "prompt_number": 50
    },
    {
     "cell_type": "code",
     "collapsed": false,
     "input": [
      "    >>> s = load(\"Ni_superalloy_1pix.msa\", signal_type=\"EDS_SEM\")\n",
      "    >>> s.set_microscope_parameters()"
     ],
     "language": "python",
     "metadata": {},
     "outputs": [],
     "prompt_number": 51
    },
    {
     "cell_type": "code",
     "collapsed": false,
     "input": [
      "    >>> si = load(\"Ni_superalloy_010.rpl\").as_spectrum(0)"
     ],
     "language": "python",
     "metadata": {},
     "outputs": [
      {
       "output_type": "stream",
       "stream": "stdout",
       "text": [
        "Loading as Image\n"
       ]
      }
     ],
     "prompt_number": 52
    },
    {
     "cell_type": "code",
     "collapsed": false,
     "input": [
      "s.axes_manager.gui()"
     ],
     "language": "python",
     "metadata": {},
     "outputs": [],
     "prompt_number": 53
    },
    {
     "cell_type": "code",
     "collapsed": false,
     "input": [
      "    >>> si = load(\"Ni_superalloy_010.rpl\", signal_type=\"EDS_SEM\").as_spectrum(0)\n",
      "    >>> si.axes_manager[-1].name = 'E'\n",
      "    >>> si.axes_manager['E'].units = 'keV'\n",
      "    >>> si.axes_manager['E'].scale = 0.01\n",
      "    >>> si.axes_manager['E'].offset = -0.1"
     ],
     "language": "python",
     "metadata": {},
     "outputs": [
      {
       "output_type": "stream",
       "stream": "stdout",
       "text": [
        "Loading as Image\n"
       ]
      }
     ],
     "prompt_number": 54
    },
    {
     "cell_type": "code",
     "collapsed": false,
     "input": [
      "si"
     ],
     "language": "python",
     "metadata": {},
     "outputs": [
      {
       "metadata": {},
       "output_type": "pyout",
       "prompt_number": 55,
       "text": [
        "<EDSSEMSpectrum, title: , dimensions: (256, 224|1024)>"
       ]
      }
     ],
     "prompt_number": 55
    },
    {
     "cell_type": "code",
     "collapsed": false,
     "input": [
      "    >>> # Load spectrum.msa which contains the parameters\n",
      "    >>> s1pixel = load(\"Ni_superalloy_1pix.msa\", signal_type=\"EDS_TEM\")\n",
      "    >>> # Load spectrum_image.rpl which contains no parameters\n",
      "    >>> si = load(\"Ni_superalloy_010.rpl\", signal_type=\"EDS_TEM\").as_spectrum(0)\n",
      "    >>> # Set all the properties of s1pixel to si\n",
      "    >>> si.get_calibration_from(s1pixel)"
     ],
     "language": "python",
     "metadata": {},
     "outputs": [
      {
       "output_type": "stream",
       "stream": "stdout",
       "text": [
        "Loading as Image\n"
       ]
      }
     ],
     "prompt_number": 56
    },
    {
     "cell_type": "heading",
     "level": 2,
     "metadata": {},
     "source": [
      "Describing the sample"
     ]
    },
    {
     "cell_type": "code",
     "collapsed": false,
     "input": [
      "    >>> s = utils.example_signals.EDS_TEM_Spectrum()\n",
      "    >>> s.add_lines()\n",
      "    >>> s.metadata.Sample.thickness = 100\n",
      "    >>> s.metadata.Sample"
     ],
     "language": "python",
     "metadata": {},
     "outputs": [
      {
       "output_type": "stream",
       "stream": "stdout",
       "text": [
        "Fe_Ka line added,\n",
        "Pt_La line added,\n"
       ]
      },
      {
       "metadata": {},
       "output_type": "pyout",
       "prompt_number": 57,
       "text": [
        "\u251c\u2500\u2500 description = FePt bimetallic nanoparticles\n",
        "\u251c\u2500\u2500 elements = ['Fe', 'Pt']\n",
        "\u251c\u2500\u2500 thickness = 100\n",
        "\u2514\u2500\u2500 xray_lines = ['Fe_Ka', 'Pt_La']"
       ]
      }
     ],
     "prompt_number": 57
    },
    {
     "cell_type": "code",
     "collapsed": false,
     "input": [
      "    >>> s = utils.example_signals.EDS_TEM_Spectrum()\n",
      "    >>> s.set_elements(['Fe', 'Pt'])\n",
      "    >>> s.add_elements(['Cu'])\n",
      "    >>> s.metadata.Sample"
     ],
     "language": "python",
     "metadata": {},
     "outputs": [
      {
       "metadata": {},
       "output_type": "pyout",
       "prompt_number": 58,
       "text": [
        "\u251c\u2500\u2500 description = FePt bimetallic nanoparticles\n",
        "\u2514\u2500\u2500 elements = ['Cu', 'Fe', 'Pt']"
       ]
      }
     ],
     "prompt_number": 58
    },
    {
     "cell_type": "code",
     "collapsed": false,
     "input": [
      "    >>> s = utils.example_signals.EDS_TEM_Spectrum()\n",
      "    >>> s.set_elements(['Fe', 'Pt'])\n",
      "    >>> s.set_lines(['Fe_Ka', 'Pt_La'])\n",
      "    >>> s.add_lines(['Fe_La'])\n",
      "    >>> s.metadata.Sample"
     ],
     "language": "python",
     "metadata": {},
     "outputs": [
      {
       "output_type": "stream",
       "stream": "stdout",
       "text": [
        "Fe_Ka line added,\n",
        "Pt_La line added,\n",
        "Fe_La line added,\n"
       ]
      },
      {
       "metadata": {},
       "output_type": "pyout",
       "prompt_number": 59,
       "text": [
        "\u251c\u2500\u2500 description = FePt bimetallic nanoparticles\n",
        "\u251c\u2500\u2500 elements = ['Fe', 'Pt']\n",
        "\u2514\u2500\u2500 xray_lines = ['Fe_Ka', 'Fe_La', 'Pt_La']"
       ]
      }
     ],
     "prompt_number": 59
    },
    {
     "cell_type": "code",
     "collapsed": false,
     "input": [
      "    >>> s = utils.example_signals.EDS_SEM_Spectrum()\n",
      "    >>> s.metadata.Sample"
     ],
     "language": "python",
     "metadata": {},
     "outputs": [
      {
       "metadata": {},
       "output_type": "pyout",
       "prompt_number": 60,
       "text": [
        "\u251c\u2500\u2500 description = EDS-TM002 from BAM (www.webshop.bam.de)\n",
        "\u2514\u2500\u2500 elements = ['Al' 'C' 'Cu' 'Mn' 'Zr']"
       ]
      }
     ],
     "prompt_number": 60
    },
    {
     "cell_type": "code",
     "collapsed": false,
     "input": [
      "    >>> s = utils.example_signals.EDS_SEM_Spectrum()\n",
      "    >>> s.set_elements(['Al', 'Cu', 'Mn'])\n",
      "    >>> s.set_microscope_parameters(beam_energy=30)\n",
      "    >>> s.add_lines()\n",
      "    >>> s.metadata.Sample"
     ],
     "language": "python",
     "metadata": {},
     "outputs": [
      {
       "output_type": "stream",
       "stream": "stdout",
       "text": [
        "Al_Ka line added,\n",
        "Cu_Ka line added,\n",
        "Mn_Ka line added,\n"
       ]
      },
      {
       "metadata": {},
       "output_type": "pyout",
       "prompt_number": 61,
       "text": [
        "\u251c\u2500\u2500 description = EDS-TM002 from BAM (www.webshop.bam.de)\n",
        "\u251c\u2500\u2500 elements = ['Al', 'Cu', 'Mn']\n",
        "\u2514\u2500\u2500 xray_lines = ['Al_Ka', 'Cu_Ka', 'Mn_Ka']"
       ]
      }
     ],
     "prompt_number": 61
    },
    {
     "cell_type": "code",
     "collapsed": false,
     "input": [
      "    >>> s.set_microscope_parameters(beam_energy=10)\n",
      "    >>> s.set_lines([])\n",
      "    >>> s.metadata.Sample"
     ],
     "language": "python",
     "metadata": {},
     "outputs": [
      {
       "output_type": "stream",
       "stream": "stdout",
       "text": [
        "Al_Ka line added,\n",
        "Cu_La line added,\n",
        "Mn_La line added,\n"
       ]
      },
      {
       "metadata": {},
       "output_type": "pyout",
       "prompt_number": 62,
       "text": [
        "\u251c\u2500\u2500 description = EDS-TM002 from BAM (www.webshop.bam.de)\n",
        "\u251c\u2500\u2500 elements = ['Al', 'Cu', 'Mn']\n",
        "\u2514\u2500\u2500 xray_lines = ['Al_Ka', 'Cu_La', 'Mn_La']"
       ]
      }
     ],
     "prompt_number": 62
    },
    {
     "cell_type": "code",
     "collapsed": false,
     "input": [
      "    >>> s = utils.example_signals.EDS_SEM_Spectrum()\n",
      "    >>> s.set_elements(['Mn'])\n",
      "    >>> s.set_microscope_parameters(beam_energy=5)\n",
      "    >>> s.add_lines([\"Mn_Ka\"])"
     ],
     "language": "python",
     "metadata": {},
     "outputs": [
      {
       "output_type": "stream",
       "stream": "stdout",
       "text": [
        "Mn_Ka line added,\n"
       ]
      }
     ],
     "prompt_number": 63
    },
    {
     "cell_type": "code",
     "collapsed": false,
     "input": [
      "    >>> s = utils.example_signals.EDS_SEM_Spectrum()\n",
      "    >>> s.set_elements(['Mn'])\n",
      "    >>> s.set_microscope_parameters(beam_energy=5)\n",
      "    >>> s.add_lines(['Mn_Ka'])"
     ],
     "language": "python",
     "metadata": {},
     "outputs": [
      {
       "output_type": "stream",
       "stream": "stdout",
       "text": [
        "Mn_Ka line added,\n"
       ]
      }
     ],
     "prompt_number": 64
    },
    {
     "cell_type": "code",
     "collapsed": false,
     "input": [
      "s.plot(True)"
     ],
     "language": "python",
     "metadata": {},
     "outputs": [
      {
       "output_type": "stream",
       "stream": "stdout",
       "text": [
        "Warning: Mn_Ka is not in the data energy range.\n"
       ]
      }
     ],
     "prompt_number": 65
    },
    {
     "cell_type": "code",
     "collapsed": false,
     "input": [
      "    >>> utils.material.elements.Fe.General_properties"
     ],
     "language": "python",
     "metadata": {},
     "outputs": [
      {
       "metadata": {},
       "output_type": "pyout",
       "prompt_number": 66,
       "text": [
        "\u251c\u2500\u2500 Z = 26\n",
        "\u251c\u2500\u2500 atomic_weight = 55.845\n",
        "\u2514\u2500\u2500 name = iron"
       ]
      }
     ],
     "prompt_number": 66
    },
    {
     "cell_type": "code",
     "collapsed": false,
     "input": [
      "    >>> utils.material.elements.Fe.Physical_properties"
     ],
     "language": "python",
     "metadata": {},
     "outputs": [
      {
       "metadata": {},
       "output_type": "pyout",
       "prompt_number": 67,
       "text": [
        "\u2514\u2500\u2500 density (g/cm^3) = 7.874"
       ]
      }
     ],
     "prompt_number": 67
    },
    {
     "cell_type": "code",
     "collapsed": false,
     "input": [
      "    >>> utils.material.elements.Fe.Atomic_properties.Xray_lines"
     ],
     "language": "python",
     "metadata": {},
     "outputs": [
      {
       "metadata": {},
       "output_type": "pyout",
       "prompt_number": 68,
       "text": [
        "\u251c\u2500\u2500 Ka\n",
        "\u2502   \u251c\u2500\u2500 energy (keV) = 6.4039\n",
        "\u2502   \u2514\u2500\u2500 weight = 1.0\n",
        "\u251c\u2500\u2500 Kb\n",
        "\u2502   \u251c\u2500\u2500 energy (keV) = 7.058\n",
        "\u2502   \u2514\u2500\u2500 weight = 0.1272\n",
        "\u251c\u2500\u2500 La\n",
        "\u2502   \u251c\u2500\u2500 energy (keV) = 0.7045\n",
        "\u2502   \u2514\u2500\u2500 weight = 1.0\n",
        "\u251c\u2500\u2500 Lb3\n",
        "\u2502   \u251c\u2500\u2500 energy (keV) = 0.7921\n",
        "\u2502   \u2514\u2500\u2500 weight = 0.02448\n",
        "\u251c\u2500\u2500 Ll\n",
        "\u2502   \u251c\u2500\u2500 energy (keV) = 0.6152\n",
        "\u2502   \u2514\u2500\u2500 weight = 0.3086\n",
        "\u2514\u2500\u2500 Ln\n",
        "    \u251c\u2500\u2500 energy (keV) = 0.6282\n",
        "    \u2514\u2500\u2500 weight = 0.12525"
       ]
      }
     ],
     "prompt_number": 68
    },
    {
     "cell_type": "heading",
     "level": 2,
     "metadata": {},
     "source": [
      "Plotting"
     ]
    },
    {
     "cell_type": "code",
     "collapsed": false,
     "input": [
      "    >>> s = utils.example_signals.EDS_SEM_Spectrum()\n",
      "    >>> s.plot()"
     ],
     "language": "python",
     "metadata": {},
     "outputs": [],
     "prompt_number": 69
    },
    {
     "cell_type": "code",
     "collapsed": false,
     "input": [
      "    >>> s = utils.example_signals.EDS_SEM_Spectrum()\n",
      "    >>> s.add_elements(['C','Mn','Cu','Al','Zr'])\n",
      "    >>> s.plot(True)"
     ],
     "language": "python",
     "metadata": {},
     "outputs": [],
     "prompt_number": 70
    },
    {
     "cell_type": "code",
     "collapsed": false,
     "input": [
      "    >>> s = utils.example_signals.EDS_SEM_Spectrum()\n",
      "    >>> s.add_elements(['C','Mn','Cu','Al','Zr'])\n",
      "    >>> s.plot(True, only_lines=['Ka','b'])"
     ],
     "language": "python",
     "metadata": {},
     "outputs": [],
     "prompt_number": 71
    },
    {
     "cell_type": "heading",
     "level": 2,
     "metadata": {},
     "source": [
      "Get lines intensity"
     ]
    },
    {
     "cell_type": "code",
     "collapsed": false,
     "input": [
      "    >>> from urllib import urlretrieve\n",
      "    >>> url = 'http://cook.msm.cam.ac.uk//~pb565//EDS_tutorial//'\n",
      "    >>> urlretrieve(url + 'core_shell.hdf5', 'core_shell.hdf5')"
     ],
     "language": "python",
     "metadata": {},
     "outputs": [
      {
       "metadata": {},
       "output_type": "pyout",
       "prompt_number": 72,
       "text": [
        "('core_shell.hdf5', <httplib.HTTPMessage instance at 0x0000000017ED1DC8>)"
       ]
      }
     ],
     "prompt_number": 72
    },
    {
     "cell_type": "code",
     "collapsed": false,
     "input": [
      "    >>> s = load('core_shell.hdf5')\n",
      "    >>> s.get_lines_intensity(['Fe_Ka'],plot_result=True)"
     ],
     "language": "python",
     "metadata": {},
     "outputs": [
      {
       "metadata": {},
       "output_type": "pyout",
       "prompt_number": 73,
       "text": [
        "[<Image, title: X-ray line intensity of Core shell: Fe_Ka at 6.40 keV, dimensions: (|64, 64)>]"
       ]
      }
     ],
     "prompt_number": 73
    },
    {
     "cell_type": "code",
     "collapsed": false,
     "input": [
      "    >>> s = load('core_shell.hdf5')\n",
      "    >>> s.set_lines(['Fe_Ka', 'Pt_La'])\n",
      "    >>> s.get_lines_intensity()"
     ],
     "language": "python",
     "metadata": {},
     "outputs": [
      {
       "output_type": "stream",
       "stream": "stdout",
       "text": [
        "Fe_Ka line added,\n",
        "Pt_La line added,\n"
       ]
      },
      {
       "metadata": {},
       "output_type": "pyout",
       "prompt_number": 74,
       "text": [
        "[<Image, title: X-ray line intensity of Core shell: Fe_Ka at 6.40 keV, dimensions: (|64, 64)>,\n",
        " <Image, title: X-ray line intensity of Core shell: Pt_La at 9.44 keV, dimensions: (|64, 64)>]"
       ]
      }
     ],
     "prompt_number": 74
    },
    {
     "cell_type": "code",
     "collapsed": false,
     "input": [
      "    >>> s = utils.example_signals.EDS_TEM_Spectrum()[5.:13.]\n",
      "    >>> s.add_lines()\n",
      "    >>> s.plot(integration_windows='auto')"
     ],
     "language": "python",
     "metadata": {},
     "outputs": [
      {
       "output_type": "stream",
       "stream": "stdout",
       "text": [
        "Fe_Ka line added,\n",
        "Pt_La line added,\n"
       ]
      }
     ],
     "prompt_number": 75
    },
    {
     "cell_type": "code",
     "collapsed": false,
     "input": [
      "    >>> #estimate_background_windows()\n",
      "    >>> s = utils.example_signals.EDS_TEM_Spectrum()[5.:13.]\n",
      "    >>> s.add_lines()\n",
      "    >>> bw = s.estimate_background_windows(line_width=[5.0, 2.0])\n",
      "    >>> s.plot(background_windows=bw)\n",
      "    >>> s.get_lines_intensity(background_windows=bw, plot_result=True)"
     ],
     "language": "python",
     "metadata": {},
     "outputs": [
      {
       "output_type": "stream",
       "stream": "stdout",
       "text": [
        "Fe_Ka line added,\n",
        "Pt_La line added,\n",
        "Fe_Ka at 6.4039 keV : Intensity = 2754.00"
       ]
      },
      {
       "output_type": "stream",
       "stream": "stdout",
       "text": [
        "\n",
        "Pt_La at 9.4421 keV : Intensity = 15090.00\n"
       ]
      },
      {
       "metadata": {},
       "output_type": "pyout",
       "prompt_number": 76,
       "text": [
        "[<Signal, title: X-ray line intensity of EDS TEM Spectrum: Fe_Ka at 6.40 keV, dimensions: (|)>,\n",
        " <Signal, title: X-ray line intensity of EDS TEM Spectrum: Pt_La at 9.44 keV, dimensions: (|)>]"
       ]
      }
     ],
     "prompt_number": 76
    },
    {
     "cell_type": "heading",
     "level": 2,
     "metadata": {},
     "source": [
      "Quant"
     ]
    },
    {
     "cell_type": "code",
     "collapsed": false,
     "input": [
      "    >>> s = utils.example_signals.EDS_TEM_Spectrum()\n",
      "    >>> s.add_lines()\n",
      "    >>> kfactors = [1.450226, 5.075602] #For Fe Ka and Pt La\n",
      "    >>> bw = s.estimate_background_windows(line_width=[5.0, 2.0])\n",
      "    >>> intensities = s.get_lines_intensity(background_windows=bw)\n",
      "    >>> weight_percent = s.quantification(intensities, kfactors, plot_result=True)"
     ],
     "language": "python",
     "metadata": {},
     "outputs": [
      {
       "output_type": "stream",
       "stream": "stdout",
       "text": [
        "Fe_Ka line added,\n",
        "Pt_La line added,\n",
        "Fe (Fe_Ka): Composition = 4.96 weight percent"
       ]
      },
      {
       "output_type": "stream",
       "stream": "stdout",
       "text": [
        "\n",
        "Pt (Pt_La): Composition = 95.04 weight percent\n"
       ]
      }
     ],
     "prompt_number": 77
    },
    {
     "cell_type": "code",
     "collapsed": false,
     "input": [
      "    >>> s.quantification(intensities, kfactors, plot_result=True,\n",
      "    >>>                  composition_units='atomic')"
     ],
     "language": "python",
     "metadata": {},
     "outputs": [
      {
       "output_type": "stream",
       "stream": "stdout",
       "text": [
        "Fe (Fe_Ka): Composition = 15.41 atomic percent\n",
        "Pt (Pt_La): Composition = 84.59 atomic percent\n"
       ]
      },
      {
       "metadata": {},
       "output_type": "pyout",
       "prompt_number": 78,
       "text": [
        "[<Signal, title: atomic percent of Fe, dimensions: (|)>,\n",
        " <Signal, title: atomic percent of Pt, dimensions: (|)>]"
       ]
      }
     ],
     "prompt_number": 78
    },
    {
     "cell_type": "code",
     "collapsed": false,
     "input": [
      "    >>> utils.material.weight_to_atomic(weight_percent)"
     ],
     "language": "python",
     "metadata": {},
     "outputs": [
      {
       "metadata": {},
       "output_type": "pyout",
       "prompt_number": 79,
       "text": [
        "[<Signal, title: weight percent of Fe, dimensions: (|)>,\n",
        " <Signal, title: weight percent of Pt, dimensions: (|)>]"
       ]
      }
     ],
     "prompt_number": 79
    },
    {
     "cell_type": "code",
     "collapsed": false,
     "input": [],
     "language": "python",
     "metadata": {},
     "outputs": [],
     "prompt_number": 79
    }
   ],
   "metadata": {}
  }
 ]
}