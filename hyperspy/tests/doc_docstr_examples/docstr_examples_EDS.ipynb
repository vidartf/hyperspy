{
 "cells": [
  {
   "cell_type": "code",
   "execution_count": 1,
   "metadata": {
    "collapsed": false
   },
   "outputs": [],
   "source": [
    "%matplotlib qt4\n",
    "import numpy as np\n",
    "import hyperspy.api as hs\n",
    "import matplotlib.pyplot as plt\n",
    "\n"
   ]
  },
  {
   "cell_type": "markdown",
   "metadata": {},
   "source": [
    "# Doc-string examples for EDS"
   ]
  },
  {
   "cell_type": "markdown",
   "metadata": {},
   "source": [
    "## Loading signal examples"
   ]
  },
  {
   "cell_type": "code",
   "execution_count": 2,
   "metadata": {
    "collapsed": false
   },
   "outputs": [
    {
     "name": "stderr",
     "output_type": "stream",
     "text": [
      "/home/to266/dev/hyperspy/hyperspy/signals.py:54: VisibleDeprecationWarning: The Signal1D class will be deprecated from version 1.0.0 and replaced with Signal1D\n",
      "  VisibleDeprecationWarning)\n"
     ]
    }
   ],
   "source": [
    "s = hs.datasets.example_signals.EDS_SEM_Spectrum()\n",
    "s.plot(True)"
   ]
  },
  {
   "cell_type": "code",
   "execution_count": 3,
   "metadata": {
    "collapsed": false
   },
   "outputs": [
    {
     "name": "stderr",
     "output_type": "stream",
     "text": [
      "/home/to266/dev/hyperspy/hyperspy/signals.py:54: VisibleDeprecationWarning: The Signal1D class will be deprecated from version 1.0.0 and replaced with Signal1D\n",
      "  VisibleDeprecationWarning)\n"
     ]
    }
   ],
   "source": [
    "s = hs.datasets.example_signals.EDS_SEM_Spectrum()\n",
    "s.plot()"
   ]
  },
  {
   "cell_type": "code",
   "execution_count": 4,
   "metadata": {
    "collapsed": false
   },
   "outputs": [
    {
     "name": "stderr",
     "output_type": "stream",
     "text": [
      "/home/to266/dev/hyperspy/hyperspy/signals.py:54: VisibleDeprecationWarning: The Signal1D class will be deprecated from version 1.0.0 and replaced with Signal1D\n",
      "  VisibleDeprecationWarning)\n"
     ]
    }
   ],
   "source": [
    "s = hs.datasets.example_signals.EDS_TEM_Spectrum()\n",
    "s.plot(True)"
   ]
  },
  {
   "cell_type": "markdown",
   "metadata": {},
   "source": [
    "## eds"
   ]
  },
  {
   "cell_type": "code",
   "execution_count": 5,
   "metadata": {
    "collapsed": false
   },
   "outputs": [
    {
     "name": "stderr",
     "output_type": "stream",
     "text": [
      "/home/to266/dev/hyperspy/hyperspy/signals.py:54: VisibleDeprecationWarning: The Signal1D class will be deprecated from version 1.0.0 and replaced with Signal1D\n",
      "  VisibleDeprecationWarning)\n"
     ]
    },
    {
     "data": {
      "text/plain": [
       "array([1000279])"
      ]
     },
     "execution_count": 5,
     "metadata": {},
     "output_type": "execute_result"
    }
   ],
   "source": [
    "#Sum()\n",
    "s = hs.datasets.example_signals.EDS_SEM_Spectrum()\n",
    "s.sum(0).data"
   ]
  },
  {
   "cell_type": "code",
   "execution_count": 6,
   "metadata": {
    "collapsed": false
   },
   "outputs": [
    {
     "name": "stdout",
     "output_type": "stream",
     "text": [
      "<EDSSEMSpectrum, title: EDS SEM Signal1D, dimensions: (|1024)>\n",
      "<EDSSEMSpectrum, title: EDS SEM Signal1D, dimensions: (|512)>\n"
     ]
    },
    {
     "name": "stderr",
     "output_type": "stream",
     "text": [
      "/home/to266/dev/hyperspy/hyperspy/signals.py:54: VisibleDeprecationWarning: The Signal1D class will be deprecated from version 1.0.0 and replaced with Signal1D\n",
      "  VisibleDeprecationWarning)\n"
     ]
    }
   ],
   "source": [
    "#rebin()\n",
    "s = hs.datasets.example_signals.EDS_SEM_Spectrum()\n",
    "print(s)\n",
    "print(s.rebin([512]))"
   ]
  },
  {
   "cell_type": "code",
   "execution_count": 7,
   "metadata": {
    "collapsed": false
   },
   "outputs": [
    {
     "name": "stdout",
     "output_type": "stream",
     "text": [
      "['Al' 'C' 'Cu' 'Mn' 'Zr']\n",
      "['Al']\n"
     ]
    },
    {
     "name": "stderr",
     "output_type": "stream",
     "text": [
      "/home/to266/dev/hyperspy/hyperspy/signals.py:54: VisibleDeprecationWarning: The Signal1D class will be deprecated from version 1.0.0 and replaced with Signal1D\n",
      "  VisibleDeprecationWarning)\n"
     ]
    }
   ],
   "source": [
    "#set_elements()\n",
    "s = hs.datasets.example_signals.EDS_SEM_Spectrum()\n",
    "print(s.metadata.Sample.elements)\n",
    "s.set_elements(['Al'])\n",
    "print(s.metadata.Sample.elements)"
   ]
  },
  {
   "cell_type": "code",
   "execution_count": 8,
   "metadata": {
    "collapsed": false
   },
   "outputs": [
    {
     "name": "stdout",
     "output_type": "stream",
     "text": [
      "['Al' 'C' 'Cu' 'Mn' 'Zr']\n",
      "['Al', 'Ar', 'C', 'Cu', 'Mn', 'Zr']\n"
     ]
    },
    {
     "name": "stderr",
     "output_type": "stream",
     "text": [
      "/home/to266/dev/hyperspy/hyperspy/signals.py:54: VisibleDeprecationWarning: The Signal1D class will be deprecated from version 1.0.0 and replaced with Signal1D\n",
      "  VisibleDeprecationWarning)\n"
     ]
    }
   ],
   "source": [
    "#add_elements()\n",
    "s = hs.datasets.example_signals.EDS_SEM_Spectrum()\n",
    "print(s.metadata.Sample.elements)\n",
    "s.add_elements(['Ar'])\n",
    "print(s.metadata.Sample.elements)"
   ]
  },
  {
   "cell_type": "code",
   "execution_count": 9,
   "metadata": {
    "collapsed": false
   },
   "outputs": [
    {
     "name": "stdout",
     "output_type": "stream",
     "text": [
      "Al_Ka line added,\n",
      "C_Ka line added,\n",
      "Cu_La line added,\n",
      "Mn_La line added,\n",
      "Zr_La line added,\n",
      "['Al_Ka', 'C_Ka', 'Cu_La', 'Mn_La', 'Zr_La']\n",
      "Cu_Ka line added,\n",
      "Al_Ka line added,\n",
      "C_Ka line added,\n",
      "Mn_La line added,\n",
      "Zr_La line added,\n",
      "Cu_Ka line added,\n",
      "['Al_Ka', 'C_Ka', 'Cu_Ka', 'Mn_La', 'Zr_La']\n"
     ]
    },
    {
     "name": "stderr",
     "output_type": "stream",
     "text": [
      "/home/to266/dev/hyperspy/hyperspy/signals.py:54: VisibleDeprecationWarning: The Signal1D class will be deprecated from version 1.0.0 and replaced with Signal1D\n",
      "  VisibleDeprecationWarning)\n"
     ]
    }
   ],
   "source": [
    "#set_lines()\n",
    "s = hs.datasets.example_signals.EDS_SEM_Spectrum()\n",
    "s.add_lines()\n",
    "print(s.metadata.Sample.xray_lines)\n",
    "s.set_lines(['Cu_Ka'])\n",
    "print(s.metadata.Sample.xray_lines)"
   ]
  },
  {
   "cell_type": "code",
   "execution_count": 10,
   "metadata": {
    "collapsed": false
   },
   "outputs": [
    {
     "name": "stdout",
     "output_type": "stream",
     "text": [
      "Al_Ka line added,\n",
      "C_Ka line added,\n",
      "Cu_La line added,\n",
      "Mn_La line added,\n",
      "Zr_La line added,\n",
      "['Al_Ka', 'C_Ka', 'Cu_La', 'Mn_La', 'Zr_La']\n",
      "Al_Ka line added,\n",
      "C_Ka line added,\n",
      "Cu_Ka line added,\n",
      "Mn_Ka line added,\n",
      "Zr_La line added,\n",
      "['Al_Ka', 'C_Ka', 'Cu_Ka', 'Mn_Ka', 'Zr_La']\n",
      "Al_Ka line added,\n",
      "C_Ka line added,\n",
      "Cu_La line added,\n",
      "Mn_La line added,\n",
      "Zr_La line added,\n",
      "['Al_Ka', 'C_Ka', 'Cu_La', 'Mn_La', 'Zr_La']\n",
      "Cu_Ka line added,\n",
      "['Al_Ka', 'C_Ka', 'Cu_Ka', 'Cu_La', 'Mn_La', 'Zr_La']\n"
     ]
    },
    {
     "name": "stderr",
     "output_type": "stream",
     "text": [
      "/home/to266/dev/hyperspy/hyperspy/signals.py:54: VisibleDeprecationWarning: The Signal1D class will be deprecated from version 1.0.0 and replaced with Signal1D\n",
      "  VisibleDeprecationWarning)\n"
     ]
    }
   ],
   "source": [
    "#add_lines()\n",
    "s = hs.datasets.example_signals.EDS_SEM_Spectrum()\n",
    "s.add_lines()\n",
    "print(s.metadata.Sample.xray_lines)\n",
    "        \n",
    "\n",
    "\n",
    "\n",
    "s = hs.datasets.example_signals.EDS_SEM_Spectrum()\n",
    "s.set_microscope_parameters(beam_energy=30)\n",
    "s.add_lines()\n",
    "print(s.metadata.Sample.xray_lines)\n",
    "        \n",
    "\n",
    "s = hs.datasets.example_signals.EDS_SEM_Spectrum()\n",
    "s.add_lines()\n",
    "print(s.metadata.Sample.xray_lines)\n",
    "s.add_lines(['Cu_Ka'])\n",
    "print(s.metadata.Sample.xray_lines)"
   ]
  },
  {
   "cell_type": "code",
   "execution_count": 3,
   "metadata": {
    "collapsed": false
   },
   "outputs": [
    {
     "name": "stdout",
     "output_type": "stream",
     "text": [
      "Mn_Ka at 5.8987 keV : Intensity = 52773.00\n"
     ]
    },
    {
     "name": "stderr",
     "output_type": "stream",
     "text": [
      "/home/to266/dev/hyperspy/hyperspy/signals.py:54: VisibleDeprecationWarning: The Signal1D class will be deprecated from version 1.0.0 and replaced with Signal1D\n",
      "  VisibleDeprecationWarning)\n"
     ]
    },
    {
     "data": {
      "text/plain": [
       "[<EDSSEMSpectrum, title: X-ray line intensity of EDS SEM Signal1D: Mn_Ka at 5.90 keV, dimensions: (|1)>]"
      ]
     },
     "execution_count": 3,
     "metadata": {},
     "output_type": "execute_result"
    }
   ],
   "source": [
    "#get_lines_intensity()\n",
    "s = hs.datasets.example_signals.EDS_SEM_Spectrum()\n",
    "s.get_lines_intensity(['Mn_Ka'], plot_result=True)"
   ]
  },
  {
   "cell_type": "code",
   "execution_count": 4,
   "metadata": {
    "collapsed": false
   },
   "outputs": [
    {
     "name": "stderr",
     "output_type": "stream",
     "text": [
      "/home/to266/dev/hyperspy/hyperspy/signals.py:54: VisibleDeprecationWarning: The Signal1D class will be deprecated from version 1.0.0 and replaced with Signal1D\n",
      "  VisibleDeprecationWarning)\n"
     ]
    },
    {
     "name": "stdout",
     "output_type": "stream",
     "text": [
      "Mn_Ka at 5.8987 keV : Intensity = 53597.00\n"
     ]
    },
    {
     "name": "stderr",
     "output_type": "stream",
     "text": [
      "/home/to266/anaconda3/lib/python3.5/site-packages/matplotlib/__init__.py:892: UserWarning: axes.color_cycle is deprecated and replaced with axes.prop_cycle; please use the latter.\n",
      "  warnings.warn(self.msg_depr % (key, alt_key))\n"
     ]
    },
    {
     "data": {
      "text/plain": [
       "[<EDSSEMSpectrum, title: X-ray line intensity of EDS SEM Signal1D: Mn_Ka at 5.90 keV, dimensions: (|1)>]"
      ]
     },
     "execution_count": 4,
     "metadata": {},
     "output_type": "execute_result"
    }
   ],
   "source": [
    "#get_lines_intensity()\n",
    "s = hs.datasets.example_signals.EDS_SEM_Spectrum()\n",
    "s.plot(['Mn_Ka'], integration_windows=2.1)\n",
    "s.get_lines_intensity(['Mn_Ka'],\n",
    "integration_windows=2.1, plot_result=True)"
   ]
  },
  {
   "cell_type": "code",
   "execution_count": 6,
   "metadata": {
    "collapsed": false
   },
   "outputs": [
    {
     "name": "stderr",
     "output_type": "stream",
     "text": [
      "/home/to266/dev/hyperspy/hyperspy/signals.py:54: VisibleDeprecationWarning: The Signal1D class will be deprecated from version 1.0.0 and replaced with Signal1D\n",
      "  VisibleDeprecationWarning)\n",
      "/home/to266/anaconda3/lib/python3.5/site-packages/matplotlib/__init__.py:892: UserWarning: axes.color_cycle is deprecated and replaced with axes.prop_cycle; please use the latter.\n",
      "  warnings.warn(self.msg_depr % (key, alt_key))\n"
     ]
    },
    {
     "name": "stdout",
     "output_type": "stream",
     "text": [
      "Mn_Ka line added,\n",
      "Mn_Ka at 5.8987 keV : Intensity = 46716.00\n"
     ]
    },
    {
     "data": {
      "text/plain": [
       "[<EDSSEMSpectrum, title: X-ray line intensity of EDS SEM Signal1D: Mn_Ka at 5.90 keV, dimensions: (|1)>]"
      ]
     },
     "execution_count": 6,
     "metadata": {},
     "output_type": "execute_result"
    }
   ],
   "source": [
    "#get_lines_intensity()\n",
    "s = hs.datasets.example_signals.EDS_SEM_Spectrum()\n",
    "s.change_dtype('float')\n",
    "s.set_elements(['Mn'])\n",
    "s.set_lines(['Mn_Ka'])\n",
    "bw = s.estimate_background_windows()\n",
    "s.plot(background_windows=bw)\n",
    "s.get_lines_intensity(background_windows=bw, plot_result=True)"
   ]
  },
  {
   "cell_type": "code",
   "execution_count": 7,
   "metadata": {
    "collapsed": false
   },
   "outputs": [
    {
     "name": "stderr",
     "output_type": "stream",
     "text": [
      "/home/to266/dev/hyperspy/hyperspy/signals.py:54: VisibleDeprecationWarning: The Signal1D class will be deprecated from version 1.0.0 and replaced with Signal1D\n",
      "  VisibleDeprecationWarning)\n"
     ]
    },
    {
     "name": "stdout",
     "output_type": "stream",
     "text": [
      "Fe_Ka line added,\n",
      "Pt_La line added,\n",
      "Fe_Ka at 6.4039 keV : Intensity = 3710.00\n",
      "Pt_La at 9.4421 keV : Intensity = 15872.00\n"
     ]
    },
    {
     "name": "stderr",
     "output_type": "stream",
     "text": [
      "/home/to266/anaconda3/lib/python3.5/site-packages/matplotlib/__init__.py:892: UserWarning: axes.color_cycle is deprecated and replaced with axes.prop_cycle; please use the latter.\n",
      "  warnings.warn(self.msg_depr % (key, alt_key))\n"
     ]
    },
    {
     "data": {
      "text/plain": [
       "[<EDSTEMSpectrum, title: X-ray line intensity of EDS TEM Signal1D: Fe_Ka at 6.40 keV, dimensions: (|1)>,\n",
       " <EDSTEMSpectrum, title: X-ray line intensity of EDS TEM Signal1D: Pt_La at 9.44 keV, dimensions: (|1)>]"
      ]
     },
     "execution_count": 7,
     "metadata": {},
     "output_type": "execute_result"
    }
   ],
   "source": [
    "#estimate_integration_windows()\n",
    "s = hs.datasets.example_signals.EDS_TEM_Spectrum()\n",
    "s.add_lines()\n",
    "iw = s.estimate_integration_windows()\n",
    "s.plot(integration_windows=iw)\n",
    "s.get_lines_intensity(integration_windows=iw, plot_result=True)"
   ]
  },
  {
   "cell_type": "code",
   "execution_count": 9,
   "metadata": {
    "collapsed": false
   },
   "outputs": [
    {
     "name": "stderr",
     "output_type": "stream",
     "text": [
      "/home/to266/dev/hyperspy/hyperspy/signals.py:54: VisibleDeprecationWarning: The Signal1D class will be deprecated from version 1.0.0 and replaced with Signal1D\n",
      "  VisibleDeprecationWarning)\n"
     ]
    },
    {
     "name": "stdout",
     "output_type": "stream",
     "text": [
      "Fe_Ka line added,\n",
      "Pt_La line added,\n"
     ]
    },
    {
     "name": "stderr",
     "output_type": "stream",
     "text": [
      "/home/to266/anaconda3/lib/python3.5/site-packages/matplotlib/__init__.py:892: UserWarning: axes.color_cycle is deprecated and replaced with axes.prop_cycle; please use the latter.\n",
      "  warnings.warn(self.msg_depr % (key, alt_key))\n"
     ]
    },
    {
     "name": "stdout",
     "output_type": "stream",
     "text": [
      "Fe_Ka at 6.4039 keV : Intensity = 2754.00\n",
      "Pt_La at 9.4421 keV : Intensity = 15090.00\n"
     ]
    },
    {
     "data": {
      "text/plain": [
       "[<EDSTEMSpectrum, title: X-ray line intensity of EDS TEM Signal1D: Fe_Ka at 6.40 keV, dimensions: (|1)>,\n",
       " <EDSTEMSpectrum, title: X-ray line intensity of EDS TEM Signal1D: Pt_La at 9.44 keV, dimensions: (|1)>]"
      ]
     },
     "execution_count": 9,
     "metadata": {},
     "output_type": "execute_result"
    }
   ],
   "source": [
    "#estimate_background_windows()\n",
    "s = hs.datasets.example_signals.EDS_TEM_Spectrum()\n",
    "s.change_dtype('float')\n",
    "s.add_lines()\n",
    "bw = s.estimate_background_windows(line_width=[5.0, 2.0])\n",
    "s.plot(background_windows=bw)\n",
    "s.get_lines_intensity(background_windows=bw, plot_result=True)"
   ]
  },
  {
   "cell_type": "code",
   "execution_count": 10,
   "metadata": {
    "collapsed": false
   },
   "outputs": [
    {
     "name": "stderr",
     "output_type": "stream",
     "text": [
      "/home/to266/dev/hyperspy/hyperspy/signals.py:54: VisibleDeprecationWarning: The Signal1D class will be deprecated from version 1.0.0 and replaced with Signal1D\n",
      "  VisibleDeprecationWarning)\n"
     ]
    },
    {
     "data": {
      "text/plain": [
       "37.0"
      ]
     },
     "execution_count": 10,
     "metadata": {},
     "output_type": "execute_result"
    }
   ],
   "source": [
    "#get_take_off()\n",
    "s = hs.datasets.example_signals.EDS_SEM_Spectrum()\n",
    "s.get_take_off_angle()"
   ]
  },
  {
   "cell_type": "code",
   "execution_count": 11,
   "metadata": {
    "collapsed": false
   },
   "outputs": [
    {
     "data": {
      "text/plain": [
       "57.00000000000001"
      ]
     },
     "execution_count": 11,
     "metadata": {},
     "output_type": "execute_result"
    }
   ],
   "source": [
    "#get_take_off()\n",
    "s.set_microscope_parameters(tilt_stage=20.)\n",
    "s.get_take_off_angle()"
   ]
  },
  {
   "cell_type": "code",
   "execution_count": 12,
   "metadata": {
    "collapsed": false
   },
   "outputs": [
    {
     "name": "stderr",
     "output_type": "stream",
     "text": [
      "/home/to266/dev/hyperspy/hyperspy/signals.py:54: VisibleDeprecationWarning: The Signal1D class will be deprecated from version 1.0.0 and replaced with Signal1D\n",
      "  VisibleDeprecationWarning)\n"
     ]
    },
    {
     "name": "stdout",
     "output_type": "stream",
     "text": [
      "Fe_Ka line added,\n",
      "Pt_La line added,\n"
     ]
    },
    {
     "name": "stderr",
     "output_type": "stream",
     "text": [
      "/home/to266/anaconda3/lib/python3.5/site-packages/matplotlib/__init__.py:892: UserWarning: axes.color_cycle is deprecated and replaced with axes.prop_cycle; please use the latter.\n",
      "  warnings.warn(self.msg_depr % (key, alt_key))\n"
     ]
    },
    {
     "name": "stdout",
     "output_type": "stream",
     "text": [
      "Fe_Ka line added,\n",
      "Pt_La line added,\n"
     ]
    }
   ],
   "source": [
    "#plot()\n",
    "s = hs.datasets.example_signals.EDS_SEM_Spectrum()\n",
    "s.plot()\n",
    "\n",
    "\n",
    "s = hs.datasets.example_signals.EDS_SEM_Spectrum()\n",
    "s.plot(True)\n",
    "\n",
    "\n",
    "s = hs.datasets.example_signals.EDS_TEM_Spectrum()\n",
    "s.add_lines()\n",
    "bw = s.estimate_background_windows()\n",
    "s.plot(background_windows=bw)\n",
    "        \n",
    "\n",
    "s = hs.datasets.example_signals.EDS_SEM_Spectrum()\n",
    "s.plot(['Mn_Ka'], integration_windows='auto')\n",
    "\n",
    "\n",
    "s = hs.datasets.example_signals.EDS_TEM_Spectrum()\n",
    "s.add_lines()\n",
    "bw = s.estimate_background_windows()\n",
    "s.plot(background_windows=bw, integration_windows=2.1)"
   ]
  },
  {
   "cell_type": "markdown",
   "metadata": {},
   "source": [
    "## eds_sem"
   ]
  },
  {
   "cell_type": "code",
   "execution_count": 13,
   "metadata": {
    "collapsed": false
   },
   "outputs": [
    {
     "name": "stdout",
     "output_type": "stream",
     "text": [
      "1.0\n",
      "0.01\n"
     ]
    },
    {
     "name": "stderr",
     "output_type": "stream",
     "text": [
      "/home/to266/dev/hyperspy/hyperspy/signals.py:54: VisibleDeprecationWarning: The Signal1D class will be deprecated from version 1.0.0 and replaced with Signal1D\n",
      "  VisibleDeprecationWarning)\n"
     ]
    }
   ],
   "source": [
    "#get_calibration_from\n",
    "ref = hs.datasets.example_signals.EDS_SEM_Spectrum()\n",
    "s = hs.signals.EDSSEMSpectrum(\n",
    "hs.datasets.example_signals.EDS_SEM_Spectrum().data)\n",
    "print(s.axes_manager[0].scale)\n",
    "s.get_calibration_from(ref)\n",
    "print(s.axes_manager[0].scale)"
   ]
  },
  {
   "cell_type": "code",
   "execution_count": 14,
   "metadata": {
    "collapsed": false
   },
   "outputs": [
    {
     "name": "stdout",
     "output_type": "stream",
     "text": [
      "Default value 130.0 eV\n",
      "Now set to 135.0 eV\n"
     ]
    },
    {
     "name": "stderr",
     "output_type": "stream",
     "text": [
      "/home/to266/dev/hyperspy/hyperspy/signals.py:54: VisibleDeprecationWarning: The Signal1D class will be deprecated from version 1.0.0 and replaced with Signal1D\n",
      "  VisibleDeprecationWarning)\n"
     ]
    }
   ],
   "source": [
    "#set_micro\n",
    "s = hs.datasets.example_signals.EDS_SEM_Spectrum()\n",
    "print('Default value %s eV' %\n",
    "s.metadata.Acquisition_instrument.\n",
    "SEM.Detector.EDS.energy_resolution_MnKa)\n",
    "s.set_microscope_parameters(energy_resolution_MnKa=135.)\n",
    "print('Now set to %s eV' %\n",
    "s.metadata.Acquisition_instrument.\n",
    "SEM.Detector.EDS.energy_resolution_MnKa)"
   ]
  },
  {
   "cell_type": "code",
   "execution_count": 15,
   "metadata": {
    "collapsed": false
   },
   "outputs": [
    {
     "name": "stdout",
     "output_type": "stream",
     "text": [
      "133.312296\n",
      "135.0\n"
     ]
    },
    {
     "name": "stderr",
     "output_type": "stream",
     "text": [
      "/home/to266/dev/hyperspy/hyperspy/signals.py:54: VisibleDeprecationWarning: The Signal1D class will be deprecated from version 1.0.0 and replaced with Signal1D\n",
      "  VisibleDeprecationWarning)\n"
     ]
    }
   ],
   "source": [
    "#set_micro\n",
    "s = hs.datasets.example_signals.EDS_TEM_Spectrum()\n",
    "print(s.metadata.Acquisition_instrument.\n",
    "TEM.Detector.EDS.energy_resolution_MnKa)\n",
    "s.set_microscope_parameters(energy_resolution_MnKa=135.)\n",
    "print(s.metadata.Acquisition_instrument.\n",
    "TEM.Detector.EDS.energy_resolution_MnKa)"
   ]
  },
  {
   "cell_type": "markdown",
   "metadata": {},
   "source": [
    "## eds_tem"
   ]
  },
  {
   "cell_type": "code",
   "execution_count": 16,
   "metadata": {
    "collapsed": false
   },
   "outputs": [
    {
     "name": "stdout",
     "output_type": "stream",
     "text": [
      "1.0\n",
      "0.020028\n"
     ]
    },
    {
     "name": "stderr",
     "output_type": "stream",
     "text": [
      "/home/to266/dev/hyperspy/hyperspy/signals.py:54: VisibleDeprecationWarning: The Signal1D class will be deprecated from version 1.0.0 and replaced with Signal1D\n",
      "  VisibleDeprecationWarning)\n"
     ]
    }
   ],
   "source": [
    "#get_calibration_from\n",
    "ref = hs.datasets.example_signals.EDS_TEM_Spectrum()\n",
    "s = hs.signals.EDSTEMSpectrum(\n",
    "hs.datasets.example_signals.EDS_TEM_Spectrum().data)\n",
    "print(s.axes_manager[0].scale)\n",
    "s.get_calibration_from(ref)\n",
    "print(s.axes_manager[0].scale)"
   ]
  },
  {
   "cell_type": "code",
   "execution_count": 4,
   "metadata": {
    "collapsed": false
   },
   "outputs": [
    {
     "name": "stderr",
     "output_type": "stream",
     "text": [
      "/home/to266/dev/hyperspy/hyperspy/signals.py:54: VisibleDeprecationWarning: The Signal1D class will be deprecated from version 1.0.0 and replaced with Signal1D\n",
      "  VisibleDeprecationWarning)\n"
     ]
    },
    {
     "name": "stdout",
     "output_type": "stream",
     "text": [
      "Fe_Ka line added,\n",
      "Pt_La line added,\n"
     ]
    },
    {
     "name": "stderr",
     "output_type": "stream",
     "text": [
      "/home/to266/anaconda3/lib/python3.5/site-packages/matplotlib/__init__.py:892: UserWarning: axes.color_cycle is deprecated and replaced with axes.prop_cycle; please use the latter.\n",
      "  warnings.warn(self.msg_depr % (key, alt_key))\n"
     ]
    },
    {
     "name": "stdout",
     "output_type": "stream",
     "text": [
      "Fe (Fe_Ka): Composition = 15.41 atomic percent\n",
      "Pt (Pt_La): Composition = 84.59 atomic percent\n"
     ]
    }
   ],
   "source": [
    "#quant\n",
    "s = hs.datasets.example_signals.EDS_TEM_Spectrum()\n",
    "s.change_dtype('float')\n",
    "s.add_lines()\n",
    "kfactors = [1.450226, 5.075602] #For Fe Ka and Pt La\n",
    "bw = s.estimate_background_windows(line_width=[5.0, 2.0])\n",
    "s.plot(background_windows=bw)\n",
    "intensities = s.get_lines_intensity(background_windows=bw)\n",
    "res = s.quantification(intensities, kfactors, plot_result=True,\n",
    "composition_units='atomic')"
   ]
  },
  {
   "cell_type": "code",
   "execution_count": 5,
   "metadata": {
    "collapsed": false
   },
   "outputs": [
    {
     "data": {
      "text/plain": [
       "1"
      ]
     },
     "execution_count": 5,
     "metadata": {},
     "output_type": "execute_result"
    }
   ],
   "source": [
    "res[0].axes_manager.signal_size"
   ]
  },
  {
   "cell_type": "code",
   "execution_count": 7,
   "metadata": {
    "collapsed": false
   },
   "outputs": [
    {
     "name": "stderr",
     "output_type": "stream",
     "text": [
      "/home/to266/dev/hyperspy/hyperspy/signals.py:54: VisibleDeprecationWarning: The Signal1D class will be deprecated from version 1.0.0 and replaced with Signal1D\n",
      "  VisibleDeprecationWarning)\n",
      "/home/to266/dev/hyperspy/hyperspy/signals.py:126: VisibleDeprecationWarning: The Signal class will be deprecated from version 1.0.0 and replaced with BaseSignal\n",
      "  VisibleDeprecationWarning)\n"
     ]
    },
    {
     "data": {
      "text/plain": [
       "array([False, False, False,  True], dtype=bool)"
      ]
     },
     "execution_count": 7,
     "metadata": {},
     "output_type": "execute_result"
    }
   ],
   "source": [
    "# Simulate a spectrum image with vacuum region\n",
    "import numpy as np\n",
    "s = hs.datasets.example_signals.EDS_TEM_Spectrum()\n",
    "s_vac = hs.signals.BaseSignal(np.ones_like(s.data, dtype=float))*0.005\n",
    "s_vac.add_poissonian_noise()\n",
    "si = hs.stack([s]*3 + [s_vac])\n",
    "si.vacuum_mask().data"
   ]
  },
  {
   "cell_type": "code",
   "execution_count": 8,
   "metadata": {
    "collapsed": false
   },
   "outputs": [
    {
     "name": "stdout",
     "output_type": "stream",
     "text": [
      "\n",
      "Scaling the data to normalize the (presumably) Poissonian noise\n",
      "\n",
      "Performing decomposition analysis\n",
      "Auto transposing the data\n",
      "Undoing data pre-treatments\n"
     ]
    },
    {
     "name": "stderr",
     "output_type": "stream",
     "text": [
      "/home/to266/dev/hyperspy/hyperspy/signals.py:54: VisibleDeprecationWarning: The Signal1D class will be deprecated from version 1.0.0 and replaced with Signal1D\n",
      "  VisibleDeprecationWarning)\n",
      "/home/to266/dev/hyperspy/hyperspy/signals.py:126: VisibleDeprecationWarning: The Signal class will be deprecated from version 1.0.0 and replaced with BaseSignal\n",
      "  VisibleDeprecationWarning)\n"
     ]
    }
   ],
   "source": [
    "s = hs.datasets.example_signals.EDS_TEM_Spectrum()\n",
    "si = hs.stack([s]*3)\n",
    "si.change_dtype(float)\n",
    "si.decomposition()"
   ]
  },
  {
   "cell_type": "markdown",
   "metadata": {},
   "source": [
    "## utils.eds"
   ]
  },
  {
   "cell_type": "code",
   "execution_count": 9,
   "metadata": {
    "collapsed": false
   },
   "outputs": [
    {
     "data": {
      "text/plain": [
       "2.8766744984001607"
      ]
     },
     "execution_count": 9,
     "metadata": {},
     "output_type": "execute_result"
    }
   ],
   "source": [
    "# Electron range in pure Copper at 30 kV in micron\n",
    "hs.eds.electron_range('Cu', 30.)"
   ]
  },
  {
   "cell_type": "code",
   "execution_count": 10,
   "metadata": {
    "collapsed": false
   },
   "outputs": [
    {
     "data": {
      "text/plain": [
       "1.9361716759499248"
      ]
     },
     "execution_count": 10,
     "metadata": {},
     "output_type": "execute_result"
    }
   ],
   "source": [
    "# X-ray range of Cu Ka in pure Copper at 30 kV in micron\n",
    "hs.eds.xray_range('Cu_Ka', 30.)"
   ]
  },
  {
   "cell_type": "code",
   "execution_count": 11,
   "metadata": {
    "collapsed": false
   },
   "outputs": [
    {
     "data": {
      "text/plain": [
       "7.6418811280855454"
      ]
     },
     "execution_count": 11,
     "metadata": {},
     "output_type": "execute_result"
    }
   ],
   "source": [
    "# X-ray range of Cu Ka in pure Carbon at 30kV in micron\n",
    "hs.eds.xray_range('Cu_Ka', 30., hs.material.elements.C.\n",
    "Physical_properties.density_gcm3)\n",
    "            "
   ]
  }
 ],
 "metadata": {
  "kernelspec": {
   "display_name": "Conda Python3",
   "language": "python",
   "name": "conda_py35"
  },
  "language_info": {
   "codemirror_mode": {
    "name": "ipython",
    "version": 3
   },
   "file_extension": ".py",
   "mimetype": "text/x-python",
   "name": "python",
   "nbconvert_exporter": "python",
   "pygments_lexer": "ipython3",
   "version": "3.5.1"
  },
  "widgets": {
   "state": {},
   "version": "1.1.1"
  }
 },
 "nbformat": 4,
 "nbformat_minor": 0
}
