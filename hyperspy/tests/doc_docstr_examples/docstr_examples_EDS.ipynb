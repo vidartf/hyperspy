{
 "metadata": {
  "name": "",
  "signature": "sha256:1d23d7e6a13775e45004be16ffd0ca080b77ab4b5627d24ff56f27554f1676aa"
 },
 "nbformat": 3,
 "nbformat_minor": 0,
 "worksheets": [
  {
   "cells": [
    {
     "cell_type": "heading",
     "level": 1,
     "metadata": {},
     "source": [
      "Doc-string examples for EDS"
     ]
    },
    {
     "cell_type": "heading",
     "level": 2,
     "metadata": {},
     "source": [
      "Loading signal examples"
     ]
    },
    {
     "cell_type": "code",
     "collapsed": false,
     "input": [
      "    >>> s = utils.example_signals.EDS_SEM_Spectrum()\n",
      "    >>> s.plot(True)"
     ],
     "language": "python",
     "metadata": {},
     "outputs": [],
     "prompt_number": 1
    },
    {
     "cell_type": "code",
     "collapsed": false,
     "input": [
      "    >>> s = utils.example_signals.EDS_SEM_Spectrum()\n",
      "    >>> s.plot()"
     ],
     "language": "python",
     "metadata": {},
     "outputs": [],
     "prompt_number": 2
    },
    {
     "cell_type": "code",
     "collapsed": false,
     "input": [
      "    >>> s = utils.example_signals.EDS_TEM_Spectrum()\n",
      "    >>> s.plot(True)"
     ],
     "language": "python",
     "metadata": {},
     "outputs": [],
     "prompt_number": 3
    },
    {
     "cell_type": "heading",
     "level": 2,
     "metadata": {},
     "source": [
      "eds"
     ]
    },
    {
     "cell_type": "code",
     "collapsed": false,
     "input": [
      "        >>> #Sum()\n",
      "        >>> s = utils.example_signals.EDS_SEM_Spectrum()\n",
      "        >>> s.sum(0).data"
     ],
     "language": "python",
     "metadata": {},
     "outputs": [
      {
       "metadata": {},
       "output_type": "pyout",
       "prompt_number": 4,
       "text": [
        "array(1000279)"
       ]
      }
     ],
     "prompt_number": 4
    },
    {
     "cell_type": "code",
     "collapsed": false,
     "input": [
      "        >>> #rebin()\n",
      "        >>> s = utils.example_signals.EDS_SEM_Spectrum()\n",
      "        >>> print s\n",
      "        >>> print s.rebin([512])"
     ],
     "language": "python",
     "metadata": {},
     "outputs": [
      {
       "output_type": "stream",
       "stream": "stdout",
       "text": [
        "<EDSSEMSpectrum, title: EDS SEM Spectrum, dimensions: (|1024)>\n",
        "<EDSSEMSpectrum, title: EDS SEM Spectrum, dimensions: (|512)>\n"
       ]
      }
     ],
     "prompt_number": 5
    },
    {
     "cell_type": "code",
     "collapsed": false,
     "input": [
      "        >>> #set_elements()\n",
      "        >>> s = utils.example_signals.EDS_SEM_Spectrum()\n",
      "        >>> print s.metadata.Sample.elements\n",
      "        >>> s.set_elements(['Al'])\n",
      "        >>> print s.metadata.Sample.elements"
     ],
     "language": "python",
     "metadata": {},
     "outputs": [
      {
       "output_type": "stream",
       "stream": "stdout",
       "text": [
        "['Al' 'C' 'Cu' 'Mn' 'Zr']\n",
        "['Al']\n"
       ]
      }
     ],
     "prompt_number": 6
    },
    {
     "cell_type": "code",
     "collapsed": false,
     "input": [
      "        >>> #add_elements()\n",
      "        >>> s = utils.example_signals.EDS_SEM_Spectrum()\n",
      "        >>> print s.metadata.Sample.elements\n",
      "        >>> s.add_elements(['Ar'])\n",
      "        >>> print s.metadata.Sample.elements"
     ],
     "language": "python",
     "metadata": {},
     "outputs": [
      {
       "output_type": "stream",
       "stream": "stdout",
       "text": [
        "['Al' 'C' 'Cu' 'Mn' 'Zr']\n",
        "['Al', 'Ar', 'C', 'Cu', 'Mn', 'Zr']\n"
       ]
      }
     ],
     "prompt_number": 7
    },
    {
     "cell_type": "code",
     "collapsed": false,
     "input": [
      "        >>> #set_lines()\n",
      "        >>> s = utils.example_signals.EDS_SEM_Spectrum()\n",
      "        >>> s.add_lines()\n",
      "        >>> print s.metadata.Sample.xray_lines\n",
      "        >>> s.set_lines(['Cu_Ka'])\n",
      "        >>> print s.metadata.Sample.xray_lines"
     ],
     "language": "python",
     "metadata": {},
     "outputs": [
      {
       "output_type": "stream",
       "stream": "stdout",
       "text": [
        "Al_Ka line added,\n",
        "C_Ka line added,\n",
        "Cu_La line added,\n",
        "Mn_La line added,\n",
        "Zr_La line added,\n",
        "['Al_Ka', 'C_Ka', 'Cu_La', 'Mn_La', 'Zr_La']\n",
        "Cu_Ka line added,\n",
        "Al_Ka line added,\n",
        "C_Ka line added,\n",
        "Mn_La line added,\n",
        "Zr_La line added,\n",
        "Cu_Ka line added,\n",
        "['Al_Ka', 'C_Ka', 'Cu_Ka', 'Mn_La', 'Zr_La']\n"
       ]
      }
     ],
     "prompt_number": 8
    },
    {
     "cell_type": "code",
     "collapsed": false,
     "input": [
      "        >>> #add_lines()\n",
      "        >>> s = utils.example_signals.EDS_SEM_Spectrum()\n",
      "        >>> s.add_lines()\n",
      "        >>> print s.metadata.Sample.xray_lines\n",
      "        \n",
      "\n",
      "        >>> s = utils.example_signals.EDS_SEM_Spectrum()\n",
      "        >>> s.set_microscope_parameters(beam_energy=30)\n",
      "        >>> s.add_lines()\n",
      "        >>> print s.metadata.Sample.xray_lines\n",
      "        \n",
      "        >>> s = utils.example_signals.EDS_SEM_Spectrum()\n",
      "        >>> s.add_lines()\n",
      "        >>> print s.metadata.Sample.xray_lines\n",
      "        >>> s.add_lines(['Cu_Ka'])\n",
      "        >>> print s.metadata.Sample.xray_lines"
     ],
     "language": "python",
     "metadata": {},
     "outputs": [
      {
       "output_type": "stream",
       "stream": "stdout",
       "text": [
        "Al_Ka line added,\n",
        "C_Ka line added,\n",
        "Cu_La line added,\n",
        "Mn_La line added,\n",
        "Zr_La line added,\n",
        "['Al_Ka', 'C_Ka', 'Cu_La', 'Mn_La', 'Zr_La']\n",
        "Al_Ka line added,\n",
        "C_Ka line added,\n",
        "Cu_Ka line added,\n",
        "Mn_Ka line added,\n",
        "Zr_La line added,\n",
        "['Al_Ka', 'C_Ka', 'Cu_Ka', 'Mn_Ka', 'Zr_La']\n",
        "Al_Ka line added,\n",
        "C_Ka line added,\n",
        "Cu_La line added,\n",
        "Mn_La line added,\n",
        "Zr_La line added,\n",
        "['Al_Ka', 'C_Ka', 'Cu_La', 'Mn_La', 'Zr_La']\n",
        "Cu_Ka line added,\n",
        "['Al_Ka', 'C_Ka', 'Cu_Ka', 'Cu_La', 'Mn_La', 'Zr_La']\n"
       ]
      }
     ],
     "prompt_number": 9
    },
    {
     "cell_type": "code",
     "collapsed": false,
     "input": [
      "        >>> #get_lines_intensity()\n",
      "        >>> s = utils.example_signals.EDS_SEM_Spectrum()\n",
      "        >>> s.get_lines_intensity(['Mn_Ka'], plot_result=True)"
     ],
     "language": "python",
     "metadata": {},
     "outputs": [
      {
       "output_type": "stream",
       "stream": "stdout",
       "text": [
        "Mn_Ka at 5.8987 keV : Intensity = 52773.00\n"
       ]
      },
      {
       "metadata": {},
       "output_type": "pyout",
       "prompt_number": 10,
       "text": [
        "[<Signal, title: X-ray line intensity of EDS SEM Spectrum: Mn_Ka at 5.90 keV, dimensions: (|)>]"
       ]
      }
     ],
     "prompt_number": 10
    },
    {
     "cell_type": "code",
     "collapsed": false,
     "input": [
      "        >>> #get_lines_intensity()\n",
      "        >>> s = utils.example_signals.EDS_SEM_Spectrum()\n",
      "        >>> s.plot(['Mn_Ka'], integration_windows=2.1)\n",
      "        >>> s.get_lines_intensity(['Mn_Ka'],\n",
      "        >>>                       integration_windows=2.1, plot_result=True)"
     ],
     "language": "python",
     "metadata": {},
     "outputs": [
      {
       "output_type": "stream",
       "stream": "stdout",
       "text": [
        "Mn_Ka at 5.8987 keV : Intensity = 53597.00\n"
       ]
      },
      {
       "metadata": {},
       "output_type": "pyout",
       "prompt_number": 11,
       "text": [
        "[<Signal, title: X-ray line intensity of EDS SEM Spectrum: Mn_Ka at 5.90 keV, dimensions: (|)>]"
       ]
      }
     ],
     "prompt_number": 11
    },
    {
     "cell_type": "code",
     "collapsed": false,
     "input": [
      "        >>> #get_lines_intensity()\n",
      "        >>> s = utils.example_signals.EDS_SEM_Spectrum()\n",
      "        >>> s.set_elements(['Mn'])\n",
      "        >>> s.set_lines(['Mn_Ka'])\n",
      "        >>> bw = s.estimate_background_windows()\n",
      "        >>> s.plot(background_windows=bw)\n",
      "        >>> s.get_lines_intensity(background_windows=bw, plot_result=True)"
     ],
     "language": "python",
     "metadata": {},
     "outputs": [
      {
       "output_type": "stream",
       "stream": "stdout",
       "text": [
        "Mn_Ka line added,\n",
        "Mn_Ka at 5.8987 keV : Intensity = 46716.00"
       ]
      },
      {
       "output_type": "stream",
       "stream": "stdout",
       "text": [
        "\n"
       ]
      },
      {
       "metadata": {},
       "output_type": "pyout",
       "prompt_number": 12,
       "text": [
        "[<Signal, title: X-ray line intensity of EDS SEM Spectrum: Mn_Ka at 5.90 keV, dimensions: (|)>]"
       ]
      }
     ],
     "prompt_number": 12
    },
    {
     "cell_type": "code",
     "collapsed": false,
     "input": [
      "        >>> #estimate_integration_windows()\n",
      "        >>> s = utils.example_signals.EDS_TEM_Spectrum()\n",
      "        >>> s.add_lines()\n",
      "        >>> iw = s.estimate_integration_windows()\n",
      "        >>> s.plot(integration_windows=iw)\n",
      "        >>> s.get_lines_intensity(integration_windows=iw, plot_result=True)"
     ],
     "language": "python",
     "metadata": {},
     "outputs": [
      {
       "output_type": "stream",
       "stream": "stdout",
       "text": [
        "Fe_Ka line added,\n",
        "Pt_La line added,\n",
        "Fe_Ka at 6.4039 keV : Intensity = 3710.00"
       ]
      },
      {
       "output_type": "stream",
       "stream": "stdout",
       "text": [
        "\n",
        "Pt_La at 9.4421 keV : Intensity = 15872.00\n"
       ]
      },
      {
       "metadata": {},
       "output_type": "pyout",
       "prompt_number": 13,
       "text": [
        "[<Signal, title: X-ray line intensity of EDS TEM Spectrum: Fe_Ka at 6.40 keV, dimensions: (|)>,\n",
        " <Signal, title: X-ray line intensity of EDS TEM Spectrum: Pt_La at 9.44 keV, dimensions: (|)>]"
       ]
      }
     ],
     "prompt_number": 13
    },
    {
     "cell_type": "code",
     "collapsed": false,
     "input": [
      "        >>> #estimate_background_windows()\n",
      "        >>> s = utils.example_signals.EDS_TEM_Spectrum()\n",
      "        >>> s.add_lines()\n",
      "        >>> bw = s.estimate_background_windows(line_width=[5.0, 2.0])\n",
      "        >>> s.plot(background_windows=bw)\n",
      "        >>> s.get_lines_intensity(background_windows=bw, plot_result=True)"
     ],
     "language": "python",
     "metadata": {},
     "outputs": [
      {
       "output_type": "stream",
       "stream": "stdout",
       "text": [
        "Fe_Ka line added,\n",
        "Pt_La line added,\n",
        "Fe_Ka at 6.4039 keV : Intensity = 2754.00"
       ]
      },
      {
       "output_type": "stream",
       "stream": "stdout",
       "text": [
        "\n",
        "Pt_La at 9.4421 keV : Intensity = 15090.00\n"
       ]
      },
      {
       "metadata": {},
       "output_type": "pyout",
       "prompt_number": 14,
       "text": [
        "[<Signal, title: X-ray line intensity of EDS TEM Spectrum: Fe_Ka at 6.40 keV, dimensions: (|)>,\n",
        " <Signal, title: X-ray line intensity of EDS TEM Spectrum: Pt_La at 9.44 keV, dimensions: (|)>]"
       ]
      }
     ],
     "prompt_number": 14
    },
    {
     "cell_type": "code",
     "collapsed": false,
     "input": [
      "        >>> #get_take_off()\n",
      "        >>> s = utils.example_signals.EDS_SEM_Spectrum()\n",
      "        >>> s.get_take_off_angle()"
     ],
     "language": "python",
     "metadata": {},
     "outputs": [
      {
       "metadata": {},
       "output_type": "pyout",
       "prompt_number": 15,
       "text": [
        "37.0"
       ]
      }
     ],
     "prompt_number": 15
    },
    {
     "cell_type": "code",
     "collapsed": false,
     "input": [
      "        >>> #get_take_off()\n",
      "        >>> s.set_microscope_parameters(tilt_stage=20.)\n",
      "        >>> s.get_take_off_angle()"
     ],
     "language": "python",
     "metadata": {},
     "outputs": [
      {
       "metadata": {},
       "output_type": "pyout",
       "prompt_number": 16,
       "text": [
        "57.00000000000001"
       ]
      }
     ],
     "prompt_number": 16
    },
    {
     "cell_type": "code",
     "collapsed": false,
     "input": [
      "        >>> #plot()\n",
      "        >>> s = utils.example_signals.EDS_SEM_Spectrum()\n",
      "        >>> s.plot()\n",
      "\n",
      "        >>> s = utils.example_signals.EDS_SEM_Spectrum()\n",
      "        >>> s.plot(True)\n",
      "\n",
      "        >>> s = utils.example_signals.EDS_TEM_Spectrum()\n",
      "        >>> s.add_lines()\n",
      "        >>> bw = s.estimate_background_windows()\n",
      "        >>> s.plot(background_windows=bw)\n",
      "        \n",
      "        >>> s = utils.example_signals.EDS_SEM_Spectrum()\n",
      "        >>> s.plot(['Mn_Ka'], integration_windows='auto')\n",
      "\n",
      "        >>> s = utils.example_signals.EDS_TEM_Spectrum()\n",
      "        >>> s.add_lines()\n",
      "        >>> bw = s.estimate_background_windows()\n",
      "        >>> s.plot(background_windows=bw, integration_windows=2.1)"
     ],
     "language": "python",
     "metadata": {},
     "outputs": [
      {
       "output_type": "stream",
       "stream": "stdout",
       "text": [
        "Fe_Ka line added,\n",
        "Pt_La line added,\n",
        "Fe_Ka line added,"
       ]
      },
      {
       "output_type": "stream",
       "stream": "stdout",
       "text": [
        "\n",
        "Pt_La line added,\n"
       ]
      }
     ],
     "prompt_number": 17
    },
    {
     "cell_type": "heading",
     "level": 2,
     "metadata": {},
     "source": [
      "eds_sem"
     ]
    },
    {
     "cell_type": "code",
     "collapsed": false,
     "input": [
      "        >>> #get_calibration_from\n",
      "        >>> ref = utils.example_signals.EDS_SEM_Spectrum()\n",
      "        >>> s = signals.EDSSEMSpectrum(\n",
      "        >>>     utils.example_signals.EDS_SEM_Spectrum().data)\n",
      "        >>> print s.axes_manager[0].scale\n",
      "        >>> s.get_calibration_from(ref)\n",
      "        >>> print s.axes_manager[0].scale"
     ],
     "language": "python",
     "metadata": {},
     "outputs": [
      {
       "output_type": "stream",
       "stream": "stdout",
       "text": [
        "1.0\n",
        "0.01\n"
       ]
      }
     ],
     "prompt_number": 18
    },
    {
     "cell_type": "code",
     "collapsed": false,
     "input": [
      "        >>> #set_micro\n",
      "        >>> s = utils.example_signals.EDS_SEM_Spectrum()\n",
      "        >>> print('Default value %s eV' %\n",
      "        >>>       s.metadata.Acquisition_instrument.\n",
      "        >>>       SEM.Detector.EDS.energy_resolution_MnKa)\n",
      "        >>> s.set_microscope_parameters(energy_resolution_MnKa=135.)\n",
      "        >>> print('Now set to %s eV' %\n",
      "        >>>       s.metadata.Acquisition_instrument.\n",
      "        >>>       SEM.Detector.EDS.energy_resolution_MnKa)"
     ],
     "language": "python",
     "metadata": {},
     "outputs": [
      {
       "output_type": "stream",
       "stream": "stdout",
       "text": [
        "Default value 130.0 eV\n",
        "Now set to 135.0 eV\n"
       ]
      }
     ],
     "prompt_number": 19
    },
    {
     "cell_type": "code",
     "collapsed": false,
     "input": [
      "        >>> #set_micro\n",
      "        >>> s = utils.example_signals.EDS_TEM_Spectrum()\n",
      "        >>> print(s.metadata.Acquisition_instrument.\n",
      "        >>>       TEM.Detector.EDS.energy_resolution_MnKa)\n",
      "        >>> s.set_microscope_parameters(energy_resolution_MnKa=135.)\n",
      "        >>> print(s.metadata.Acquisition_instrument.\n",
      "        >>>       TEM.Detector.EDS.energy_resolution_MnKa)"
     ],
     "language": "python",
     "metadata": {},
     "outputs": [
      {
       "output_type": "stream",
       "stream": "stdout",
       "text": [
        "133.312296\n",
        "135.0\n"
       ]
      }
     ],
     "prompt_number": 20
    },
    {
     "cell_type": "heading",
     "level": 2,
     "metadata": {},
     "source": [
      "eds_tem"
     ]
    },
    {
     "cell_type": "code",
     "collapsed": false,
     "input": [
      "        >>> #get_calibration_from\n",
      "        >>> ref = utils.example_signals.EDS_TEM_Spectrum()\n",
      "        >>> s = signals.EDSTEMSpectrum(\n",
      "        >>>     utils.example_signals.EDS_TEM_Spectrum().data)\n",
      "        >>> print s.axes_manager[0].scale\n",
      "        >>> s.get_calibration_from(ref)\n",
      "        >>> print s.axes_manager[0].scale"
     ],
     "language": "python",
     "metadata": {},
     "outputs": [
      {
       "output_type": "stream",
       "stream": "stdout",
       "text": [
        "1.0\n",
        "0.020028\n"
       ]
      }
     ],
     "prompt_number": 21
    },
    {
     "cell_type": "code",
     "collapsed": false,
     "input": [
      "        >>> #quant\n",
      "        >>> s = utils.example_signals.EDS_TEM_Spectrum()\n",
      "        >>> s.add_lines()\n",
      "        >>> kfactors = [1.450226, 5.075602] #For Fe Ka and Pt La\n",
      "        >>> bw = s.estimate_background_windows(line_width=[5.0, 2.0])\n",
      "        >>> s.plot(background_windows=bw)\n",
      "        >>> intensities = s.get_lines_intensity(background_windows=bw)\n",
      "        >>> res = s.quantification(intensities, kfactors, plot_result=True,\n",
      "        >>>                        composition_units='atomic')"
     ],
     "language": "python",
     "metadata": {},
     "outputs": [
      {
       "output_type": "stream",
       "stream": "stdout",
       "text": [
        "Fe_Ka line added,\n",
        "Pt_La line added,\n",
        "Fe (Fe_Ka): Composition = 15.41 atomic percent"
       ]
      },
      {
       "output_type": "stream",
       "stream": "stdout",
       "text": [
        "\n",
        "Pt (Pt_La): Composition = 84.59 atomic percent\n"
       ]
      }
     ],
     "prompt_number": 22
    },
    {
     "cell_type": "code",
     "collapsed": false,
     "input": [
      "        >>> # Simulate a spectrum image with vacuum region\n",
      "        >>> import numpy as np\n",
      "        >>> s = utils.example_signals.EDS_TEM_Spectrum()\n",
      "        >>> s_vac = signals.Simulation(np.ones_like(s.data, dtype=float))*0.005\n",
      "        >>> s_vac.add_poissonian_noise()\n",
      "        >>> si = utils.stack([s]*3 + [s_vac])\n",
      "        >>> si.vacuum_mask().data"
     ],
     "language": "python",
     "metadata": {},
     "outputs": [
      {
       "metadata": {},
       "output_type": "pyout",
       "prompt_number": 23,
       "text": [
        "array([False, False, False,  True], dtype=bool)"
       ]
      }
     ],
     "prompt_number": 23
    },
    {
     "cell_type": "code",
     "collapsed": false,
     "input": [
      "        >>> s = utils.example_signals.EDS_TEM_Spectrum()\n",
      "        >>> si = utils.stack([s]*3)\n",
      "        >>> si.change_dtype(float)\n",
      "        >>> si.decomposition()"
     ],
     "language": "python",
     "metadata": {},
     "outputs": [
      {
       "output_type": "stream",
       "stream": "stdout",
       "text": [
        "\n",
        "Scaling the data to normalize the (presumably) Poissonian noise\n",
        "\n",
        "Performing decomposition analysis\n",
        "Auto transposing the data\n",
        "Undoing data pre-treatments\n"
       ]
      }
     ],
     "prompt_number": 24
    },
    {
     "cell_type": "heading",
     "level": 2,
     "metadata": {},
     "source": [
      "utils.eds"
     ]
    },
    {
     "cell_type": "code",
     "collapsed": false,
     "input": [
      "    >>> # Electron range in pure Copper at 30 kV in micron\n",
      "    >>> utils.eds.electron_range('Cu', 30.)"
     ],
     "language": "python",
     "metadata": {},
     "outputs": [
      {
       "metadata": {},
       "output_type": "pyout",
       "prompt_number": 25,
       "text": [
        "2.8766744984001607"
       ]
      }
     ],
     "prompt_number": 25
    },
    {
     "cell_type": "code",
     "collapsed": false,
     "input": [
      "    >>> # X-ray range of Cu Ka in pure Copper at 30 kV in micron\n",
      "    >>> utils.eds.xray_range('Cu_Ka', 30.)"
     ],
     "language": "python",
     "metadata": {},
     "outputs": [
      {
       "metadata": {},
       "output_type": "pyout",
       "prompt_number": 26,
       "text": [
        "1.9361716759499248"
       ]
      }
     ],
     "prompt_number": 26
    },
    {
     "cell_type": "code",
     "collapsed": false,
     "input": [
      "    >>> # X-ray range of Cu Ka in pure Carbon at 30kV in micron\n",
      "    >>> utils.eds.xray_range('Cu_Ka', 30., utils.material.elements.C. \n",
      "    >>>                      Physical_properties.density_gcm3)\n",
      "            "
     ],
     "language": "python",
     "metadata": {},
     "outputs": [
      {
       "metadata": {},
       "output_type": "pyout",
       "prompt_number": 27,
       "text": [
        "7.6418811280855454"
       ]
      }
     ],
     "prompt_number": 27
    },
    {
     "cell_type": "code",
     "collapsed": false,
     "input": [],
     "language": "python",
     "metadata": {},
     "outputs": [],
     "prompt_number": 27
    }
   ],
   "metadata": {}
  }
 ]
}