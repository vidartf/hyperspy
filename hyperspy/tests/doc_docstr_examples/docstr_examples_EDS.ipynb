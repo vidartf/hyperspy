{
    "nbformat_minor": 0,
    "cells": [
        {
            "execution_count": null,
            "cell_type": "code",
            "source": [
                "# %hyperspy -r qt4\n",
                "import numpy as np\n",
                "import hyperspy.api as hs\n",
                "%matplotlib qt4\n",
                "import matplotlib.pyplot as plt\n",
                "\n"
            ],
            "outputs": [],
            "metadata": {
                "collapsed": false
            }
        },
        {
            "source": [
                "# Doc-string examples for EDS"
            ],
            "cell_type": "markdown",
            "metadata": {}
        },
        {
            "source": [
                "## Loading signal examples"
            ],
            "cell_type": "markdown",
            "metadata": {}
        },
        {
            "execution_count": 2,
            "cell_type": "code",
            "source": [
                "s = hs.datasets.example_signals.EDS_SEM_Spectrum()\n",
                "s.plot(True)"
            ],
            "outputs": [],
            "metadata": {
                "collapsed": false
            }
        },
        {
            "execution_count": 3,
            "cell_type": "code",
            "source": [
                "s = hs.datasets.example_signals.EDS_SEM_Spectrum()\n",
                "s.plot()"
            ],
            "outputs": [],
            "metadata": {
                "collapsed": false
            }
        },
        {
            "execution_count": 4,
            "cell_type": "code",
            "source": [
                "s = hs.datasets.example_signals.EDS_TEM_Spectrum()\n",
                "s.plot(True)"
            ],
            "outputs": [],
            "metadata": {
                "collapsed": false
            }
        },
        {
            "source": [
                "## eds"
            ],
            "cell_type": "markdown",
            "metadata": {}
        },
        {
            "execution_count": 5,
            "cell_type": "code",
            "source": [
                "#Sum()\n",
                "s = hs.datasets.example_signals.EDS_SEM_Spectrum()\n",
                "s.sum(0).data"
            ],
            "outputs": [
                {
                    "execution_count": 5,
                    "output_type": "execute_result",
                    "data": {
                        "text/plain": [
                            "array(1000279)"
                        ]
                    },
                    "metadata": {}
                }
            ],
            "metadata": {
                "collapsed": false
            }
        },
        {
            "execution_count": 6,
            "cell_type": "code",
            "source": [
                "#rebin()\n",
                "s = hs.datasets.example_signals.EDS_SEM_Spectrum()\n",
                "print s\n",
                "print s.rebin([512])"
            ],
            "outputs": [
                {
                    "output_type": "stream",
                    "name": "stdout",
                    "text": [
                        "<EDSSEMSpectrum, title: EDS SEM Spectrum, dimensions: (|1024)>\n",
                        "<EDSSEMSpectrum, title: EDS SEM Spectrum, dimensions: (|512)>\n"
                    ]
                }
            ],
            "metadata": {
                "collapsed": false
            }
        },
        {
            "execution_count": 7,
            "cell_type": "code",
            "source": [
                "#set_elements()\n",
                "s = hs.datasets.example_signals.EDS_SEM_Spectrum()\n",
                "print s.metadata.Sample.elements\n",
                "s.set_elements(['Al'])\n",
                "print s.metadata.Sample.elements"
            ],
            "outputs": [
                {
                    "output_type": "stream",
                    "name": "stdout",
                    "text": [
                        "['Al' 'C' 'Cu' 'Mn' 'Zr']\n",
                        "['Al']\n"
                    ]
                }
            ],
            "metadata": {
                "collapsed": false
            }
        },
        {
            "execution_count": 8,
            "cell_type": "code",
            "source": [
                "#add_elements()\n",
                "s = hs.datasets.example_signals.EDS_SEM_Spectrum()\n",
                "print s.metadata.Sample.elements\n",
                "s.add_elements(['Ar'])\n",
                "print s.metadata.Sample.elements"
            ],
            "outputs": [
                {
                    "output_type": "stream",
                    "name": "stdout",
                    "text": [
                        "['Al' 'C' 'Cu' 'Mn' 'Zr']\n",
                        "['Al', 'Ar', 'C', 'Cu', 'Mn', 'Zr']\n"
                    ]
                }
            ],
            "metadata": {
                "collapsed": false
            }
        },
        {
            "execution_count": 9,
            "cell_type": "code",
            "source": [
                "#set_lines()\n",
                "s = hs.datasets.example_signals.EDS_SEM_Spectrum()\n",
                "s.add_lines()\n",
                "print s.metadata.Sample.xray_lines\n",
                "s.set_lines(['Cu_Ka'])\n",
                "print s.metadata.Sample.xray_lines"
            ],
            "outputs": [
                {
                    "output_type": "stream",
                    "name": "stdout",
                    "text": [
                        "Al_Ka line added,\n",
                        "C_Ka line added,\n",
                        "Cu_La line added,\n",
                        "Mn_La line added,\n",
                        "Zr_La line added,\n",
                        "['Al_Ka', 'C_Ka', 'Cu_La', 'Mn_La', 'Zr_La']\n",
                        "Cu_Ka line added,\n",
                        "Al_Ka line added,\n",
                        "C_Ka line added,\n",
                        "Mn_La line added,\n",
                        "Zr_La line added,\n",
                        "Cu_Ka line added,\n",
                        "['Al_Ka', 'C_Ka', 'Cu_Ka', 'Mn_La', 'Zr_La']\n"
                    ]
                }
            ],
            "metadata": {
                "collapsed": false
            }
        },
        {
            "execution_count": 10,
            "cell_type": "code",
            "source": [
                "#add_lines()\n",
                "s = hs.datasets.example_signals.EDS_SEM_Spectrum()\n",
                "s.add_lines()\n",
                "print s.metadata.Sample.xray_lines\n",
                "        \n",
                "\n",
                "\n",
                "\n",
                "s = hs.datasets.example_signals.EDS_SEM_Spectrum()\n",
                "s.set_microscope_parameters(beam_energy=30)\n",
                "s.add_lines()\n",
                "print s.metadata.Sample.xray_lines\n",
                "        \n",
                "\n",
                "s = hs.datasets.example_signals.EDS_SEM_Spectrum()\n",
                "s.add_lines()\n",
                "print s.metadata.Sample.xray_lines\n",
                "s.add_lines(['Cu_Ka'])\n",
                "print s.metadata.Sample.xray_lines"
            ],
            "outputs": [
                {
                    "output_type": "stream",
                    "name": "stdout",
                    "text": [
                        "Al_Ka line added,\n",
                        "C_Ka line added,\n",
                        "Cu_La line added,\n",
                        "Mn_La line added,\n",
                        "Zr_La line added,\n",
                        "['Al_Ka', 'C_Ka', 'Cu_La', 'Mn_La', 'Zr_La']\n",
                        "Al_Ka line added,\n",
                        "C_Ka line added,\n",
                        "Cu_Ka line added,\n",
                        "Mn_Ka line added,\n",
                        "Zr_La line added,\n",
                        "['Al_Ka', 'C_Ka', 'Cu_Ka', 'Mn_Ka', 'Zr_La']\n",
                        "Al_Ka line added,\n",
                        "C_Ka line added,\n",
                        "Cu_La line added,\n",
                        "Mn_La line added,\n",
                        "Zr_La line added,\n",
                        "['Al_Ka', 'C_Ka', 'Cu_La', 'Mn_La', 'Zr_La']\n",
                        "Cu_Ka line added,\n",
                        "['Al_Ka', 'C_Ka', 'Cu_Ka', 'Cu_La', 'Mn_La', 'Zr_La']\n"
                    ]
                }
            ],
            "metadata": {
                "collapsed": false
            }
        },
        {
            "execution_count": 11,
            "cell_type": "code",
            "source": [
                "#get_lines_intensity()\n",
                "s = hs.datasets.example_signals.EDS_SEM_Spectrum()\n",
                "s.get_lines_intensity(['Mn_Ka'], plot_result=True)"
            ],
            "outputs": [
                {
                    "output_type": "stream",
                    "name": "stdout",
                    "text": [
                        "Mn_Ka at 5.8987 keV : Intensity = 52773.00\n"
                    ]
                },
                {
                    "execution_count": 11,
                    "output_type": "execute_result",
                    "data": {
                        "text/plain": [
                            "[<Signal, title: X-ray line intensity of EDS SEM Spectrum: Mn_Ka at 5.90 keV, dimensions: (|)>]"
                        ]
                    },
                    "metadata": {}
                }
            ],
            "metadata": {
                "collapsed": false
            }
        },
        {
            "execution_count": 12,
            "cell_type": "code",
            "source": [
                "#get_lines_intensity()\n",
                "s = hs.datasets.example_signals.EDS_SEM_Spectrum()\n",
                "s.plot(['Mn_Ka'], integration_windows=2.1)\n",
                "s.get_lines_intensity(['Mn_Ka'],\n",
                "integration_windows=2.1, plot_result=True)"
            ],
            "outputs": [
                {
                    "output_type": "stream",
                    "name": "stdout",
                    "text": [
                        "Mn_Ka at 5.8987 keV : Intensity = 53597.00\n"
                    ]
                },
                {
                    "execution_count": 12,
                    "output_type": "execute_result",
                    "data": {
                        "text/plain": [
                            "[<Signal, title: X-ray line intensity of EDS SEM Spectrum: Mn_Ka at 5.90 keV, dimensions: (|)>]"
                        ]
                    },
                    "metadata": {}
                }
            ],
            "metadata": {
                "collapsed": false
            }
        },
        {
            "execution_count": 13,
            "cell_type": "code",
            "source": [
                "#get_lines_intensity()\n",
                "s = hs.datasets.example_signals.EDS_SEM_Spectrum()\n",
                "s.set_elements(['Mn'])\n",
                "s.set_lines(['Mn_Ka'])\n",
                "bw = s.estimate_background_windows()\n",
                "s.plot(background_windows=bw)\n",
                "s.get_lines_intensity(background_windows=bw, plot_result=True)"
            ],
            "outputs": [
                {
                    "output_type": "stream",
                    "name": "stdout",
                    "text": [
                        "Mn_Ka line added,\n",
                        "Mn_Ka at 5.8987 keV : Intensity = 46716.00\n"
                    ]
                },
                {
                    "execution_count": 13,
                    "output_type": "execute_result",
                    "data": {
                        "text/plain": [
                            "[<Signal, title: X-ray line intensity of EDS SEM Spectrum: Mn_Ka at 5.90 keV, dimensions: (|)>]"
                        ]
                    },
                    "metadata": {}
                }
            ],
            "metadata": {
                "collapsed": false
            }
        },
        {
            "execution_count": 14,
            "cell_type": "code",
            "source": [
                "#estimate_integration_windows()\n",
                "s = hs.datasets.example_signals.EDS_TEM_Spectrum()\n",
                "s.add_lines()\n",
                "iw = s.estimate_integration_windows()\n",
                "s.plot(integration_windows=iw)\n",
                "s.get_lines_intensity(integration_windows=iw, plot_result=True)"
            ],
            "outputs": [
                {
                    "output_type": "stream",
                    "name": "stdout",
                    "text": [
                        "Fe_Ka line added,\n",
                        "Pt_La line added,\n",
                        "Fe_Ka at 6.4039 keV : Intensity = 3710.00\n",
                        "Pt_La at 9.4421 keV : Intensity = 15872.00\n"
                    ]
                },
                {
                    "execution_count": 14,
                    "output_type": "execute_result",
                    "data": {
                        "text/plain": [
                            "[<Signal, title: X-ray line intensity of EDS TEM Spectrum: Fe_Ka at 6.40 keV, dimensions: (|)>,\n",
                            " <Signal, title: X-ray line intensity of EDS TEM Spectrum: Pt_La at 9.44 keV, dimensions: (|)>]"
                        ]
                    },
                    "metadata": {}
                }
            ],
            "metadata": {
                "collapsed": false
            }
        },
        {
            "execution_count": 15,
            "cell_type": "code",
            "source": [
                "#estimate_background_windows()\n",
                "s = hs.datasets.example_signals.EDS_TEM_Spectrum()\n",
                "s.add_lines()\n",
                "bw = s.estimate_background_windows(line_width=[5.0, 2.0])\n",
                "s.plot(background_windows=bw)\n",
                "s.get_lines_intensity(background_windows=bw, plot_result=True)"
            ],
            "outputs": [
                {
                    "output_type": "stream",
                    "name": "stdout",
                    "text": [
                        "Fe_Ka line added,\n",
                        "Pt_La line added,\n",
                        "Fe_Ka at 6.4039 keV : Intensity = 2754.00\n",
                        "Pt_La at 9.4421 keV : Intensity = 15090.00\n"
                    ]
                },
                {
                    "execution_count": 15,
                    "output_type": "execute_result",
                    "data": {
                        "text/plain": [
                            "[<Signal, title: X-ray line intensity of EDS TEM Spectrum: Fe_Ka at 6.40 keV, dimensions: (|)>,\n",
                            " <Signal, title: X-ray line intensity of EDS TEM Spectrum: Pt_La at 9.44 keV, dimensions: (|)>]"
                        ]
                    },
                    "metadata": {}
                }
            ],
            "metadata": {
                "collapsed": false
            }
        },
        {
            "execution_count": 16,
            "cell_type": "code",
            "source": [
                "#get_take_off()\n",
                "s = hs.datasets.example_signals.EDS_SEM_Spectrum()\n",
                "s.get_take_off_angle()"
            ],
            "outputs": [
                {
                    "execution_count": 16,
                    "output_type": "execute_result",
                    "data": {
                        "text/plain": [
                            "37.0"
                        ]
                    },
                    "metadata": {}
                }
            ],
            "metadata": {
                "collapsed": false
            }
        },
        {
            "execution_count": 17,
            "cell_type": "code",
            "source": [
                "#get_take_off()\n",
                "s.set_microscope_parameters(tilt_stage=20.)\n",
                "s.get_take_off_angle()"
            ],
            "outputs": [
                {
                    "execution_count": 17,
                    "output_type": "execute_result",
                    "data": {
                        "text/plain": [
                            "57.00000000000001"
                        ]
                    },
                    "metadata": {}
                }
            ],
            "metadata": {
                "collapsed": false
            }
        },
        {
            "execution_count": 18,
            "cell_type": "code",
            "source": [
                "#plot()\n",
                "s = hs.datasets.example_signals.EDS_SEM_Spectrum()\n",
                "s.plot()\n",
                "\n",
                "\n",
                "s = hs.datasets.example_signals.EDS_SEM_Spectrum()\n",
                "s.plot(True)\n",
                "\n",
                "\n",
                "s = hs.datasets.example_signals.EDS_TEM_Spectrum()\n",
                "s.add_lines()\n",
                "bw = s.estimate_background_windows()\n",
                "s.plot(background_windows=bw)\n",
                "        \n",
                "\n",
                "s = hs.datasets.example_signals.EDS_SEM_Spectrum()\n",
                "s.plot(['Mn_Ka'], integration_windows='auto')\n",
                "\n",
                "\n",
                "s = hs.datasets.example_signals.EDS_TEM_Spectrum()\n",
                "s.add_lines()\n",
                "bw = s.estimate_background_windows()\n",
                "s.plot(background_windows=bw, integration_windows=2.1)"
            ],
            "outputs": [
                {
                    "output_type": "stream",
                    "name": "stdout",
                    "text": [
                        "Fe_Ka line added,\n",
                        "Pt_La line added,\n",
                        "Fe_Ka line added,\n",
                        "Pt_La line added,\n"
                    ]
                }
            ],
            "metadata": {
                "collapsed": false
            }
        },
        {
            "source": [
                "## eds_sem"
            ],
            "cell_type": "markdown",
            "metadata": {}
        },
        {
            "execution_count": 19,
            "cell_type": "code",
            "source": [
                "#get_calibration_from\n",
                "ref = hs.datasets.example_signals.EDS_SEM_Spectrum()\n",
                "s = hs.signals.EDSSEMSpectrum(\n",
                "hs.datasets.example_signals.EDS_SEM_Spectrum().data)\n",
                "print s.axes_manager[0].scale\n",
                "s.get_calibration_from(ref)\n",
                "print s.axes_manager[0].scale"
            ],
            "outputs": [
                {
                    "output_type": "stream",
                    "name": "stdout",
                    "text": [
                        "1.0\n",
                        "0.01\n"
                    ]
                }
            ],
            "metadata": {
                "collapsed": false
            }
        },
        {
            "execution_count": 20,
            "cell_type": "code",
            "source": [
                "#set_micro\n",
                "s = hs.datasets.example_signals.EDS_SEM_Spectrum()\n",
                "print('Default value %s eV' %\n",
                "s.metadata.Acquisition_instrument.\n",
                "SEM.Detector.EDS.energy_resolution_MnKa)\n",
                "s.set_microscope_parameters(energy_resolution_MnKa=135.)\n",
                "print('Now set to %s eV' %\n",
                "s.metadata.Acquisition_instrument.\n",
                "SEM.Detector.EDS.energy_resolution_MnKa)"
            ],
            "outputs": [
                {
                    "output_type": "stream",
                    "name": "stdout",
                    "text": [
                        "Default value 130.0 eV\n",
                        "Now set to 135.0 eV\n"
                    ]
                }
            ],
            "metadata": {
                "collapsed": false
            }
        },
        {
            "execution_count": 21,
            "cell_type": "code",
            "source": [
                "#set_micro\n",
                "s = hs.datasets.example_signals.EDS_TEM_Spectrum()\n",
                "print(s.metadata.Acquisition_instrument.\n",
                "TEM.Detector.EDS.energy_resolution_MnKa)\n",
                "s.set_microscope_parameters(energy_resolution_MnKa=135.)\n",
                "print(s.metadata.Acquisition_instrument.\n",
                "TEM.Detector.EDS.energy_resolution_MnKa)"
            ],
            "outputs": [
                {
                    "output_type": "stream",
                    "name": "stdout",
                    "text": [
                        "133.312296\n",
                        "135.0\n"
                    ]
                }
            ],
            "metadata": {
                "collapsed": false
            }
        },
        {
            "source": [
                "## eds_tem"
            ],
            "cell_type": "markdown",
            "metadata": {}
        },
        {
            "execution_count": 22,
            "cell_type": "code",
            "source": [
                "#get_calibration_from\n",
                "ref = hs.datasets.example_signals.EDS_TEM_Spectrum()\n",
                "s = hs.signals.EDSTEMSpectrum(\n",
                "hs.datasets.example_signals.EDS_TEM_Spectrum().data)\n",
                "print s.axes_manager[0].scale\n",
                "s.get_calibration_from(ref)\n",
                "print s.axes_manager[0].scale"
            ],
            "outputs": [
                {
                    "output_type": "stream",
                    "name": "stdout",
                    "text": [
                        "1.0\n",
                        "0.020028\n"
                    ]
                }
            ],
            "metadata": {
                "collapsed": false
            }
        },
        {
            "execution_count": 23,
            "cell_type": "code",
            "source": [
                "#quant\n",
                "s = hs.datasets.example_signals.EDS_TEM_Spectrum()\n",
                "s.add_lines()\n",
                "kfactors = [1.450226, 5.075602] #For Fe Ka and Pt La\n",
                "bw = s.estimate_background_windows(line_width=[5.0, 2.0])\n",
                "s.plot(background_windows=bw)\n",
                "intensities = s.get_lines_intensity(background_windows=bw)\n",
                "res = s.quantification(intensities, kfactors, plot_result=True,\n",
                "composition_units='atomic')"
            ],
            "outputs": [
                {
                    "output_type": "stream",
                    "name": "stdout",
                    "text": [
                        "Fe_Ka line added,\n",
                        "Pt_La line added,\n",
                        "Fe (Fe_Ka): Composition = 15.41 atomic percent\n",
                        "Pt (Pt_La): Composition = 84.59 atomic percent\n"
                    ]
                }
            ],
            "metadata": {
                "collapsed": false
            }
        },
        {
            "execution_count": 24,
            "cell_type": "code",
            "source": [
                "# Simulate a spectrum image with vacuum region\n",
                "import numpy as np\n",
                "s = hs.datasets.example_signals.EDS_TEM_Spectrum()\n",
                "s_vac = hs.signals.Simulation(np.ones_like(s.data, dtype=float))*0.005\n",
                "s_vac.add_poissonian_noise()\n",
                "si = hs.stack([s]*3 + [s_vac])\n",
                "si.vacuum_mask().data"
            ],
            "outputs": [
                {
                    "execution_count": 24,
                    "output_type": "execute_result",
                    "data": {
                        "text/plain": [
                            "array([False, False, False,  True], dtype=bool)"
                        ]
                    },
                    "metadata": {}
                }
            ],
            "metadata": {
                "collapsed": false
            }
        },
        {
            "execution_count": 25,
            "cell_type": "code",
            "source": [
                "s = hs.datasets.example_signals.EDS_TEM_Spectrum()\n",
                "si = hs.stack([s]*3)\n",
                "si.change_dtype(float)\n",
                "si.decomposition()"
            ],
            "outputs": [
                {
                    "output_type": "stream",
                    "name": "stdout",
                    "text": [
                        "\n",
                        "Scaling the data to normalize the (presumably) Poissonian noise\n",
                        "\n",
                        "Performing decomposition analysis\n",
                        "Auto transposing the data\n",
                        "Undoing data pre-treatments\n"
                    ]
                }
            ],
            "metadata": {
                "collapsed": false
            }
        },
        {
            "source": [
                "## utils.eds"
            ],
            "cell_type": "markdown",
            "metadata": {}
        },
        {
            "execution_count": 26,
            "cell_type": "code",
            "source": [
                "# Electron range in pure Copper at 30 kV in micron\n",
                "hs.eds.electron_range('Cu', 30.)"
            ],
            "outputs": [
                {
                    "execution_count": 26,
                    "output_type": "execute_result",
                    "data": {
                        "text/plain": [
                            "2.8766744984001607"
                        ]
                    },
                    "metadata": {}
                }
            ],
            "metadata": {
                "collapsed": false
            }
        },
        {
            "execution_count": 27,
            "cell_type": "code",
            "source": [
                "# X-ray range of Cu Ka in pure Copper at 30 kV in micron\n",
                "hs.eds.xray_range('Cu_Ka', 30.)"
            ],
            "outputs": [
                {
                    "execution_count": 27,
                    "output_type": "execute_result",
                    "data": {
                        "text/plain": [
                            "1.9361716759499248"
                        ]
                    },
                    "metadata": {}
                }
            ],
            "metadata": {
                "collapsed": false
            }
        },
        {
            "execution_count": 28,
            "cell_type": "code",
            "source": [
                "# X-ray range of Cu Ka in pure Carbon at 30kV in micron\n",
                "hs.eds.xray_range('Cu_Ka', 30., hs.material.elements.C.\n",
                "Physical_properties.density_gcm3)\n",
                "            "
            ],
            "outputs": [
                {
                    "execution_count": 28,
                    "output_type": "execute_result",
                    "data": {
                        "text/plain": [
                            "7.6418811280855454"
                        ]
                    },
                    "metadata": {}
                }
            ],
            "metadata": {
                "collapsed": false
            }
        },
        {
            "execution_count": 27,
            "cell_type": "code",
            "source": [],
            "outputs": [],
            "metadata": {
                "collapsed": false
            }
        }
    ],
    "nbformat": 4,
    "metadata": {
        "kernelspec": {
            "display_name": "Python 2",
            "name": "python2",
            "language": "python"
        },
        "language_info": {
            "mimetype": "text/x-python",
            "nbconvert_exporter": "python",
            "name": "python",
            "file_extension": ".py",
            "version": "2.7.10",
            "pygments_lexer": "ipython2",
            "codemirror_mode": {
                "version": 2,
                "name": "ipython"
            }
        }
    }
}