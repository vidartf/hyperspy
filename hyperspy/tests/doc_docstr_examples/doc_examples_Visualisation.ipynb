{
 "metadata": {
  "name": "",
  "signature": "sha256:c451dc739c73485b410d89f3dac706c3f8efbf9c5e5613fd3a4481a18543d141"
 },
 "nbformat": 3,
 "nbformat_minor": 0,
 "worksheets": [
  {
   "cells": [
    {
     "cell_type": "heading",
     "level": 1,
     "metadata": {},
     "source": [
      "Data visualization Doc"
     ]
    },
    {
     "cell_type": "markdown",
     "metadata": {},
     "source": [
      "Examples in the Data visualization chapter"
     ]
    },
    {
     "cell_type": "code",
     "collapsed": false,
     "input": [
      "%matplotlib qt\n",
      "#%matplotlib inline"
     ],
     "language": "python",
     "metadata": {},
     "outputs": [],
     "prompt_number": 12
    },
    {
     "cell_type": "heading",
     "level": 2,
     "metadata": {},
     "source": [
      "Customizing the \u201cnavigator\u201d"
     ]
    },
    {
     "cell_type": "code",
     "collapsed": false,
     "input": [
      "    >>> from urllib import urlretrieve\n",
      "    >>> url = 'http://cook.msm.cam.ac.uk//~hyperspy//EDS_tutorial//'\n",
      "    >>> urlretrieve(url + 'TiFeNi_010.rpl', 'Ni_superalloy_010.rpl')\n",
      "    >>> urlretrieve(url + 'TiFeNi_010.raw', 'TiFeNi_010.raw')\n",
      "    >>> urlretrieve(url + 'TiFeNi_011.rpl', 'TiFeNi_011.rpl')\n",
      "    >>> urlretrieve(url + 'TiFeNi_011.raw', 'TiFeNi_011.raw')\n",
      "    >>> urlretrieve(url + 'image010.tif', 'image010.tif')\n",
      "    >>> urlretrieve(url + 'image011.tif', 'image011.tif')"
     ],
     "language": "python",
     "metadata": {},
     "outputs": [
      {
       "metadata": {},
       "output_type": "pyout",
       "prompt_number": 13,
       "text": [
        "('image011.tif', <httplib.HTTPMessage instance at 0x000000001B236408>)"
       ]
      }
     ],
     "prompt_number": 13
    },
    {
     "cell_type": "code",
     "collapsed": false,
     "input": [
      "    >>> img = load('image*.tif', stack=True)\n",
      "    >>> img.plot(navigator=\"slider\")"
     ],
     "language": "python",
     "metadata": {},
     "outputs": [
      {
       "output_type": "stream",
       "stream": "stdout",
       "text": [
        "\n",
        "Loading individual files\n",
        "\n",
        "Individual files loaded correctly\n",
        "\n",
        "\tTitle: doc_docstr\n",
        "\tSignal type: \n",
        "\tData dimensions: (2, 1024, 768)\n",
        "\tData representation: image\n",
        "\tData type: uint8\n"
       ]
      }
     ],
     "prompt_number": 14
    },
    {
     "cell_type": "code",
     "collapsed": false,
     "input": [
      "    >>> s = load('TiFeNi_0*.rpl', stack=True).as_spectrum(0)\n",
      "    >>> s.plot()"
     ],
     "language": "python",
     "metadata": {},
     "outputs": [
      {
       "output_type": "stream",
       "stream": "stdout",
       "text": [
        "Loading as Image\n",
        "\n",
        "Individual files loaded correctly\n",
        "\n",
        "\tTitle: doc_docstr\n",
        "\tSignal type: \n",
        "\tData dimensions: (1024, 1, 128, 96)\n",
        "\tData representation: image\n",
        "\tData type: int16\n"
       ]
      }
     ],
     "prompt_number": 15
    },
    {
     "cell_type": "code",
     "collapsed": false,
     "input": [
      "    >>> im = load('image*.tif', stack=True)\n",
      "    >>> s = load('TiFeNi_0*.rpl', stack=True).as_spectrum(0)\n",
      "    >>> dim = s.axes_manager.navigation_shape\n",
      "    >>> #Rebin the image\n",
      "    >>> im = im.rebin([dim[2], dim[0], dim[1]])\n",
      "    >>> s.plot(navigator=im)"
     ],
     "language": "python",
     "metadata": {},
     "outputs": [
      {
       "output_type": "stream",
       "stream": "stdout",
       "text": [
        "\n",
        "Loading individual files\n",
        "\n",
        "Individual files loaded correctly\n",
        "\n",
        "\tTitle: doc_docstr\n",
        "\tSignal type: \n",
        "\tData dimensions: (2, 1024, 768)\n",
        "\tData representation: image\n",
        "\tData type: uint8\n",
        "Loading as Image\n",
        "\n",
        "Individual files loaded correctly\n",
        "\n",
        "\tTitle: doc_docstr\n",
        "\tSignal type: \n",
        "\tData dimensions: (1024, 1, 128, 96)\n",
        "\tData representation: image\n",
        "\tData type: int16\n"
       ]
      }
     ],
     "prompt_number": 16
    },
    {
     "cell_type": "code",
     "collapsed": false,
     "input": [
      "    >>> imgSpec = load('TiFeNi_0*.rpl', stack=True)\n",
      "    >>> imgSpec.plot(navigator='spectrum')"
     ],
     "language": "python",
     "metadata": {},
     "outputs": [
      {
       "output_type": "stream",
       "stream": "stdout",
       "text": [
        "Loading as Image\n",
        "\n",
        "Individual files loaded correctly\n",
        "\n",
        "\tTitle: doc_docstr\n",
        "\tSignal type: \n",
        "\tData dimensions: (1024, 1, 128, 96)\n",
        "\tData representation: image\n",
        "\tData type: int16\n"
       ]
      }
     ],
     "prompt_number": 17
    },
    {
     "cell_type": "code",
     "collapsed": false,
     "input": [
      "    >>> imgSpec = load('TiFeNi_0*.rpl', stack=True)\n",
      "    >>> specMax = imgSpec.max(-1).max(-1).max(-1).as_spectrum(0)\n",
      "    >>> imgSpec.plot(navigator=specMax)"
     ],
     "language": "python",
     "metadata": {},
     "outputs": [
      {
       "output_type": "stream",
       "stream": "stdout",
       "text": [
        "Loading as Image\n",
        "\n",
        "Individual files loaded correctly\n",
        "\n",
        "\tTitle: doc_docstr\n",
        "\tSignal type: \n",
        "\tData dimensions: (1024, 1, 128, 96)\n",
        "\tData representation: image\n",
        "\tData type: int16\n"
       ]
      }
     ],
     "prompt_number": 18
    },
    {
     "cell_type": "heading",
     "level": 2,
     "metadata": {},
     "source": [
      "Using Mayavi to visualize 3D data"
     ]
    },
    {
     "cell_type": "code",
     "collapsed": false,
     "input": [
      "    >>> from urllib import urlretrieve\n",
      "    >>> url = 'http://cook.msm.cam.ac.uk//~hyperspy//EDS_tutorial//'\n",
      "    >>> urlretrieve(url + 'Ni_La_intensity.hdf5', 'Ni_La_intensity.hdf5')"
     ],
     "language": "python",
     "metadata": {},
     "outputs": [
      {
       "metadata": {},
       "output_type": "pyout",
       "prompt_number": 19,
       "text": [
        "('Ni_La_intensity.hdf5', <httplib.HTTPMessage instance at 0x000000001BD34C88>)"
       ]
      }
     ],
     "prompt_number": 19
    },
    {
     "cell_type": "code",
     "collapsed": false,
     "input": [
      "    >>> from mayavi import mlab\n",
      "    >>> ni = load('Ni_La_intensity.hdf5')\n",
      "    >>> mlab.figure()\n",
      "    >>> mlab.contour3d(ni.data, contours=[85])\n",
      "    >>> mlab.outline(color=(0, 0, 0))"
     ],
     "language": "python",
     "metadata": {},
     "outputs": [
      {
       "output_type": "stream",
       "stream": "stderr",
       "text": [
        "WARNING:traits.has_traits:DEPRECATED: traits.has_traits.wrapped_class, 'the 'implements' class advisor has been deprecated. Use the 'provides' class decorator.\n"
       ]
      },
      {
       "output_type": "stream",
       "stream": "stderr",
       "text": [
        "C:\\Anaconda\\lib\\site-packages\\traits\\has_traits.py:1766: FutureWarning: comparison to `None` will result in an elementwise object comparison in the future.\n",
        "  setattr( self, name, value )\n"
       ]
      },
      {
       "metadata": {},
       "output_type": "pyout",
       "prompt_number": 20,
       "text": [
        "<mayavi.modules.outline.Outline at 0x2d3f9b48>"
       ]
      }
     ],
     "prompt_number": 20
    },
    {
     "cell_type": "heading",
     "level": 2,
     "metadata": {},
     "source": [
      "plot_spectra"
     ]
    },
    {
     "cell_type": "code",
     "collapsed": false,
     "input": [
      "    >>> import scipy.misc\n",
      "    >>> s = signals.Spectrum(scipy.misc.lena()[100:160:10])\n",
      "    >>> cascade_plot = utils.plot.plot_spectra(s, style='cascade')\n",
      "    >>> cascade_plot.figure.savefig(\"cascade_plot.png\")"
     ],
     "language": "python",
     "metadata": {},
     "outputs": [],
     "prompt_number": 21
    },
    {
     "cell_type": "code",
     "collapsed": false,
     "input": [
      "    >>> import scipy.misc\n",
      "    >>> s = signals.Spectrum(scipy.misc.lena()[100:160:10])\n",
      "    >>> color_list = ['red', 'red', 'blue', 'blue', 'red', 'red']\n",
      "    >>> line_style_list = ['-','--','steps','-.',':','-']\n",
      "    >>> utils.plot.plot_spectra(s, style='cascade', color=color_list,\n",
      "    >>> line_style=line_style_list,legend='auto')"
     ],
     "language": "python",
     "metadata": {},
     "outputs": [
      {
       "metadata": {},
       "output_type": "pyout",
       "prompt_number": 22,
       "text": [
        "<matplotlib.axes._subplots.AxesSubplot at 0x2db94a58>"
       ]
      }
     ],
     "prompt_number": 22
    },
    {
     "cell_type": "code",
     "collapsed": false,
     "input": [
      "    >>> import scipy.misc\n",
      "    >>> s = signals.Spectrum(scipy.misc.lena()[100:160:10])\n",
      "    >>> utils.plot.plot_spectra(s, style='heatmap')"
     ],
     "language": "python",
     "metadata": {},
     "outputs": [
      {
       "metadata": {},
       "output_type": "pyout",
       "prompt_number": 23,
       "text": [
        "<matplotlib.axes._subplots.AxesSubplot at 0x2dc74550>"
       ]
      }
     ],
     "prompt_number": 23
    },
    {
     "cell_type": "code",
     "collapsed": false,
     "input": [
      "    >>> import scipy.misc\n",
      "    >>> s = signals.Spectrum(scipy.misc.lena()[100:120:10])\n",
      "    >>> utils.plot.plot_spectra(s, style='mosaic')"
     ],
     "language": "python",
     "metadata": {},
     "outputs": [
      {
       "metadata": {},
       "output_type": "pyout",
       "prompt_number": 24,
       "text": [
        "array([<matplotlib.axes._subplots.AxesSubplot object at 0x000000002DFC8BA8>,\n",
        "       <matplotlib.axes._subplots.AxesSubplot object at 0x000000002E154400>], dtype=object)"
       ]
      }
     ],
     "prompt_number": 24
    },
    {
     "cell_type": "code",
     "collapsed": false,
     "input": [
      "    >>> import matplotlib.cm\n",
      "    >>> import scipy.misc\n",
      "    >>> s = signals.Spectrum(scipy.misc.lena()[100:120:10])\n",
      "    >>> ax = utils.plot.plot_spectra(s, style=\"heatmap\")\n",
      "    >>> ax.images[0].set_cmap(matplotlib.cm.jet)"
     ],
     "language": "python",
     "metadata": {},
     "outputs": [],
     "prompt_number": 25
    },
    {
     "cell_type": "code",
     "collapsed": false,
     "input": [
      "    >>> import scipy.misc\n",
      "    >>> s = signals.Spectrum(scipy.misc.lena()[100:160:10])\n",
      "    >>> legendtext = ['Plot 0', 'Plot 1', 'Plot 2', 'Plot 3', 'Plot 4', 'Plot 5']\n",
      "    >>> cascade_plot = utils.plot.plot_spectra(\n",
      "    >>>     s, style='cascade', legend=legendtext, dpi=60,\n",
      "    >>>     facecolor='lightblue', frameon=True, num=5)\n",
      "    >>> cascade_plot.set_xlabel(\"X-axis\")\n",
      "    >>> cascade_plot.set_ylabel(\"Y-axis\")\n",
      "    >>> cascade_plot.set_title(\"Cascade plot\")\n",
      "    >>> plt.draw()"
     ],
     "language": "python",
     "metadata": {},
     "outputs": [],
     "prompt_number": 26
    },
    {
     "cell_type": "code",
     "collapsed": false,
     "input": [
      "    >>> import scipy.misc\n",
      "    >>> s = signals.Spectrum(scipy.misc.lena()[100:160:10])\n",
      "    >>> cascade_plot = utils.plot.plot_spectra(s)\n",
      "    >>> cascade_plot.set_xlabel(\"An axis\")\n",
      "    >>> cascade_plot.set_ylabel(\"Another axis\")\n",
      "    >>> cascade_plot.set_title(\"A title!\")\n",
      "    >>> plt.draw()"
     ],
     "language": "python",
     "metadata": {},
     "outputs": [],
     "prompt_number": 27
    },
    {
     "cell_type": "code",
     "collapsed": false,
     "input": [
      "    >>> import scipy.misc\n",
      "    >>> fig, axarr = plt.subplots(1,2)\n",
      "    >>> s1 = signals.Spectrum(scipy.misc.lena()[100:160:10])\n",
      "    >>> s2 = signals.Spectrum(scipy.misc.lena()[200:260:10])\n",
      "    >>> utils.plot.plot_spectra(s1, style='cascade',color='blue',ax=axarr[0],fig=fig)\n",
      "    >>> utils.plot.plot_spectra(s2, style='cascade',color='red',ax=axarr[1],fig=fig)\n",
      "    >>> fig.canvas.draw()"
     ],
     "language": "python",
     "metadata": {},
     "outputs": [],
     "prompt_number": 28
    },
    {
     "cell_type": "heading",
     "level": 2,
     "metadata": {},
     "source": [
      "Plot_signals"
     ]
    },
    {
     "cell_type": "code",
     "collapsed": false,
     "input": [
      "    >>> import scipy.misc\n",
      "    >>> s1 = signals.Spectrum(scipy.misc.face()).as_spectrum(0)[:,:3]\n",
      "    >>> s2 = s1.deepcopy()*-1\n",
      "    >>> utils.plot.plot_signals([s1, s2])"
     ],
     "language": "python",
     "metadata": {},
     "outputs": [],
     "prompt_number": 29
    },
    {
     "cell_type": "code",
     "collapsed": false,
     "input": [
      "    >>> import scipy.misc\n",
      "    >>> s1 = signals.Spectrum(scipy.misc.face()).as_spectrum(0)[:,:3]\n",
      "    >>> s2 = s1.deepcopy()*-1\n",
      "    >>> utils.plot.plot_signals([s1, s2], navigator=\"slider\")"
     ],
     "language": "python",
     "metadata": {},
     "outputs": [
      {
       "output_type": "stream",
       "stream": "stderr",
       "text": [
        "C:\\Anaconda\\lib\\site-packages\\matplotlib\\pyplot.py:423: RuntimeWarning: More than 20 figures have been opened. Figures created through the pyplot interface (`matplotlib.pyplot.figure`) are retained until explicitly closed and may consume too much memory. (To control this warning, see the rcParam `figure.max_num_figures`).\n",
        "  max_open_warning, RuntimeWarning)\n"
       ]
      }
     ],
     "prompt_number": 30
    },
    {
     "cell_type": "code",
     "collapsed": false,
     "input": [
      "    >>> import scipy.misc\n",
      "    >>> s1 = signals.Spectrum(scipy.misc.face()).as_spectrum(0)[:,:3]\n",
      "    >>> s2 = s1.deepcopy()*-1\n",
      "    >>> s3 = signals.Spectrum(np.linspace(0,9,9).reshape([3,3])) \n",
      "    >>> utils.plot.plot_signals([s1, s2], navigator_list=[\"slider\", s3])"
     ],
     "language": "python",
     "metadata": {},
     "outputs": [],
     "prompt_number": 31
    },
    {
     "cell_type": "code",
     "collapsed": false,
     "input": [
      "    >>> import scipy.misc\n",
      "    >>> s1 = signals.Spectrum(scipy.misc.face()).as_spectrum(0)[:,:3]\n",
      "    >>> s2 = s1.deepcopy()*-1\n",
      "    >>> utils.plot.plot_signals([s1, s2], sync=False, navigator_list=[\"slider\", \"slider\"])"
     ],
     "language": "python",
     "metadata": {},
     "outputs": [],
     "prompt_number": 32
    },
    {
     "cell_type": "code",
     "collapsed": false,
     "input": [
      "    >>> s = signals.Spectrum(np.arange(100).reshape([10,10]))\n",
      "    >>> s.plot(navigator='spectrum')\n",
      "    >>> for i in range(s.axes_manager.shape[0]):\n",
      "    >>>     m = utils.plot.markers.text(y=s.sum(-1).data[i]+5,\n",
      "    >>>                                 x=i, text='abcdefghij'[i])\n",
      "    >>>     s.add_marker(m, plot_on_signal=False)\n",
      "    >>> x = s.axes_manager.shape[-1]/2 #middle of signal plot\n",
      "    >>> m = utils.plot.markers.text(x=x, y=s[:, x].data+2,\n",
      "    >>>                             text=[i for i in 'abcdefghij'])\n",
      "    >>> s.add_marker(m)"
     ],
     "language": "python",
     "metadata": {},
     "outputs": [],
     "prompt_number": 33
    },
    {
     "cell_type": "heading",
     "level": 2,
     "metadata": {},
     "source": [
      "Plot_images"
     ]
    },
    {
     "cell_type": "code",
     "collapsed": false,
     "input": [
      "    >>> import scipy\n",
      "    >>> image = signals.Image([scipy.misc.lena()]*6)\n",
      "    >>> angles = signals.Signal(range(10,70,10))\n",
      "    >>> angles.axes_manager.set_signal_dimension(0)\n",
      "    >>> image.map(scipy.ndimage.rotate, angle=angles, reshape=False)\n",
      "    >>> utils.plot.plot_images(image, tight_layout=True)"
     ],
     "language": "python",
     "metadata": {},
     "outputs": [
      {
       "output_type": "stream",
       "stream": "stdout",
       "text": [
        "\r",
        "calculating   0% |                                             | ETA:  --:--:--"
       ]
      },
      {
       "output_type": "stream",
       "stream": "stdout",
       "text": [
        " \r",
        "calculating  16% |#######                                      | ETA:  00:00:00"
       ]
      },
      {
       "output_type": "stream",
       "stream": "stdout",
       "text": [
        " \r",
        "calculating  33% |###############                              | ETA:  00:00:00"
       ]
      },
      {
       "output_type": "stream",
       "stream": "stdout",
       "text": [
        " \r",
        "calculating  50% |######################                       | ETA:  00:00:00"
       ]
      },
      {
       "output_type": "stream",
       "stream": "stdout",
       "text": [
        " \r",
        "calculating  66% |##############################               | ETA:  00:00:00"
       ]
      },
      {
       "output_type": "stream",
       "stream": "stdout",
       "text": [
        " \r",
        "calculating  83% |#####################################        | ETA:  00:00:00"
       ]
      },
      {
       "output_type": "stream",
       "stream": "stdout",
       "text": [
        " \r",
        "calculating 100% |#############################################| ETA:  00:00:00"
       ]
      },
      {
       "output_type": "stream",
       "stream": "stdout",
       "text": [
        " \n",
        "\n"
       ]
      },
      {
       "output_type": "stream",
       "stream": "stderr",
       "text": [
        "c:\\users\\pb565\\documents\\python\\hyperspy\\hyperspy\\drawing\\utils.py:754: UserWarning: Axes labels were requested, but one or both of the axes units and/or name are undefined. Axes decorations have been set to 'ticks' instead.\n",
        "  'Axes labels were requested, but one '\n"
       ]
      },
      {
       "metadata": {},
       "output_type": "pyout",
       "prompt_number": 34,
       "text": [
        "[<matplotlib.axes._subplots.AxesSubplot at 0x36c57a20>,\n",
        " <matplotlib.axes._subplots.AxesSubplot at 0x38782668>,\n",
        " <matplotlib.axes._subplots.AxesSubplot at 0x388988d0>,\n",
        " <matplotlib.axes._subplots.AxesSubplot at 0x38af5080>,\n",
        " <matplotlib.axes._subplots.AxesSubplot at 0x38d12438>,\n",
        " <matplotlib.axes._subplots.AxesSubplot at 0x38eec278>]"
       ]
      }
     ],
     "prompt_number": 34
    },
    {
     "cell_type": "code",
     "collapsed": false,
     "input": [
      "    >>> import scipy\n",
      "    >>> image = signals.Image([scipy.misc.lena()]*6)\n",
      "    >>> angles = signals.Signal(range(10,70,10))\n",
      "    >>> angles.axes_manager.set_signal_dimension(0)\n",
      "    >>> image.map(scipy.ndimage.rotate, angle=angles, reshape=False)\n",
      "    >>> utils.plot.plot_images(\n",
      "    >>>     image, suptitle='Turning Lena', axes_decor='off',\n",
      "    >>>     label=['Rotation ' + str(angle.data[0]) + \n",
      "    >>>            '$^\\degree$' for angle in angles], colorbar=None)"
     ],
     "language": "python",
     "metadata": {},
     "outputs": [
      {
       "output_type": "stream",
       "stream": "stdout",
       "text": [
        "\r",
        "calculating   0% |                                             | ETA:  --:--:--"
       ]
      },
      {
       "output_type": "stream",
       "stream": "stdout",
       "text": [
        " \r",
        "calculating  16% |#######                                      | ETA:  00:00:00"
       ]
      },
      {
       "output_type": "stream",
       "stream": "stdout",
       "text": [
        " \r",
        "calculating  33% |###############                              | ETA:  00:00:00"
       ]
      },
      {
       "output_type": "stream",
       "stream": "stdout",
       "text": [
        " \r",
        "calculating  50% |######################                       | ETA:  00:00:00"
       ]
      },
      {
       "output_type": "stream",
       "stream": "stdout",
       "text": [
        " \r",
        "calculating  66% |##############################               | ETA:  00:00:00"
       ]
      },
      {
       "output_type": "stream",
       "stream": "stdout",
       "text": [
        " \r",
        "calculating  83% |#####################################        | ETA:  00:00:00"
       ]
      },
      {
       "output_type": "stream",
       "stream": "stdout",
       "text": [
        " \r",
        "calculating 100% |#############################################| ETA:  00:00:00"
       ]
      },
      {
       "output_type": "stream",
       "stream": "stdout",
       "text": [
        " \n",
        "\n"
       ]
      },
      {
       "metadata": {},
       "output_type": "pyout",
       "prompt_number": 35,
       "text": [
        "[<matplotlib.axes._subplots.AxesSubplot at 0x3959d6d8>,\n",
        " <matplotlib.axes._subplots.AxesSubplot at 0x39602cf8>,\n",
        " <matplotlib.axes._subplots.AxesSubplot at 0x39d181d0>,\n",
        " <matplotlib.axes._subplots.AxesSubplot at 0x396cbcf8>,\n",
        " <matplotlib.axes._subplots.AxesSubplot at 0x39de0ef0>,\n",
        " <matplotlib.axes._subplots.AxesSubplot at 0x39e60748>]"
       ]
      }
     ],
     "prompt_number": 35
    },
    {
     "cell_type": "code",
     "collapsed": false,
     "input": [
      "    >>> import scipy\n",
      "\n",
      "    >>> # load red channel of raccoon as an image\n",
      "    >>> image0 = signals.Image(scipy.misc.face()[:,:,0])\n",
      "    >>> image0.metadata.General.title = 'Rocky Raccoon - R'\n",
      "\n",
      "    >>> # load lena into 6 hyperimage\n",
      "    >>> image1 = signals.Image([scipy.misc.lena()]*6)\n",
      "    >>> angles = signals.Signal(range(10,70,10))\n",
      "    >>> angles.axes_manager.set_signal_dimension(0)\n",
      "    >>> image1.map(scipy.ndimage.rotate, angle=angles, reshape=False)\n",
      "\n",
      "    >>> # load green channel of raccoon as an image\n",
      "    >>> image2 = signals.Image(scipy.misc.face()[:,:,1])\n",
      "    >>> image2.metadata.General.title = 'Rocky Raccoon - G'\n",
      "\n",
      "    >>> # load rgb image of the raccoon\n",
      "    >>> rgb = signals.Spectrum(scipy.misc.face())\n",
      "    >>> rgb.change_dtype(\"rgb8\")\n",
      "    >>> rgb.metadata.General.title = 'Raccoon - RGB'\n",
      "    \n",
      "    >>> images = [image0, image1, image2, rgb]\n",
      "    >>> for im in images:\n",
      "    >>>     ax = im.axes_manager.signal_axes\n",
      "    >>>     ax[0].name, ax[1].name = 'x', 'y'\n",
      "    >>>     ax[0].units, ax[1].units = 'mm', 'mm'\n",
      "    >>> utils.plot.plot_images(images, tight_layout=True, \n",
      "    >>>                        colorbar='single', labelwrap=20)"
     ],
     "language": "python",
     "metadata": {},
     "outputs": [
      {
       "output_type": "stream",
       "stream": "stdout",
       "text": [
        "\r",
        "calculating   0% |                                             | ETA:  --:--:--"
       ]
      },
      {
       "output_type": "stream",
       "stream": "stdout",
       "text": [
        " \r",
        "calculating  16% |#######                                      | ETA:  00:00:00"
       ]
      },
      {
       "output_type": "stream",
       "stream": "stdout",
       "text": [
        " \r",
        "calculating  33% |###############                              | ETA:  00:00:00"
       ]
      },
      {
       "output_type": "stream",
       "stream": "stdout",
       "text": [
        " \r",
        "calculating  50% |######################                       | ETA:  00:00:00"
       ]
      },
      {
       "output_type": "stream",
       "stream": "stdout",
       "text": [
        " \r",
        "calculating  66% |##############################               | ETA:  00:00:00"
       ]
      },
      {
       "output_type": "stream",
       "stream": "stdout",
       "text": [
        " \r",
        "calculating  83% |#####################################        | ETA:  00:00:00"
       ]
      },
      {
       "output_type": "stream",
       "stream": "stdout",
       "text": [
        " \r",
        "calculating 100% |#############################################| ETA:  00:00:00"
       ]
      },
      {
       "output_type": "stream",
       "stream": "stdout",
       "text": [
        " \n",
        "\n"
       ]
      },
      {
       "output_type": "stream",
       "stream": "stderr",
       "text": [
        "C:\\Anaconda\\lib\\site-packages\\matplotlib\\figure.py:1644: UserWarning: This figure includes Axes that are not compatible with tight_layout, so its results might be incorrect.\n",
        "  warnings.warn(\"This figure includes Axes that are not \"\n"
       ]
      },
      {
       "metadata": {},
       "output_type": "pyout",
       "prompt_number": 36,
       "text": [
        "[<matplotlib.axes._subplots.AxesSubplot at 0x39e52fd0>,\n",
        " <matplotlib.axes._subplots.AxesSubplot at 0x3a402160>,\n",
        " <matplotlib.axes._subplots.AxesSubplot at 0x3a39b2b0>,\n",
        " <matplotlib.axes._subplots.AxesSubplot at 0x3a27f8d0>,\n",
        " <matplotlib.axes._subplots.AxesSubplot at 0x3a29c5c0>,\n",
        " <matplotlib.axes._subplots.AxesSubplot at 0x3a539898>,\n",
        " <matplotlib.axes._subplots.AxesSubplot at 0x3a613390>,\n",
        " <matplotlib.axes._subplots.AxesSubplot at 0x3a6d4400>,\n",
        " <matplotlib.axes._subplots.AxesSubplot at 0x3a7e94e0>]"
       ]
      }
     ],
     "prompt_number": 36
    },
    {
     "cell_type": "code",
     "collapsed": false,
     "input": [
      "    >>> from urllib import urlretrieve\n",
      "    >>> url = 'http://cook.msm.cam.ac.uk//~hyperspy//EDS_tutorial//'\n",
      "    >>> urlretrieve(url + 'core_shell.hdf5', 'core_shell.hdf5')"
     ],
     "language": "python",
     "metadata": {},
     "outputs": [
      {
       "metadata": {},
       "output_type": "pyout",
       "prompt_number": 39,
       "text": [
        "('core_shell.hdf5', <httplib.HTTPMessage instance at 0x00000000342AA7C8>)"
       ]
      }
     ],
     "prompt_number": 39
    },
    {
     "cell_type": "code",
     "collapsed": false,
     "input": [
      "    >>> si_EDS = load(\"core_shell.hdf5\")\n",
      "    >>> im = si_EDS.get_lines_intensity()\n",
      "    >>> utils.plot.plot_images(\n",
      "    >>>     im, tight_layout=True, cmap='RdYlBu_r', axes_decor='off',\n",
      "    >>>     colorbar='single', saturated_pixels=0.0, scalebar='all', \n",
      "    >>>     scalebar_color='black', suptitle_fontsize=16,\n",
      "    >>>     padding={'top':0.8, 'bottom':0.10, 'left':0.05,\n",
      "    >>>              'right':0.85, 'wspace':0.20, 'hspace':0.10})    "
     ],
     "language": "python",
     "metadata": {},
     "outputs": [
      {
       "metadata": {},
       "output_type": "pyout",
       "prompt_number": 41,
       "text": [
        "[<matplotlib.axes._subplots.AxesSubplot at 0x43ba9e80>,\n",
        " <matplotlib.axes._subplots.AxesSubplot at 0x43ca2908>]"
       ]
      }
     ],
     "prompt_number": 41
    },
    {
     "cell_type": "code",
     "collapsed": false,
     "input": [],
     "language": "python",
     "metadata": {},
     "outputs": []
    }
   ],
   "metadata": {}
  }
 ]
}