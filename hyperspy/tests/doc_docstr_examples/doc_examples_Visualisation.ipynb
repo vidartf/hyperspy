{
 "cells": [
  {
   "cell_type": "markdown",
   "metadata": {},
   "source": [
    "# Data visualization Doc"
   ]
  },
  {
   "cell_type": "markdown",
   "metadata": {},
   "source": [
    "Examples in the Data visualization chapter"
   ]
  },
  {
   "cell_type": "code",
   "execution_count": 1,
   "metadata": {
    "collapsed": false
   },
   "outputs": [],
   "source": [
    "%matplotlib qt4\n",
    "import numpy as np\n",
    "import hyperspy.api as hs\n",
    "import matplotlib.pyplot as plt\n",
    "\n"
   ]
  },
  {
   "cell_type": "markdown",
   "metadata": {},
   "source": [
    "## Customizing the “navigator”"
   ]
  },
  {
   "cell_type": "code",
   "execution_count": 2,
   "metadata": {
    "collapsed": false
   },
   "outputs": [
    {
     "data": {
      "text/plain": [
       "('image011.tif', <http.client.HTTPMessage at 0x7f5295ae1198>)"
      ]
     },
     "execution_count": 2,
     "metadata": {},
     "output_type": "execute_result"
    }
   ],
   "source": [
    "from urllib.request import urlretrieve\n",
    "url = 'http://cook.msm.cam.ac.uk//~hyperspy//EDS_tutorial//'\n",
    "urlretrieve(url + 'TiFeNi_010.rpl', 'Ni_superalloy_010.rpl')\n",
    "urlretrieve(url + 'TiFeNi_010.raw', 'TiFeNi_010.raw')\n",
    "urlretrieve(url + 'TiFeNi_011.rpl', 'TiFeNi_011.rpl')\n",
    "urlretrieve(url + 'TiFeNi_011.raw', 'TiFeNi_011.raw')\n",
    "urlretrieve(url + 'image010.tif', 'image010.tif')\n",
    "urlretrieve(url + 'image011.tif', 'image011.tif')"
   ]
  },
  {
   "cell_type": "code",
   "execution_count": 3,
   "metadata": {
    "collapsed": false
   },
   "outputs": [
    {
     "name": "stdout",
     "output_type": "stream",
     "text": [
      "\n",
      "Loading individual files\n",
      "\n",
      "Individual files loaded correctly\n",
      "\n",
      "\tTitle: doc_docstr_examples\n",
      "\tSignal type: \n",
      "\tData dimensions: (2, 1024, 768)\n",
      "\tData representation: image\n",
      "\tData type: uint8\n"
     ]
    },
    {
     "name": "stderr",
     "output_type": "stream",
     "text": [
      "/home/to266/dev/hyperspy/hyperspy/signals.py:83: VisibleDeprecationWarning: The Signal2D class will be deprecated from version 1.0.0 and replaced with Signal2D\n",
      "  VisibleDeprecationWarning)\n"
     ]
    }
   ],
   "source": [
    "img = hs.load('image*.tif', stack=True)\n",
    "img.plot(navigator=\"slider\")"
   ]
  },
  {
   "cell_type": "code",
   "execution_count": 4,
   "metadata": {
    "collapsed": false
   },
   "outputs": [
    {
     "name": "stdout",
     "output_type": "stream",
     "text": [
      "Loading as Signal2D\n",
      "\n",
      "Individual files loaded correctly\n",
      "\n",
      "\tTitle: doc_docstr_examples\n",
      "\tSignal type: \n",
      "\tData dimensions: (1024, 1, 128, 96)\n",
      "\tData representation: image\n",
      "\tData type: int16\n"
     ]
    },
    {
     "name": "stderr",
     "output_type": "stream",
     "text": [
      "/home/to266/dev/hyperspy/hyperspy/signals.py:83: VisibleDeprecationWarning: The Signal2D class will be deprecated from version 1.0.0 and replaced with Signal2D\n",
      "  VisibleDeprecationWarning)\n",
      "/home/to266/dev/hyperspy/hyperspy/signal.py:3413: VisibleDeprecationWarning: The as_signal1D method will be deprecated from version 1.0.0 and replaced with as_signal1D\n",
      "  VisibleDeprecationWarning)\n",
      "/home/to266/dev/hyperspy/hyperspy/signals.py:54: VisibleDeprecationWarning: The Signal1D class will be deprecated from version 1.0.0 and replaced with Signal1D\n",
      "  VisibleDeprecationWarning)\n",
      "/home/to266/dev/hyperspy/hyperspy/signals.py:126: VisibleDeprecationWarning: The Signal class will be deprecated from version 1.0.0 and replaced with BaseSignal\n",
      "  VisibleDeprecationWarning)\n",
      "/home/to266/dev/hyperspy/hyperspy/signal.py:3498: VisibleDeprecationWarning: The as_signal2D method will be deprecated from version 1.0.0 and replaced with as_signal2D\n",
      "  VisibleDeprecationWarning)\n"
     ]
    }
   ],
   "source": [
    "s = hs.load('TiFeNi_0*.rpl', stack=True).as_signal1D(0)\n",
    "s.plot()"
   ]
  },
  {
   "cell_type": "code",
   "execution_count": 5,
   "metadata": {
    "collapsed": false
   },
   "outputs": [
    {
     "name": "stdout",
     "output_type": "stream",
     "text": [
      "\n",
      "Loading individual files\n",
      "\n",
      "Individual files loaded correctly\n",
      "\n",
      "\tTitle: doc_docstr_examples\n",
      "\tSignal type: \n",
      "\tData dimensions: (2, 1024, 768)\n",
      "\tData representation: image\n",
      "\tData type: uint8\n",
      "Loading as Signal2D\n",
      "\n",
      "Individual files loaded correctly\n",
      "\n",
      "\tTitle: doc_docstr_examples\n",
      "\tSignal type: \n",
      "\tData dimensions: (1024, 1, 128, 96)\n",
      "\tData representation: image\n",
      "\tData type: int16\n"
     ]
    },
    {
     "name": "stderr",
     "output_type": "stream",
     "text": [
      "/home/to266/dev/hyperspy/hyperspy/signals.py:83: VisibleDeprecationWarning: The Signal2D class will be deprecated from version 1.0.0 and replaced with Signal2D\n",
      "  VisibleDeprecationWarning)\n",
      "/home/to266/dev/hyperspy/hyperspy/signal.py:3413: VisibleDeprecationWarning: The as_signal1D method will be deprecated from version 1.0.0 and replaced with as_signal1D\n",
      "  VisibleDeprecationWarning)\n",
      "/home/to266/dev/hyperspy/hyperspy/signals.py:54: VisibleDeprecationWarning: The Signal1D class will be deprecated from version 1.0.0 and replaced with Signal1D\n",
      "  VisibleDeprecationWarning)\n"
     ]
    }
   ],
   "source": [
    "im = hs.load('image*.tif', stack=True)\n",
    "s = hs.load('TiFeNi_0*.rpl', stack=True).as_signal1D(0)\n",
    "dim = s.axes_manager.navigation_shape\n",
    "#Rebin the image\n",
    "im = im.rebin([dim[2], dim[0], dim[1]])\n",
    "s.plot(navigator=im)"
   ]
  },
  {
   "cell_type": "code",
   "execution_count": 6,
   "metadata": {
    "collapsed": false
   },
   "outputs": [
    {
     "name": "stdout",
     "output_type": "stream",
     "text": [
      "Loading as Signal2D\n",
      "\n",
      "Individual files loaded correctly\n",
      "\n",
      "\tTitle: doc_docstr_examples\n",
      "\tSignal type: \n",
      "\tData dimensions: (1024, 1, 128, 96)\n",
      "\tData representation: image\n",
      "\tData type: int16\n"
     ]
    },
    {
     "name": "stderr",
     "output_type": "stream",
     "text": [
      "/home/to266/dev/hyperspy/hyperspy/signals.py:83: VisibleDeprecationWarning: The Signal2D class will be deprecated from version 1.0.0 and replaced with Signal2D\n",
      "  VisibleDeprecationWarning)\n",
      "/home/to266/dev/hyperspy/hyperspy/signals.py:54: VisibleDeprecationWarning: The Signal1D class will be deprecated from version 1.0.0 and replaced with Signal1D\n",
      "  VisibleDeprecationWarning)\n",
      "/home/to266/dev/hyperspy/hyperspy/signals.py:126: VisibleDeprecationWarning: The Signal class will be deprecated from version 1.0.0 and replaced with BaseSignal\n",
      "  VisibleDeprecationWarning)\n"
     ]
    }
   ],
   "source": [
    "imgSpec = hs.load('TiFeNi_0*.rpl', stack=True)\n",
    "imgSpec.plot(navigator='spectrum')"
   ]
  },
  {
   "cell_type": "code",
   "execution_count": 7,
   "metadata": {
    "collapsed": false
   },
   "outputs": [
    {
     "name": "stdout",
     "output_type": "stream",
     "text": [
      "Loading as Signal2D\n",
      "\n",
      "Individual files loaded correctly\n",
      "\n",
      "\tTitle: doc_docstr_examples\n",
      "\tSignal type: \n",
      "\tData dimensions: (1024, 1, 128, 96)\n",
      "\tData representation: image\n",
      "\tData type: int16\n"
     ]
    },
    {
     "name": "stderr",
     "output_type": "stream",
     "text": [
      "/home/to266/dev/hyperspy/hyperspy/signals.py:83: VisibleDeprecationWarning: The Signal2D class will be deprecated from version 1.0.0 and replaced with Signal2D\n",
      "  VisibleDeprecationWarning)\n",
      "/home/to266/dev/hyperspy/hyperspy/signals.py:54: VisibleDeprecationWarning: The Signal1D class will be deprecated from version 1.0.0 and replaced with Signal1D\n",
      "  VisibleDeprecationWarning)\n",
      "/home/to266/dev/hyperspy/hyperspy/signals.py:126: VisibleDeprecationWarning: The Signal class will be deprecated from version 1.0.0 and replaced with BaseSignal\n",
      "  VisibleDeprecationWarning)\n",
      "/home/to266/dev/hyperspy/hyperspy/signal.py:3413: VisibleDeprecationWarning: The as_signal1D method will be deprecated from version 1.0.0 and replaced with as_signal1D\n",
      "  VisibleDeprecationWarning)\n"
     ]
    }
   ],
   "source": [
    "imgSpec = hs.load('TiFeNi_0*.rpl', stack=True)\n",
    "specMax = imgSpec.max(-1).max(-1).max(-1).as_signal1D(0)\n",
    "imgSpec.plot(navigator=specMax)"
   ]
  },
  {
   "cell_type": "markdown",
   "metadata": {},
   "source": [
    "## Using Mayavi to visualize 3D data (only python 2)"
   ]
  },
  {
   "cell_type": "code",
   "execution_count": 9,
   "metadata": {
    "collapsed": false
   },
   "outputs": [
    {
     "data": {
      "text/plain": [
       "('Ni_La_intensity.hdf5', <http.client.HTTPMessage at 0x7f3d4ca92c50>)"
      ]
     },
     "execution_count": 9,
     "metadata": {},
     "output_type": "execute_result"
    }
   ],
   "source": [
    "from urllib.request import urlretrieve\n",
    "url = 'http://cook.msm.cam.ac.uk//~hyperspy//EDS_tutorial//'\n",
    "urlretrieve(url + 'Ni_La_intensity.hdf5', 'Ni_La_intensity.hdf5')"
   ]
  },
  {
   "cell_type": "code",
   "execution_count": null,
   "metadata": {
    "collapsed": false
   },
   "outputs": [],
   "source": [
    "\n",
    "from mayavi import mlab\n",
    "ni = hs.load('Ni_La_intensity.hdf5')\n",
    "mlab.figure()\n",
    "mlab.contour3d(ni.data, contours=[85])\n",
    "mlab.outline(color=(0, 0, 0))"
   ]
  },
  {
   "cell_type": "markdown",
   "metadata": {},
   "source": [
    "## plot_spectra"
   ]
  },
  {
   "cell_type": "code",
   "execution_count": 8,
   "metadata": {
    "collapsed": false
   },
   "outputs": [
    {
     "name": "stderr",
     "output_type": "stream",
     "text": [
      "/home/to266/anaconda3/lib/python3.5/site-packages/matplotlib/__init__.py:892: UserWarning: axes.color_cycle is deprecated and replaced with axes.prop_cycle; please use the latter.\n",
      "  warnings.warn(self.msg_depr % (key, alt_key))\n",
      "/home/to266/dev/hyperspy/hyperspy/signal.py:1331: VisibleDeprecationWarning: Indexing the `Signal` class is deprecated and will be removed in Hyperspy 1.0. Please use `.isig` and/or `.inav` instead.\n",
      "  VisibleDeprecationWarning)\n"
     ]
    }
   ],
   "source": [
    "import scipy.misc\n",
    "s = hs.signals.Signal1D(scipy.misc.ascent()[100:160:10])\n",
    "cascade_plot = hs.plot.plot_spectra(s, style='cascade')\n",
    "cascade_plot.figure.savefig(\"cascade_plot.png\")"
   ]
  },
  {
   "cell_type": "code",
   "execution_count": 9,
   "metadata": {
    "collapsed": false
   },
   "outputs": [
    {
     "name": "stderr",
     "output_type": "stream",
     "text": [
      "/home/to266/dev/hyperspy/hyperspy/signal.py:1331: VisibleDeprecationWarning: Indexing the `Signal` class is deprecated and will be removed in Hyperspy 1.0. Please use `.isig` and/or `.inav` instead.\n",
      "  VisibleDeprecationWarning)\n"
     ]
    },
    {
     "data": {
      "text/plain": [
       "<matplotlib.axes._subplots.AxesSubplot at 0x7f5291e94668>"
      ]
     },
     "execution_count": 9,
     "metadata": {},
     "output_type": "execute_result"
    }
   ],
   "source": [
    "import scipy.misc\n",
    "s = hs.signals.Signal1D(scipy.misc.ascent()[100:160:10])\n",
    "color_list = ['red', 'red', 'blue', 'blue', 'red', 'red']\n",
    "line_style_list = ['-','--','steps','-.',':','-']\n",
    "hs.plot.plot_spectra(s, style='cascade', color=color_list,\n",
    "line_style=line_style_list,legend='auto')"
   ]
  },
  {
   "cell_type": "code",
   "execution_count": 10,
   "metadata": {
    "collapsed": false
   },
   "outputs": [
    {
     "name": "stderr",
     "output_type": "stream",
     "text": [
      "/home/to266/anaconda3/lib/python3.5/site-packages/matplotlib/__init__.py:892: UserWarning: axes.color_cycle is deprecated and replaced with axes.prop_cycle; please use the latter.\n",
      "  warnings.warn(self.msg_depr % (key, alt_key))\n"
     ]
    },
    {
     "data": {
      "text/plain": [
       "<matplotlib.axes._subplots.AxesSubplot at 0x7f5291e99ef0>"
      ]
     },
     "execution_count": 10,
     "metadata": {},
     "output_type": "execute_result"
    }
   ],
   "source": [
    "import scipy.misc\n",
    "s = hs.signals.Signal1D(scipy.misc.ascent()[100:160:10])\n",
    "hs.plot.plot_spectra(s, style='heatmap')"
   ]
  },
  {
   "cell_type": "code",
   "execution_count": 12,
   "metadata": {
    "collapsed": false
   },
   "outputs": [
    {
     "name": "stderr",
     "output_type": "stream",
     "text": [
      "/home/to266/anaconda3/lib/python3.5/site-packages/matplotlib/__init__.py:892: UserWarning: axes.color_cycle is deprecated and replaced with axes.prop_cycle; please use the latter.\n",
      "  warnings.warn(self.msg_depr % (key, alt_key))\n"
     ]
    },
    {
     "data": {
      "text/plain": [
       "array([<matplotlib.axes._subplots.AxesSubplot object at 0x7f5291312a90>,\n",
       "       <matplotlib.axes._subplots.AxesSubplot object at 0x7f52912e3198>], dtype=object)"
      ]
     },
     "execution_count": 12,
     "metadata": {},
     "output_type": "execute_result"
    }
   ],
   "source": [
    "import scipy.misc\n",
    "s = hs.signals.Signal1D(scipy.misc.ascent()[100:120:10])\n",
    "hs.plot.plot_spectra(s, style='mosaic')"
   ]
  },
  {
   "cell_type": "code",
   "execution_count": 13,
   "metadata": {
    "collapsed": false
   },
   "outputs": [
    {
     "name": "stderr",
     "output_type": "stream",
     "text": [
      "/home/to266/anaconda3/lib/python3.5/site-packages/matplotlib/__init__.py:892: UserWarning: axes.color_cycle is deprecated and replaced with axes.prop_cycle; please use the latter.\n",
      "  warnings.warn(self.msg_depr % (key, alt_key))\n"
     ]
    }
   ],
   "source": [
    "import matplotlib.cm\n",
    "import scipy.misc\n",
    "s = hs.signals.Signal1D(scipy.misc.ascent()[100:120:10])\n",
    "ax = hs.plot.plot_spectra(s, style=\"heatmap\")\n",
    "ax.images[0].set_cmap(matplotlib.cm.jet)"
   ]
  },
  {
   "cell_type": "code",
   "execution_count": 14,
   "metadata": {
    "collapsed": false
   },
   "outputs": [
    {
     "name": "stderr",
     "output_type": "stream",
     "text": [
      "/home/to266/anaconda3/lib/python3.5/site-packages/matplotlib/__init__.py:892: UserWarning: axes.color_cycle is deprecated and replaced with axes.prop_cycle; please use the latter.\n",
      "  warnings.warn(self.msg_depr % (key, alt_key))\n",
      "/home/to266/dev/hyperspy/hyperspy/signal.py:1331: VisibleDeprecationWarning: Indexing the `Signal` class is deprecated and will be removed in Hyperspy 1.0. Please use `.isig` and/or `.inav` instead.\n",
      "  VisibleDeprecationWarning)\n"
     ]
    }
   ],
   "source": [
    "import scipy.misc\n",
    "s = hs.signals.Signal1D(scipy.misc.ascent()[100:160:10])\n",
    "legendtext = ['Plot 0', 'Plot 1', 'Plot 2', 'Plot 3', 'Plot 4', 'Plot 5']\n",
    "cascade_plot = hs.plot.plot_spectra(\n",
    "s, style='cascade', legend=legendtext, dpi=60,\n",
    "facecolor='lightblue', frameon=True, num=5)\n",
    "cascade_plot.set_xlabel(\"X-axis\")\n",
    "cascade_plot.set_ylabel(\"Y-axis\")\n",
    "cascade_plot.set_title(\"Cascade plot\")\n",
    "plt.draw()"
   ]
  },
  {
   "cell_type": "code",
   "execution_count": 16,
   "metadata": {
    "collapsed": false
   },
   "outputs": [
    {
     "name": "stderr",
     "output_type": "stream",
     "text": [
      "/home/to266/anaconda3/lib/python3.5/site-packages/matplotlib/__init__.py:892: UserWarning: axes.color_cycle is deprecated and replaced with axes.prop_cycle; please use the latter.\n",
      "  warnings.warn(self.msg_depr % (key, alt_key))\n",
      "/home/to266/dev/hyperspy/hyperspy/signal.py:1331: VisibleDeprecationWarning: Indexing the `Signal` class is deprecated and will be removed in Hyperspy 1.0. Please use `.isig` and/or `.inav` instead.\n",
      "  VisibleDeprecationWarning)\n"
     ]
    }
   ],
   "source": [
    "import scipy.misc\n",
    "s = hs.signals.Signal1D(scipy.misc.ascent()[100:160:10])\n",
    "cascade_plot = hs.plot.plot_spectra(s)\n",
    "cascade_plot.set_xlabel(\"An axis\")\n",
    "cascade_plot.set_ylabel(\"Another axis\")\n",
    "cascade_plot.set_title(\"A title!\")\n",
    "plt.draw()"
   ]
  },
  {
   "cell_type": "code",
   "execution_count": 17,
   "metadata": {
    "collapsed": false
   },
   "outputs": [
    {
     "name": "stderr",
     "output_type": "stream",
     "text": [
      "/home/to266/dev/hyperspy/hyperspy/signal.py:1331: VisibleDeprecationWarning: Indexing the `Signal` class is deprecated and will be removed in Hyperspy 1.0. Please use `.isig` and/or `.inav` instead.\n",
      "  VisibleDeprecationWarning)\n"
     ]
    }
   ],
   "source": [
    "import scipy.misc\n",
    "fig, axarr = plt.subplots(1,2)\n",
    "s1 = hs.signals.Signal1D(scipy.misc.ascent()[100:160:10])\n",
    "s2 = hs.signals.Signal1D(scipy.misc.ascent()[200:260:10])\n",
    "hs.plot.plot_spectra(s1, style='cascade',color='blue',ax=axarr[0],fig=fig)\n",
    "hs.plot.plot_spectra(s2, style='cascade',color='red',ax=axarr[1],fig=fig)\n",
    "fig.canvas.draw()"
   ]
  },
  {
   "cell_type": "markdown",
   "metadata": {},
   "source": [
    "## Plot_signals"
   ]
  },
  {
   "cell_type": "code",
   "execution_count": 18,
   "metadata": {
    "collapsed": false
   },
   "outputs": [
    {
     "name": "stderr",
     "output_type": "stream",
     "text": [
      "/home/to266/dev/hyperspy/hyperspy/signal.py:3413: VisibleDeprecationWarning: The as_signal1D method will be deprecated from version 1.0.0 and replaced with as_signal1D\n",
      "  VisibleDeprecationWarning)\n",
      "/home/to266/dev/hyperspy/hyperspy/signals.py:54: VisibleDeprecationWarning: The Signal1D class will be deprecated from version 1.0.0 and replaced with Signal1D\n",
      "  VisibleDeprecationWarning)\n",
      "/home/to266/dev/hyperspy/hyperspy/signal.py:1331: VisibleDeprecationWarning: Indexing the `Signal` class is deprecated and will be removed in Hyperspy 1.0. Please use `.isig` and/or `.inav` instead.\n",
      "  VisibleDeprecationWarning)\n",
      "/home/to266/dev/hyperspy/hyperspy/signals.py:126: VisibleDeprecationWarning: The Signal class will be deprecated from version 1.0.0 and replaced with BaseSignal\n",
      "  VisibleDeprecationWarning)\n",
      "/home/to266/dev/hyperspy/hyperspy/signal.py:3498: VisibleDeprecationWarning: The as_signal2D method will be deprecated from version 1.0.0 and replaced with as_signal2D\n",
      "  VisibleDeprecationWarning)\n",
      "/home/to266/dev/hyperspy/hyperspy/signals.py:83: VisibleDeprecationWarning: The Signal2D class will be deprecated from version 1.0.0 and replaced with Signal2D\n",
      "  VisibleDeprecationWarning)\n"
     ]
    }
   ],
   "source": [
    "import scipy.misc\n",
    "s1 = hs.signals.Signal1D(scipy.misc.face()).as_signal1D(0)[:,:3]\n",
    "s2 = s1.deepcopy()*-1\n",
    "hs.plot.plot_signals([s1, s2])"
   ]
  },
  {
   "cell_type": "code",
   "execution_count": 19,
   "metadata": {
    "collapsed": false
   },
   "outputs": [
    {
     "name": "stderr",
     "output_type": "stream",
     "text": [
      "/home/to266/dev/hyperspy/hyperspy/signal.py:3413: VisibleDeprecationWarning: The as_signal1D method will be deprecated from version 1.0.0 and replaced with as_signal1D\n",
      "  VisibleDeprecationWarning)\n",
      "/home/to266/dev/hyperspy/hyperspy/signals.py:54: VisibleDeprecationWarning: The Signal1D class will be deprecated from version 1.0.0 and replaced with Signal1D\n",
      "  VisibleDeprecationWarning)\n",
      "/home/to266/dev/hyperspy/hyperspy/signal.py:1331: VisibleDeprecationWarning: Indexing the `Signal` class is deprecated and will be removed in Hyperspy 1.0. Please use `.isig` and/or `.inav` instead.\n",
      "  VisibleDeprecationWarning)\n"
     ]
    }
   ],
   "source": [
    "import scipy.misc\n",
    "s1 = hs.signals.Signal1D(scipy.misc.face()).as_signal1D(0)[:,:3]\n",
    "s2 = s1.deepcopy()*-1\n",
    "hs.plot.plot_signals([s1, s2], navigator=\"slider\")"
   ]
  },
  {
   "cell_type": "code",
   "execution_count": 20,
   "metadata": {
    "collapsed": false
   },
   "outputs": [
    {
     "name": "stderr",
     "output_type": "stream",
     "text": [
      "/home/to266/dev/hyperspy/hyperspy/signal.py:3413: VisibleDeprecationWarning: The as_signal1D method will be deprecated from version 1.0.0 and replaced with as_signal1D\n",
      "  VisibleDeprecationWarning)\n",
      "/home/to266/dev/hyperspy/hyperspy/signals.py:54: VisibleDeprecationWarning: The Signal1D class will be deprecated from version 1.0.0 and replaced with Signal1D\n",
      "  VisibleDeprecationWarning)\n",
      "/home/to266/dev/hyperspy/hyperspy/signal.py:1331: VisibleDeprecationWarning: Indexing the `Signal` class is deprecated and will be removed in Hyperspy 1.0. Please use `.isig` and/or `.inav` instead.\n",
      "  VisibleDeprecationWarning)\n"
     ]
    }
   ],
   "source": [
    "import scipy.misc\n",
    "s1 = hs.signals.Signal1D(scipy.misc.face()).as_signal1D(0)[:,:3]\n",
    "s2 = s1.deepcopy()*-1\n",
    "s3 = hs.signals.Signal1D(np.linspace(0,9,9).reshape([3,3]))\n",
    "hs.plot.plot_signals([s1, s2], navigator_list=[\"slider\", s3])"
   ]
  },
  {
   "cell_type": "code",
   "execution_count": 21,
   "metadata": {
    "collapsed": false
   },
   "outputs": [
    {
     "name": "stderr",
     "output_type": "stream",
     "text": [
      "/home/to266/dev/hyperspy/hyperspy/signal.py:3413: VisibleDeprecationWarning: The as_signal1D method will be deprecated from version 1.0.0 and replaced with as_signal1D\n",
      "  VisibleDeprecationWarning)\n",
      "/home/to266/dev/hyperspy/hyperspy/signals.py:54: VisibleDeprecationWarning: The Signal1D class will be deprecated from version 1.0.0 and replaced with Signal1D\n",
      "  VisibleDeprecationWarning)\n",
      "/home/to266/dev/hyperspy/hyperspy/signal.py:1331: VisibleDeprecationWarning: Indexing the `Signal` class is deprecated and will be removed in Hyperspy 1.0. Please use `.isig` and/or `.inav` instead.\n",
      "  VisibleDeprecationWarning)\n"
     ]
    }
   ],
   "source": [
    "import scipy.misc\n",
    "s1 = hs.signals.Signal1D(scipy.misc.face()).as_signal1D(0)[:,:3]\n",
    "s2 = s1.deepcopy()*-1\n",
    "hs.plot.plot_signals([s1, s2], sync=False, navigator_list=[\"slider\", \"slider\"])"
   ]
  },
  {
   "cell_type": "code",
   "execution_count": 22,
   "metadata": {
    "collapsed": false
   },
   "outputs": [
    {
     "name": "stderr",
     "output_type": "stream",
     "text": [
      "/home/to266/dev/hyperspy/hyperspy/signals.py:126: VisibleDeprecationWarning: The Signal class will be deprecated from version 1.0.0 and replaced with BaseSignal\n",
      "  VisibleDeprecationWarning)\n",
      "/home/to266/dev/hyperspy/hyperspy/signal.py:1331: VisibleDeprecationWarning: Indexing the `Signal` class is deprecated and will be removed in Hyperspy 1.0. Please use `.isig` and/or `.inav` instead.\n",
      "  VisibleDeprecationWarning)\n"
     ]
    }
   ],
   "source": [
    "s = hs.signals.Signal1D(np.arange(100).reshape([10,10]))\n",
    "s.plot(navigator='spectrum')\n",
    "for i in range(s.axes_manager.shape[0]):\n",
    "    m = hs.plot.markers.text(y=s.sum(-1).data[i]+5,\n",
    "                             x=i, text='abcdefghij'[i])\n",
    "s.add_marker(m, plot_on_signal=False)\n",
    "x = s.axes_manager.shape[-1]/2 #middle of signal plot\n",
    "m = hs.plot.markers.text(x=x, y=s[:, x].data+2,text=[i for i in 'abcdefghij'])\n",
    "s.add_marker(m)"
   ]
  },
  {
   "cell_type": "markdown",
   "metadata": {},
   "source": [
    "## Plot_images"
   ]
  },
  {
   "cell_type": "code",
   "execution_count": 23,
   "metadata": {
    "collapsed": false
   },
   "outputs": [
    {
     "name": "stdout",
     "output_type": "stream",
     "text": [
      " calculating  83% |#####################################        | ETA:  00:00:00 "
     ]
    },
    {
     "name": "stderr",
     "output_type": "stream",
     "text": [
      "/home/to266/dev/hyperspy/hyperspy/signals.py:126: VisibleDeprecationWarning: The Signal class will be deprecated from version 1.0.0 and replaced with BaseSignal\n",
      "  VisibleDeprecationWarning)\n"
     ]
    },
    {
     "name": "stdout",
     "output_type": "stream",
     "text": [
      " calculating 100% |#############################################| ETA:  00:00:00 \n",
      "\n"
     ]
    },
    {
     "name": "stderr",
     "output_type": "stream",
     "text": [
      "/home/to266/dev/hyperspy/hyperspy/drawing/utils.py:835: UserWarning: Axes labels were requested, but one or both of the axes units and/or name are undefined. Axes decorations have been set to 'ticks' instead.\n",
      "  'Axes labels were requested, but one '\n"
     ]
    },
    {
     "data": {
      "text/plain": [
       "[<matplotlib.axes._subplots.AxesSubplot at 0x7f5291d212e8>,\n",
       " <matplotlib.axes._subplots.AxesSubplot at 0x7f5291b758d0>,\n",
       " <matplotlib.axes._subplots.AxesSubplot at 0x7f5291b19c18>,\n",
       " <matplotlib.axes._subplots.AxesSubplot at 0x7f529132c5f8>,\n",
       " <matplotlib.axes._subplots.AxesSubplot at 0x7f5291b095c0>,\n",
       " <matplotlib.axes._subplots.AxesSubplot at 0x7f5291e0f2b0>]"
      ]
     },
     "execution_count": 23,
     "metadata": {},
     "output_type": "execute_result"
    }
   ],
   "source": [
    "import scipy\n",
    "image = hs.signals.Signal2D([scipy.misc.ascent()]*6)\n",
    "angles = hs.signals.Signal(range(10,70,10))\n",
    "angles.axes_manager.set_signal_dimension(0)\n",
    "image.map(scipy.ndimage.rotate, angle=angles, reshape=False)\n",
    "hs.plot.plot_images(image, tight_layout=True)"
   ]
  },
  {
   "cell_type": "code",
   "execution_count": 24,
   "metadata": {
    "collapsed": false
   },
   "outputs": [
    {
     "name": "stdout",
     "output_type": "stream",
     "text": [
      " calculating  83% |#####################################        | ETA:  00:00:00 "
     ]
    },
    {
     "name": "stderr",
     "output_type": "stream",
     "text": [
      "/home/to266/dev/hyperspy/hyperspy/signals.py:126: VisibleDeprecationWarning: The Signal class will be deprecated from version 1.0.0 and replaced with BaseSignal\n",
      "  VisibleDeprecationWarning)\n"
     ]
    },
    {
     "name": "stdout",
     "output_type": "stream",
     "text": [
      " calculating 100% |#############################################| ETA:  00:00:00 \n",
      "\n"
     ]
    },
    {
     "data": {
      "text/plain": [
       "[<matplotlib.axes._subplots.AxesSubplot at 0x7f529048ac50>,\n",
       " <matplotlib.axes._subplots.AxesSubplot at 0x7f5290495828>,\n",
       " <matplotlib.axes._subplots.AxesSubplot at 0x7f5290464240>,\n",
       " <matplotlib.axes._subplots.AxesSubplot at 0x7f5290121b70>,\n",
       " <matplotlib.axes._subplots.AxesSubplot at 0x7f52900f4208>,\n",
       " <matplotlib.axes._subplots.AxesSubplot at 0x7f52900c02e8>]"
      ]
     },
     "execution_count": 24,
     "metadata": {},
     "output_type": "execute_result"
    }
   ],
   "source": [
    "import scipy\n",
    "image = hs.signals.Signal2D([scipy.misc.ascent()]*6)\n",
    "angles = hs.signals.Signal(range(10,70,10))\n",
    "angles.axes_manager.set_signal_dimension(0)\n",
    "image.map(scipy.ndimage.rotate, angle=angles, reshape=False)\n",
    "hs.plot.plot_images(\n",
    "image, suptitle='Turning Lena', axes_decor='off',\n",
    "label=['Rotation ' + str(angle.data[0]) +\n",
    "'$^\\degree$' for angle in angles], colorbar=None)"
   ]
  },
  {
   "cell_type": "code",
   "execution_count": 25,
   "metadata": {
    "collapsed": false
   },
   "outputs": [
    {
     "name": "stdout",
     "output_type": "stream",
     "text": [
      " calculating  83% |#####################################        | ETA:  00:00:00 "
     ]
    },
    {
     "name": "stderr",
     "output_type": "stream",
     "text": [
      "/home/to266/dev/hyperspy/hyperspy/signals.py:126: VisibleDeprecationWarning: The Signal class will be deprecated from version 1.0.0 and replaced with BaseSignal\n",
      "  VisibleDeprecationWarning)\n"
     ]
    },
    {
     "name": "stdout",
     "output_type": "stream",
     "text": [
      " calculating 100% |#############################################| ETA:  00:00:00 \n",
      "\n"
     ]
    },
    {
     "name": "stderr",
     "output_type": "stream",
     "text": [
      "/home/to266/dev/hyperspy/hyperspy/signals.py:83: VisibleDeprecationWarning: The Signal2D class will be deprecated from version 1.0.0 and replaced with Signal2D\n",
      "  VisibleDeprecationWarning)\n",
      "/home/to266/anaconda3/lib/python3.5/site-packages/matplotlib/figure.py:1744: UserWarning: This figure includes Axes that are not compatible with tight_layout, so its results might be incorrect.\n",
      "  warnings.warn(\"This figure includes Axes that are not \"\n"
     ]
    },
    {
     "data": {
      "text/plain": [
       "[<matplotlib.axes._subplots.AxesSubplot at 0x7f528ffbd470>,\n",
       " <matplotlib.axes._subplots.AxesSubplot at 0x7f528fd6fef0>,\n",
       " <matplotlib.axes._subplots.AxesSubplot at 0x7f528fd741d0>,\n",
       " <matplotlib.axes._subplots.AxesSubplot at 0x7f528fd36a58>,\n",
       " <matplotlib.axes._subplots.AxesSubplot at 0x7f528fd0e780>,\n",
       " <matplotlib.axes._subplots.AxesSubplot at 0x7f5291c57940>,\n",
       " <matplotlib.axes._subplots.AxesSubplot at 0x7f52900c0128>,\n",
       " <matplotlib.axes._subplots.AxesSubplot at 0x7f5290e73588>,\n",
       " <matplotlib.axes._subplots.AxesSubplot at 0x7f5291266a20>]"
      ]
     },
     "execution_count": 25,
     "metadata": {},
     "output_type": "execute_result"
    }
   ],
   "source": [
    "import scipy\n",
    "\n",
    "\n",
    "# load red channel of raccoon as an image\n",
    "image0 = hs.signals.Signal2D(scipy.misc.face()[:,:,0])\n",
    "image0.metadata.General.title = 'Rocky Raccoon - R'\n",
    "\n",
    "\n",
    "# load lena into 6 hyperimage\n",
    "image1 = hs.signals.Signal2D([scipy.misc.ascent()]*6)\n",
    "angles = hs.signals.Signal(range(10,70,10))\n",
    "angles.axes_manager.set_signal_dimension(0)\n",
    "image1.map(scipy.ndimage.rotate, angle=angles, reshape=False)\n",
    "\n",
    "\n",
    "# load green channel of raccoon as an image\n",
    "image2 = hs.signals.Signal2D(scipy.misc.face()[:,:,1])\n",
    "image2.metadata.General.title = 'Rocky Raccoon - G'\n",
    "\n",
    "\n",
    "# load rgb image of the raccoon\n",
    "rgb = hs.signals.Signal1D(scipy.misc.face())\n",
    "rgb.change_dtype(\"rgb8\")\n",
    "rgb.metadata.General.title = 'Raccoon - RGB'\n",
    "    \n",
    "\n",
    "images = [image0, image1, image2, rgb]\n",
    "for im in images:\n",
    "    ax = im.axes_manager.signal_axes\n",
    "    ax[0].name, ax[1].name = 'x', 'y'\n",
    "    ax[0].units, ax[1].units = 'mm', 'mm'\n",
    "hs.plot.plot_images(images, tight_layout=True,\n",
    "colorbar='single', labelwrap=20)"
   ]
  },
  {
   "cell_type": "code",
   "execution_count": 26,
   "metadata": {
    "collapsed": false
   },
   "outputs": [
    {
     "data": {
      "text/plain": [
       "('core_shell.hdf5', <http.client.HTTPMessage at 0x7f528fcbfef0>)"
      ]
     },
     "execution_count": 26,
     "metadata": {},
     "output_type": "execute_result"
    }
   ],
   "source": [
    "from urllib.request import urlretrieve\n",
    "url = 'http://cook.msm.cam.ac.uk//~hyperspy//EDS_tutorial//'\n",
    "urlretrieve(url + 'core_shell.hdf5', 'core_shell.hdf5')"
   ]
  },
  {
   "cell_type": "code",
   "execution_count": 27,
   "metadata": {
    "collapsed": false
   },
   "outputs": [
    {
     "name": "stderr",
     "output_type": "stream",
     "text": [
      "/home/to266/dev/hyperspy/hyperspy/signals.py:54: VisibleDeprecationWarning: The Signal1D class will be deprecated from version 1.0.0 and replaced with Signal1D\n",
      "  VisibleDeprecationWarning)\n",
      "/home/to266/dev/hyperspy/hyperspy/signals.py:126: VisibleDeprecationWarning: The Signal class will be deprecated from version 1.0.0 and replaced with BaseSignal\n",
      "  VisibleDeprecationWarning)\n",
      "/home/to266/anaconda3/lib/python3.5/site-packages/matplotlib/figure.py:1744: UserWarning: This figure includes Axes that are not compatible with tight_layout, so its results might be incorrect.\n",
      "  warnings.warn(\"This figure includes Axes that are not \"\n"
     ]
    },
    {
     "data": {
      "text/plain": [
       "[<matplotlib.axes._subplots.AxesSubplot at 0x7f528fa3e470>,\n",
       " <matplotlib.axes._subplots.AxesSubplot at 0x7f528fa9ff60>]"
      ]
     },
     "execution_count": 27,
     "metadata": {},
     "output_type": "execute_result"
    }
   ],
   "source": [
    "si_EDS = hs.load(\"core_shell.hdf5\")\n",
    "im = si_EDS.get_lines_intensity()\n",
    "hs.plot.plot_images(\n",
    "im, tight_layout=True, cmap='RdYlBu_r', axes_decor='off',\n",
    "colorbar='single', saturated_pixels=0.0, scalebar='all',\n",
    "scalebar_color='black', suptitle_fontsize=16,\n",
    "padding={'top':0.8, 'bottom':0.10, 'left':0.05,\n",
    "'right':0.85, 'wspace':0.20, 'hspace':0.10})"
   ]
  },
  {
   "cell_type": "markdown",
   "metadata": {
    "collapsed": false
   },
   "source": [
    "## CLEANUP"
   ]
  },
  {
   "cell_type": "code",
   "execution_count": 30,
   "metadata": {
    "collapsed": false
   },
   "outputs": [],
   "source": [
    "%%bash\n",
    "\n",
    "rm core_shell.hdf5 Ni_La_intensity.hdf5 cascade_plot.png\n",
    "\n",
    "rm Ni_superalloy_010.rpl TiFeNi_010.raw TiFeNi_011.rpl TiFeNi_011.raw image010.tif image011.tif"
   ]
  }
 ],
 "metadata": {
  "kernelspec": {
   "display_name": "Conda Python3",
   "language": "python",
   "name": "conda_py35"
  },
  "language_info": {
   "codemirror_mode": {
    "name": "ipython",
    "version": 3
   },
   "file_extension": ".py",
   "mimetype": "text/x-python",
   "name": "python",
   "nbconvert_exporter": "python",
   "pygments_lexer": "ipython3",
   "version": "3.5.1"
  },
  "widgets": {
   "state": {},
   "version": "1.1.1"
  }
 },
 "nbformat": 4,
 "nbformat_minor": 0
}