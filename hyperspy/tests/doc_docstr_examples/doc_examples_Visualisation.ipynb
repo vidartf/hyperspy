{
    "nbformat_minor": 0,
    "cells": [
        {
            "source": [
                "# Data visualization Doc"
            ],
            "cell_type": "markdown",
            "metadata": {}
        },
        {
            "source": [
                "Examples in the Data visualization chapter"
            ],
            "cell_type": "markdown",
            "metadata": {}
        },
        {
            "execution_count": null,
            "cell_type": "code",
            "source": [
                "# %hyperspy -r qt4\n",
                "import numpy as np\n",
                "import hyperspy.api as hs\n",
                "%matplotlib qt4\n",
                "import matplotlib.pyplot as plt\n",
                "\n"
            ],
            "outputs": [],
            "metadata": {
                "collapsed": false
            }
        },
        {
            "source": [
                "## Customizing the \u201cnavigator\u201d"
            ],
            "cell_type": "markdown",
            "metadata": {}
        },
        {
            "execution_count": 2,
            "cell_type": "code",
            "source": [
                "from urllib import urlretrieve\n",
                "url = 'http://cook.msm.cam.ac.uk//~hyperspy//EDS_tutorial//'\n",
                "urlretrieve(url + 'TiFeNi_010.rpl', 'Ni_superalloy_010.rpl')\n",
                "urlretrieve(url + 'TiFeNi_010.raw', 'TiFeNi_010.raw')\n",
                "urlretrieve(url + 'TiFeNi_011.rpl', 'TiFeNi_011.rpl')\n",
                "urlretrieve(url + 'TiFeNi_011.raw', 'TiFeNi_011.raw')\n",
                "urlretrieve(url + 'image010.tif', 'image010.tif')\n",
                "urlretrieve(url + 'image011.tif', 'image011.tif')"
            ],
            "outputs": [
                {
                    "execution_count": 2,
                    "output_type": "execute_result",
                    "data": {
                        "text/plain": [
                            "('image011.tif', <httplib.HTTPMessage instance at 0x7fb0a6d277a0>)"
                        ]
                    },
                    "metadata": {}
                }
            ],
            "metadata": {
                "collapsed": false
            }
        },
        {
            "execution_count": 3,
            "cell_type": "code",
            "source": [
                "img = hs.load('image*.tif', stack=True)\n",
                "img.plot(navigator=\"slider\")"
            ],
            "outputs": [
                {
                    "output_type": "stream",
                    "name": "stdout",
                    "text": [
                        "\n",
                        "Loading individual files\n",
                        "\n",
                        "Individual files loaded correctly\n",
                        "\n",
                        "\tTitle: doc_docstr_examples\n",
                        "\tSignal type: \n",
                        "\tData dimensions: (2, 1024, 768)\n",
                        "\tData representation: image\n",
                        "\tData type: uint8\n"
                    ]
                },
                {
                    "output_type": "stream",
                    "name": "stderr",
                    "text": [
                        "/home/fjd29/Anaconda/anaconda2/lib/python2.7/site-packages/matplotlib/axes/_base.py:1057: UnicodeWarning: Unicode equal comparison failed to convert both arguments to Unicode - interpreting them as being unequal\n",
                        "  if aspect == 'normal':\n",
                        "/home/fjd29/Anaconda/anaconda2/lib/python2.7/site-packages/matplotlib/axes/_base.py:1062: UnicodeWarning: Unicode equal comparison failed to convert both arguments to Unicode - interpreting them as being unequal\n",
                        "  elif aspect in ('equal', 'auto'):\n"
                    ]
                }
            ],
            "metadata": {
                "collapsed": false
            }
        },
        {
            "execution_count": 4,
            "cell_type": "code",
            "source": [
                "s = hs.load('TiFeNi_0*.rpl', stack=True).as_spectrum(0)\n",
                "s.plot()"
            ],
            "outputs": [
                {
                    "output_type": "stream",
                    "name": "stdout",
                    "text": [
                        "Loading as Image\n",
                        "\n",
                        "Individual files loaded correctly\n",
                        "\n",
                        "\tTitle: doc_docstr_examples\n",
                        "\tSignal type: \n",
                        "\tData dimensions: (1024, 1, 128, 96)\n",
                        "\tData representation: image\n",
                        "\tData type: int16\n"
                    ]
                }
            ],
            "metadata": {
                "collapsed": false
            }
        },
        {
            "execution_count": 5,
            "cell_type": "code",
            "source": [
                "im = hs.load('image*.tif', stack=True)\n",
                "s = hs.load('TiFeNi_0*.rpl', stack=True).as_spectrum(0)\n",
                "dim = s.axes_manager.navigation_shape\n",
                "#Rebin the image\n",
                "im = im.rebin([dim[2], dim[0], dim[1]])\n",
                "s.plot(navigator=im)"
            ],
            "outputs": [
                {
                    "output_type": "stream",
                    "name": "stdout",
                    "text": [
                        "\n",
                        "Loading individual files\n",
                        "\n",
                        "Individual files loaded correctly\n",
                        "\n",
                        "\tTitle: doc_docstr_examples\n",
                        "\tSignal type: \n",
                        "\tData dimensions: (2, 1024, 768)\n",
                        "\tData representation: image\n",
                        "\tData type: uint8\n",
                        "Loading as Image\n",
                        "\n",
                        "Individual files loaded correctly\n",
                        "\n",
                        "\tTitle: doc_docstr_examples\n",
                        "\tSignal type: \n",
                        "\tData dimensions: (1024, 1, 128, 96)\n",
                        "\tData representation: image\n",
                        "\tData type: int16\n"
                    ]
                }
            ],
            "metadata": {
                "collapsed": false
            }
        },
        {
            "execution_count": 6,
            "cell_type": "code",
            "source": [
                "imgSpec = hs.load('TiFeNi_0*.rpl', stack=True)\n",
                "imgSpec.plot(navigator='spectrum')"
            ],
            "outputs": [
                {
                    "output_type": "stream",
                    "name": "stdout",
                    "text": [
                        "Loading as Image\n",
                        "\n",
                        "Individual files loaded correctly\n",
                        "\n",
                        "\tTitle: doc_docstr_examples\n",
                        "\tSignal type: \n",
                        "\tData dimensions: (1024, 1, 128, 96)\n",
                        "\tData representation: image\n",
                        "\tData type: int16\n"
                    ]
                }
            ],
            "metadata": {
                "collapsed": false
            }
        },
        {
            "execution_count": 7,
            "cell_type": "code",
            "source": [
                "imgSpec = hs.load('TiFeNi_0*.rpl', stack=True)\n",
                "specMax = imgSpec.max(-1).max(-1).max(-1).as_spectrum(0)\n",
                "imgSpec.plot(navigator=specMax)"
            ],
            "outputs": [
                {
                    "output_type": "stream",
                    "name": "stdout",
                    "text": [
                        "Loading as Image\n",
                        "\n",
                        "Individual files loaded correctly\n",
                        "\n",
                        "\tTitle: doc_docstr_examples\n",
                        "\tSignal type: \n",
                        "\tData dimensions: (1024, 1, 128, 96)\n",
                        "\tData representation: image\n",
                        "\tData type: int16\n"
                    ]
                }
            ],
            "metadata": {
                "collapsed": false
            }
        },
        {
            "source": [
                "## Using Mayavi to visualize 3D data"
            ],
            "cell_type": "markdown",
            "metadata": {}
        },
        {
            "execution_count": 8,
            "cell_type": "code",
            "source": [
                "from urllib import urlretrieve\n",
                "url = 'http://cook.msm.cam.ac.uk//~hyperspy//EDS_tutorial//'\n",
                "urlretrieve(url + 'Ni_La_intensity.hdf5', 'Ni_La_intensity.hdf5')"
            ],
            "outputs": [
                {
                    "execution_count": 8,
                    "output_type": "execute_result",
                    "data": {
                        "text/plain": [
                            "('Ni_La_intensity.hdf5', <httplib.HTTPMessage instance at 0x7fb0a15f2b90>)"
                        ]
                    },
                    "metadata": {}
                }
            ],
            "metadata": {
                "collapsed": false
            }
        },
        {
            "execution_count": 9,
            "cell_type": "code",
            "source": [
                "from mayavi import mlab\n",
                "ni = hs.load('Ni_La_intensity.hdf5')\n",
                "mlab.figure()\n",
                "mlab.contour3d(ni.data, contours=[85])\n",
                "mlab.outline(color=(0, 0, 0))"
            ],
            "outputs": [
                {
                    "output_type": "stream",
                    "name": "stderr",
                    "text": [
                        "WARNING:traits.has_traits:DEPRECATED: traits.has_traits.wrapped_class, 'the 'implements' class advisor has been deprecated. Use the 'provides' class decorator.\n"
                    ]
                },
                {
                    "execution_count": 9,
                    "output_type": "execute_result",
                    "data": {
                        "text/plain": [
                            "<mayavi.modules.outline.Outline at 0x7fb08f31d770>"
                        ]
                    },
                    "metadata": {}
                }
            ],
            "metadata": {
                "collapsed": false
            }
        },
        {
            "source": [
                "## plot_spectra"
            ],
            "cell_type": "markdown",
            "metadata": {}
        },
        {
            "execution_count": 10,
            "cell_type": "code",
            "source": [
                "import scipy.misc\n",
                "s = hs.signals.Spectrum(scipy.misc.ascent()[100:160:10])\n",
                "cascade_plot = hs.plot.plot_spectra(s, style='cascade')\n",
                "cascade_plot.figure.savefig(\"cascade_plot.png\")"
            ],
            "outputs": [],
            "metadata": {
                "collapsed": false
            }
        },
        {
            "execution_count": 11,
            "cell_type": "code",
            "source": [
                "import scipy.misc\n",
                "s = hs.signals.Spectrum(scipy.misc.ascent()[100:160:10])\n",
                "color_list = ['red', 'red', 'blue', 'blue', 'red', 'red']\n",
                "line_style_list = ['-','--','steps','-.',':','-']\n",
                "hs.plot.plot_spectra(s, style='cascade', color=color_list,\n",
                "line_style=line_style_list,legend='auto')"
            ],
            "outputs": [
                {
                    "execution_count": 11,
                    "output_type": "execute_result",
                    "data": {
                        "text/plain": [
                            "<matplotlib.axes._subplots.AxesSubplot at 0x7fb08f212490>"
                        ]
                    },
                    "metadata": {}
                }
            ],
            "metadata": {
                "collapsed": false
            }
        },
        {
            "execution_count": 12,
            "cell_type": "code",
            "source": [
                "import scipy.misc\n",
                "s = hs.signals.Spectrum(scipy.misc.ascent()[100:160:10])\n",
                "hs.plot.plot_spectra(s, style='heatmap')"
            ],
            "outputs": [
                {
                    "execution_count": 12,
                    "output_type": "execute_result",
                    "data": {
                        "text/plain": [
                            "<matplotlib.axes._subplots.AxesSubplot at 0x7fb08edbb9d0>"
                        ]
                    },
                    "metadata": {}
                }
            ],
            "metadata": {
                "collapsed": false
            }
        },
        {
            "execution_count": 13,
            "cell_type": "code",
            "source": [
                "import scipy.misc\n",
                "s = hs.signals.Spectrum(scipy.misc.ascent()[100:120:10])\n",
                "hs.plot.plot_spectra(s, style='mosaic')"
            ],
            "outputs": [
                {
                    "execution_count": 13,
                    "output_type": "execute_result",
                    "data": {
                        "text/plain": [
                            "array([<matplotlib.axes._subplots.AxesSubplot object at 0x7fb08ec0bf50>,\n",
                            "       <matplotlib.axes._subplots.AxesSubplot object at 0x7fb08eb9f050>], dtype=object)"
                        ]
                    },
                    "metadata": {}
                }
            ],
            "metadata": {
                "collapsed": false
            }
        },
        {
            "execution_count": 14,
            "cell_type": "code",
            "source": [
                "import matplotlib.cm\n",
                "import scipy.misc\n",
                "s = hs.signals.Spectrum(scipy.misc.ascent()[100:120:10])\n",
                "ax = hs.plot.plot_spectra(s, style=\"heatmap\")\n",
                "ax.images[0].set_cmap(matplotlib.cm.jet)"
            ],
            "outputs": [],
            "metadata": {
                "collapsed": false
            }
        },
        {
            "execution_count": 15,
            "cell_type": "code",
            "source": [
                "import scipy.misc\n",
                "s = hs.signals.Spectrum(scipy.misc.ascent()[100:160:10])\n",
                "legendtext = ['Plot 0', 'Plot 1', 'Plot 2', 'Plot 3', 'Plot 4', 'Plot 5']\n",
                "cascade_plot = hs.plot.plot_spectra(\n",
                "s, style='cascade', legend=legendtext, dpi=60,\n",
                "facecolor='lightblue', frameon=True, num=5)\n",
                "cascade_plot.set_xlabel(\"X-axis\")\n",
                "cascade_plot.set_ylabel(\"Y-axis\")\n",
                "cascade_plot.set_title(\"Cascade plot\")\n",
                "plt.draw()"
            ],
            "outputs": [],
            "metadata": {
                "collapsed": false
            }
        },
        {
            "execution_count": 16,
            "cell_type": "code",
            "source": [
                "import scipy.misc\n",
                "s = hs.signals.Spectrum(scipy.misc.ascent()[100:160:10])\n",
                "cascade_plot = hs.plot.plot_spectra(s)\n",
                "cascade_plot.set_xlabel(\"An axis\")\n",
                "cascade_plot.set_ylabel(\"Another axis\")\n",
                "cascade_plot.set_title(\"A title!\")\n",
                "plt.draw()"
            ],
            "outputs": [],
            "metadata": {
                "collapsed": false
            }
        },
        {
            "execution_count": 17,
            "cell_type": "code",
            "source": [
                "import scipy.misc\n",
                "fig, axarr = plt.subplots(1,2)\n",
                "s1 = hs.signals.Spectrum(scipy.misc.ascent()[100:160:10])\n",
                "s2 = hs.signals.Spectrum(scipy.misc.ascent()[200:260:10])\n",
                "hs.plot.plot_spectra(s1, style='cascade',color='blue',ax=axarr[0],fig=fig)\n",
                "hs.plot.plot_spectra(s2, style='cascade',color='red',ax=axarr[1],fig=fig)\n",
                "fig.canvas.draw()"
            ],
            "outputs": [],
            "metadata": {
                "collapsed": false
            }
        },
        {
            "source": [
                "## Plot_signals"
            ],
            "cell_type": "markdown",
            "metadata": {}
        },
        {
            "execution_count": 18,
            "cell_type": "code",
            "source": [
                "import scipy.misc\n",
                "s1 = hs.signals.Spectrum(scipy.misc.ascent()).as_spectrum(0)[:,:3]\n",
                "s2 = s1.deepcopy()*-1\n",
                "hs.plot.plot_signals([s1, s2])"
            ],
            "outputs": [],
            "metadata": {
                "collapsed": false
            }
        },
        {
            "execution_count": 19,
            "cell_type": "code",
            "source": [
                "import scipy.misc\n",
                "s1 = hs.signals.Spectrum(scipy.misc.ascent()).as_spectrum(0)[:,:3]\n",
                "s2 = s1.deepcopy()*-1\n",
                "hs.plot.plot_signals([s1, s2], navigator=\"slider\")"
            ],
            "outputs": [],
            "metadata": {
                "collapsed": false
            }
        },
        {
            "execution_count": 20,
            "cell_type": "code",
            "source": [
                "import scipy.misc\n",
                "s1 = hs.signals.Spectrum(scipy.misc.ascent()).as_spectrum(0)[:,:3]\n",
                "s2 = s1.deepcopy()*-1\n",
                "s3 = hs.signals.Spectrum(np.linspace(0,9,9).reshape([3,3]))\n",
                "hs.plot.plot_signals([s1, s2], navigator_list=[\"slider\", s3])"
            ],
            "outputs": [],
            "metadata": {
                "collapsed": false
            }
        },
        {
            "execution_count": 21,
            "cell_type": "code",
            "source": [
                "import scipy.misc\n",
                "s1 = hs.signals.Spectrum(scipy.misc.ascent()).as_spectrum(0)[:,:3]\n",
                "s2 = s1.deepcopy()*-1\n",
                "hs.plot.plot_signals([s1, s2], sync=False, navigator_list=[\"slider\", \"slider\"])"
            ],
            "outputs": [],
            "metadata": {
                "collapsed": false
            }
        },
        {
            "execution_count": 25,
            "cell_type": "code",
            "source": [
                "s = hs.signals.Spectrum(np.arange(100).reshape([10,10]))\n",
                "s.plot(navigator='spectrum')\n",
                "for i in range(s.axes_manager.shape[0]):\n",
                "    m = hs.plot.markers.text(y=s.sum(-1).data[i]+5,\n",
                "                             x=i, text='abcdefghij'[i])\n",
                "s.add_marker(m, plot_on_signal=False)\n",
                "x = s.axes_manager.shape[-1]/2 #middle of signal plot\n",
                "m = hs.plot.markers.text(x=x, y=s[:, x].data+2,text=[i for i in 'abcdefghij'])\n",
                "s.add_marker(m)"
            ],
            "outputs": [],
            "metadata": {
                "collapsed": false
            }
        },
        {
            "source": [
                "## Plot_images"
            ],
            "cell_type": "markdown",
            "metadata": {}
        },
        {
            "execution_count": 26,
            "cell_type": "code",
            "source": [
                "import scipy\n",
                "image = hs.signals.Image([scipy.misc.ascent()]*6)\n",
                "angles = hs.signals.Signal(range(10,70,10))\n",
                "angles.axes_manager.set_signal_dimension(0)\n",
                "image.map(scipy.ndimage.rotate, angle=angles, reshape=False)\n",
                "hs.plot.plot_images(image, tight_layout=True)"
            ],
            "outputs": [
                {
                    "output_type": "stream",
                    "name": "stdout",
                    "text": [
                        "calculating 100% |#############################################| ETA:  00:00:00 \n",
                        "\n"
                    ]
                },
                {
                    "output_type": "stream",
                    "name": "stderr",
                    "text": [
                        "/home/fjd29/Python/hyperspy/hyperspy/drawing/utils.py:753: UserWarning: Axes labels were requested, but one or both of the axes units and/or name are undefined. Axes decorations have been set to 'ticks' instead.\n",
                        "  'Axes labels were requested, but one '\n"
                    ]
                },
                {
                    "execution_count": 26,
                    "output_type": "execute_result",
                    "data": {
                        "text/plain": [
                            "[<matplotlib.axes._subplots.AxesSubplot at 0x7fb0a18af3d0>,\n",
                            " <matplotlib.axes._subplots.AxesSubplot at 0x7fb08d6a3cd0>,\n",
                            " <matplotlib.axes._subplots.AxesSubplot at 0x7fb08dee4910>,\n",
                            " <matplotlib.axes._subplots.AxesSubplot at 0x7fb08e137390>,\n",
                            " <matplotlib.axes._subplots.AxesSubplot at 0x7fb08d658c50>,\n",
                            " <matplotlib.axes._subplots.AxesSubplot at 0x7fb08d42a490>]"
                        ]
                    },
                    "metadata": {}
                }
            ],
            "metadata": {
                "collapsed": false
            }
        },
        {
            "execution_count": 27,
            "cell_type": "code",
            "source": [
                "import scipy\n",
                "image = hs.signals.Image([scipy.misc.ascent()]*6)\n",
                "angles = hs.signals.Signal(range(10,70,10))\n",
                "angles.axes_manager.set_signal_dimension(0)\n",
                "image.map(scipy.ndimage.rotate, angle=angles, reshape=False)\n",
                "hs.plot.plot_images(\n",
                "image, suptitle='Turning Lena', axes_decor='off',\n",
                "label=['Rotation ' + str(angle.data[0]) +\n",
                "'$^\\degree$' for angle in angles], colorbar=None)"
            ],
            "outputs": [
                {
                    "output_type": "stream",
                    "name": "stdout",
                    "text": [
                        "calculating 100% |#############################################| ETA:  00:00:00 \n",
                        "\n"
                    ]
                },
                {
                    "execution_count": 27,
                    "output_type": "execute_result",
                    "data": {
                        "text/plain": [
                            "[<matplotlib.axes._subplots.AxesSubplot at 0x7fb08d74d710>,\n",
                            " <matplotlib.axes._subplots.AxesSubplot at 0x7fb08d4dd110>,\n",
                            " <matplotlib.axes._subplots.AxesSubplot at 0x7fb08da24650>,\n",
                            " <matplotlib.axes._subplots.AxesSubplot at 0x7fb08d4d35d0>,\n",
                            " <matplotlib.axes._subplots.AxesSubplot at 0x7fb08d1ecc50>,\n",
                            " <matplotlib.axes._subplots.AxesSubplot at 0x7fb08d660110>]"
                        ]
                    },
                    "metadata": {}
                }
            ],
            "metadata": {
                "collapsed": false
            }
        },
        {
            "execution_count": 29,
            "cell_type": "code",
            "source": [
                "import scipy\n",
                "\n",
                "\n",
                "# load red channel of raccoon as an image\n",
                "image0 = hs.signals.Image(scipy.misc.ascent()[:,:,0])\n",
                "image0.metadata.General.title = 'Rocky Raccoon - R'\n",
                "\n",
                "\n",
                "# load lena into 6 hyperimage\n",
                "image1 = hs.signals.Image([scipy.misc.ascent()]*6)\n",
                "angles = hs.signals.Signal(range(10,70,10))\n",
                "angles.axes_manager.set_signal_dimension(0)\n",
                "image1.map(scipy.ndimage.rotate, angle=angles, reshape=False)\n",
                "\n",
                "\n",
                "# load green channel of raccoon as an image\n",
                "image2 = hs.signals.Image(scipy.misc.ascent()[:,:,1])\n",
                "image2.metadata.General.title = 'Rocky Raccoon - G'\n",
                "\n",
                "\n",
                "# load rgb image of the raccoon\n",
                "rgb = hs.signals.Spectrum(scipy.misc.ascent())\n",
                "rgb.change_dtype(\"rgb8\")\n",
                "rgb.metadata.General.title = 'Raccoon - RGB'\n",
                "    \n",
                "\n",
                "images = [image0, image1, image2, rgb]\n",
                "for im in images:\n",
                "    ax = im.axes_manager.signal_axes\n",
                "    ax[0].name, ax[1].name = 'x', 'y'\n",
                "    ax[0].units, ax[1].units = 'mm', 'mm'\n",
                "hs.plot.plot_images(images, tight_layout=True,\n",
                "colorbar='single', labelwrap=20)"
            ],
            "outputs": [
                {
                    "output_type": "stream",
                    "name": "stdout",
                    "text": [
                        "calculating 100% |#############################################| ETA:  00:00:00 \n",
                        "\n"
                    ]
                },
                {
                    "output_type": "stream",
                    "name": "stderr",
                    "text": [
                        "/home/fjd29/Anaconda/anaconda2/lib/python2.7/site-packages/matplotlib/figure.py:1653: UserWarning: This figure includes Axes that are not compatible with tight_layout, so its results might be incorrect.\n",
                        "  warnings.warn(\"This figure includes Axes that are not \"\n"
                    ]
                },
                {
                    "execution_count": 29,
                    "output_type": "execute_result",
                    "data": {
                        "text/plain": [
                            "[<matplotlib.axes._subplots.AxesSubplot at 0x7fb08d1d98d0>,\n",
                            " <matplotlib.axes._subplots.AxesSubplot at 0x7fb08d22b6d0>,\n",
                            " <matplotlib.axes._subplots.AxesSubplot at 0x7fb08d2bc710>,\n",
                            " <matplotlib.axes._subplots.AxesSubplot at 0x7fb08ce32350>,\n",
                            " <matplotlib.axes._subplots.AxesSubplot at 0x7fb08cda4d90>,\n",
                            " <matplotlib.axes._subplots.AxesSubplot at 0x7fb08cba8b90>,\n",
                            " <matplotlib.axes._subplots.AxesSubplot at 0x7fb08cb1ee10>,\n",
                            " <matplotlib.axes._subplots.AxesSubplot at 0x7fb08cab7dd0>,\n",
                            " <matplotlib.axes._subplots.AxesSubplot at 0x7fb08ca2bed0>]"
                        ]
                    },
                    "metadata": {}
                }
            ],
            "metadata": {
                "collapsed": false
            }
        },
        {
            "execution_count": 30,
            "cell_type": "code",
            "source": [
                "from urllib import urlretrieve\n",
                "url = 'http://cook.msm.cam.ac.uk//~hyperspy//EDS_tutorial//'\n",
                "urlretrieve(url + 'core_shell.hdf5', 'core_shell.hdf5')"
            ],
            "outputs": [
                {
                    "execution_count": 30,
                    "output_type": "execute_result",
                    "data": {
                        "text/plain": [
                            "('core_shell.hdf5', <httplib.HTTPMessage instance at 0x7fb08c828bd8>)"
                        ]
                    },
                    "metadata": {}
                }
            ],
            "metadata": {
                "collapsed": false
            }
        },
        {
            "execution_count": 31,
            "cell_type": "code",
            "source": [
                "si_EDS = hs.load(\"core_shell.hdf5\")\n",
                "im = si_EDS.get_lines_intensity()\n",
                "hs.plot.plot_images(\n",
                "im, tight_layout=True, cmap='RdYlBu_r', axes_decor='off',\n",
                "colorbar='single', saturated_pixels=0.0, scalebar='all',\n",
                "scalebar_color='black', suptitle_fontsize=16,\n",
                "padding={'top':0.8, 'bottom':0.10, 'left':0.05,\n",
                "'right':0.85, 'wspace':0.20, 'hspace':0.10})"
            ],
            "outputs": [
                {
                    "execution_count": 31,
                    "output_type": "execute_result",
                    "data": {
                        "text/plain": [
                            "[<matplotlib.axes._subplots.AxesSubplot at 0x7fb08c49bc50>,\n",
                            " <matplotlib.axes._subplots.AxesSubplot at 0x7fb08c4f0310>]"
                        ]
                    },
                    "metadata": {}
                }
            ],
            "metadata": {
                "collapsed": false
            }
        },
        {
            "execution_count": null,
            "cell_type": "code",
            "source": [],
            "outputs": [],
            "metadata": {
                "collapsed": false
            }
        }
    ],
    "nbformat": 4,
    "metadata": {
        "kernelspec": {
            "display_name": "Python 2",
            "name": "python2",
            "language": "python"
        },
        "language_info": {
            "mimetype": "text/x-python",
            "nbconvert_exporter": "python",
            "name": "python",
            "file_extension": ".py",
            "version": "2.7.10",
            "pygments_lexer": "ipython2",
            "codemirror_mode": {
                "version": 2,
                "name": "ipython"
            }
        }
    }
}