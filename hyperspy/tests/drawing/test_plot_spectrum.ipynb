{
 "metadata": {
  "name": "test_plot_spectrum"
 },
 "nbformat": 3,
 "nbformat_minor": 0,
 "worksheets": [
  {
   "cells": [
    {
     "cell_type": "heading",
     "level": 1,
     "metadata": {},
     "source": [
      "Signal1D"
     ]
    },
    {
     "cell_type": "heading",
     "level": 2,
     "metadata": {},
     "source": [
      "Single spectrum"
     ]
    },
    {
     "cell_type": "code",
     "collapsed": false,
     "input": [
      "s = signals.Signal1D((np.arange(100)))\n",
      "s.plot()"
     ],
     "language": "python",
     "metadata": {},
     "outputs": [],
     "prompt_number": 1
    },
    {
     "cell_type": "heading",
     "level": 3,
     "metadata": {},
     "source": [
      "Line spectrum"
     ]
    },
    {
     "cell_type": "heading",
     "level": 4,
     "metadata": {},
     "source": [
      "\"auto\""
     ]
    },
    {
     "cell_type": "code",
     "collapsed": false,
     "input": [
      "s = signals.Signal1D((np.random.random((10,100))))\n",
      "s.plot()"
     ],
     "language": "python",
     "metadata": {},
     "outputs": [],
     "prompt_number": 2
    },
    {
     "cell_type": "heading",
     "level": 4,
     "metadata": {},
     "source": [
      "\"spectrum\""
     ]
    },
    {
     "cell_type": "code",
     "collapsed": false,
     "input": [
      "s = signals.Signal1D((np.random.random((10,100))))\n",
      "s.plot(navigator=\"spectrum\")"
     ],
     "language": "python",
     "metadata": {},
     "outputs": [],
     "prompt_number": 3
    },
    {
     "cell_type": "heading",
     "level": 4,
     "metadata": {},
     "source": [
      "None"
     ]
    },
    {
     "cell_type": "code",
     "collapsed": false,
     "input": [
      "s = signals.Signal1D((np.random.random((10,100))))\n",
      "s.plot(navigator="slider")"
     ],
     "language": "python",
     "metadata": {},
     "outputs": [],
     "prompt_number": 4
    },
    {
     "cell_type": "heading",
     "level": 4,
     "metadata": {},
     "source": [
      "Signal"
     ]
    },
    {
     "cell_type": "code",
     "collapsed": false,
     "input": [
      "s = signals.Signal1D((np.random.random((10,100))))\n",
      "s.plot(navigator=signals.Signal1D(np.arange(10)))"
     ],
     "language": "python",
     "metadata": {},
     "outputs": [],
     "prompt_number": 5
    },
    {
     "cell_type": "heading",
     "level": 3,
     "metadata": {},
     "source": [
      "Signal1D Signal2D"
     ]
    },
    {
     "cell_type": "heading",
     "level": 4,
     "metadata": {},
     "source": [
      "auto"
     ]
    },
    {
     "cell_type": "code",
     "collapsed": false,
     "input": [
      "s = signals.Signal1D((np.random.random(\n",
      "(5,10,100))))\n",
      "s.plot(navigator=\"auto\")"
     ],
     "language": "python",
     "metadata": {},
     "outputs": [],
     "prompt_number": 6
    },
    {
     "cell_type": "heading",
     "level": 4,
     "metadata": {},
     "source": [
      "spectrum"
     ]
    },
    {
     "cell_type": "code",
     "collapsed": false,
     "input": [
      "s = signals.Signal1D((np.random.random((5,10,100))))\n",
      "s.plot(navigator=\"spectrum\")"
     ],
     "language": "python",
     "metadata": {},
     "outputs": [],
     "prompt_number": 7
    },
    {
     "cell_type": "heading",
     "level": 4,
     "metadata": {},
     "source": [
      "None"
     ]
    },
    {
     "cell_type": "code",
     "collapsed": false,
     "input": [
      "s = signals.Signal1D((np.random.random((5,10,100))))\n",
      "s.plot(navigator="slider")"
     ],
     "language": "python",
     "metadata": {},
     "outputs": [],
     "prompt_number": 8
    },
    {
     "cell_type": "heading",
     "level": 4,
     "metadata": {},
     "source": [
      "Signal"
     ]
    },
    {
     "cell_type": "code",
     "collapsed": false,
     "input": [
      "s = signals.Signal1D((np.random.random((5, 10,100))))\n",
      "s.plot(navigator=signals.Signal2D(np.zeros((5,10))))"
     ],
     "language": "python",
     "metadata": {},
     "outputs": [
      {
       "output_type": "stream",
       "stream": "stderr",
       "text": [
        "/home/fjd29/Documents/Software/EPD/EPD7.3-2/epd-7.3-2-rh5-x86_64/lib/python2.7/site-packages/matplotlib/colorbar.py:808: RuntimeWarning: invalid value encountered in divide\n",
        "  z = np.take(y, i0) + (xn-np.take(b,i0))*dy/db\n"
       ]
      }
     ],
     "prompt_number": 9
    },
    {
     "cell_type": "code",
     "collapsed": false,
     "input": [
      "s = signals.Signal1D((np.random.random((5, 10,100))))\n",
      "s.plot(navigator=signals.Signal1D(np.zeros((10))))"
     ],
     "language": "python",
     "metadata": {},
     "outputs": [],
     "prompt_number": 2
    },
    {
     "cell_type": "code",
     "collapsed": false,
     "input": [
      "s = signals.Signal1D((np.random.random((5, 10,100))))\n",
      "s.plot(navigator=signals.Signal1D(np.random.random((5,10))))"
     ],
     "language": "python",
     "metadata": {},
     "outputs": [],
     "prompt_number": 10
    },
    {
     "cell_type": "heading",
     "level": 3,
     "metadata": {},
     "source": [
      "3D navigation space"
     ]
    },
    {
     "cell_type": "heading",
     "level": 4,
     "metadata": {},
     "source": [
      "auto"
     ]
    },
    {
     "cell_type": "code",
     "collapsed": false,
     "input": [
      "s = signals.Signal1D((np.random.random((4,5,10,100))))\n",
      "s.plot(navigator=\"auto\")"
     ],
     "language": "python",
     "metadata": {},
     "outputs": [],
     "prompt_number": 11
    },
    {
     "cell_type": "heading",
     "level": 4,
     "metadata": {},
     "source": [
      "spectrum"
     ]
    },
    {
     "cell_type": "code",
     "collapsed": false,
     "input": [
      "s = signals.Signal1D((np.random.random((4,5,10,100))))\n",
      "s.plot(navigator=\"spectrum\")"
     ],
     "language": "python",
     "metadata": {},
     "outputs": [],
     "prompt_number": 12
    },
    {
     "cell_type": "heading",
     "level": 4,
     "metadata": {},
     "source": [
      "None"
     ]
    },
    {
     "cell_type": "code",
     "collapsed": false,
     "input": [
      "s = signals.Signal1D((np.random.random((4,5,10,100))))\n",
      "s.plot(navigator="slider")"
     ],
     "language": "python",
     "metadata": {},
     "outputs": [],
     "prompt_number": 1
    },
    {
     "cell_type": "heading",
     "level": 4,
     "metadata": {},
     "source": [
      "Signal"
     ]
    },
    {
     "cell_type": "code",
     "collapsed": false,
     "input": [
      "s = signals.Signal1D((np.random.random((4, 5, 10,100))))\n",
      "s.plot(navigator=signals.Signal2D(np.zeros((5,10))))"
     ],
     "language": "python",
     "metadata": {},
     "outputs": [],
     "prompt_number": 13
    },
    {
     "cell_type": "code",
     "collapsed": false,
     "input": [
      "s = signals.Signal1D((np.random.random((4, 5, 10,100))))\n",
      "s.plot(navigator=signals.Signal1D(arange(10)))"
     ],
     "language": "python",
     "metadata": {},
     "outputs": [],
     "prompt_number": 14
    },
    {
     "cell_type": "code",
     "collapsed": false,
     "input": [
      "s = signals.Signal1D((np.random.random((4, 5, 10,100))))\n",
      "s.plot(navigator=signals.Signal2D(np.random.random((4, 5, 10))))"
     ],
     "language": "python",
     "metadata": {},
     "outputs": [],
     "prompt_number": 15
    }
   ],
   "metadata": {}
  }
 ]
}
